{
 "cells": [
  {
   "cell_type": "markdown",
   "id": "b39b438d",
   "metadata": {},
   "source": [
    "# A DLC project was previously created and trained on 6 videos of a single subject's facial expressions."
   ]
  },
  {
   "cell_type": "markdown",
   "id": "6b5333bc",
   "metadata": {},
   "source": [
    "First, import deeplabcut and load the previous project."
   ]
  },
  {
   "cell_type": "code",
   "execution_count": 21,
   "id": "8f53942e",
   "metadata": {},
   "outputs": [],
   "source": [
    "import deeplabcut\n",
    "#deeplabcut.launch_dlc()\n",
    "import tkinter\n",
    "from tkinter import filedialog"
   ]
  },
  {
   "cell_type": "code",
   "execution_count": 19,
   "id": "1c0a5dd2",
   "metadata": {},
   "outputs": [],
   "source": [
    "config = filedialog.askopenfilenames(title='Choose the config file of your DeepLabCut project:')\n",
    "path_config_file = config[0]"
   ]
  },
  {
   "cell_type": "markdown",
   "id": "aece644a",
   "metadata": {},
   "source": [
    "As in Nath et al. 2019 Figure 2, steps 13 to 15 consist of analyzing novel videos, extracting outlier frames, refining those frames, merging datasets and retraining the model"
   ]
  },
  {
   "cell_type": "code",
   "execution_count": 22,
   "id": "e26e78fd",
   "metadata": {},
   "outputs": [],
   "source": [
    "video_files = filedialog.askopenfilenames(title='Choose new video files to analyze in DeepLabCut:')\n",
    "new_videos = list(video_files)"
   ]
  },
  {
   "cell_type": "markdown",
   "id": "70d4af73",
   "metadata": {},
   "source": [
    "Step 13: Analyze new videos\n",
    "\n",
    "Note that at this point we expect generalization errors to some degree! These errors will help us re-train the model with exactly those cases with which the previous model struggels. This way you avoid labeling redundant frames."
   ]
  },
  {
   "cell_type": "code",
   "execution_count": 23,
   "id": "0ff38822",
   "metadata": {},
   "outputs": [
    {
     "name": "stdout",
     "output_type": "stream",
     "text": [
      "Using snapshot-1030000 for model D:/3DBHVR/FacialExpression_20210414/DLC-Guillermo-2021-04-14\\dlc-models\\iteration-0\\DLCApr14-trainset95shuffle1\n",
      "Initializing ResNet\n"
     ]
    },
    {
     "name": "stderr",
     "output_type": "stream",
     "text": [
      "\r",
      "  0%|                                                                                      | 0/1635 [00:00<?, ?it/s]"
     ]
    },
    {
     "name": "stdout",
     "output_type": "stream",
     "text": [
      "Starting to analyze %  D:/3DBHVR/FacialExpression_20210414/DLC-Guillermo-2021-04-14/new-videos/subject2.2_cam-A.avi\n",
      "D:\\3DBHVR\\FacialExpression_20210414\\DLC-Guillermo-2021-04-14\\new-videos  already exists!\n",
      "Loading  D:/3DBHVR/FacialExpression_20210414/DLC-Guillermo-2021-04-14/new-videos/subject2.2_cam-A.avi\n",
      "Duration of video [s]:  16.35 , recorded with  100.0 fps!\n",
      "Overall # of frames:  1635  found with (before cropping) frame dimensions:  1440 1080\n",
      "Starting to extract posture\n"
     ]
    },
    {
     "name": "stderr",
     "output_type": "stream",
     "text": [
      "1648it [01:59, 13.73it/s]                                                                                           \n"
     ]
    },
    {
     "name": "stdout",
     "output_type": "stream",
     "text": [
      "Saving results in D:\\3DBHVR\\FacialExpression_20210414\\DLC-Guillermo-2021-04-14\\new-videos...\n",
      "Saving csv poses!\n"
     ]
    },
    {
     "name": "stderr",
     "output_type": "stream",
     "text": [
      "\r",
      "  0%|                                                                                      | 0/1636 [00:00<?, ?it/s]"
     ]
    },
    {
     "name": "stdout",
     "output_type": "stream",
     "text": [
      "Starting to analyze %  D:/3DBHVR/FacialExpression_20210414/DLC-Guillermo-2021-04-14/new-videos/subject2.2_cam-B.avi\n",
      "D:\\3DBHVR\\FacialExpression_20210414\\DLC-Guillermo-2021-04-14\\new-videos  already exists!\n",
      "Loading  D:/3DBHVR/FacialExpression_20210414/DLC-Guillermo-2021-04-14/new-videos/subject2.2_cam-B.avi\n",
      "Duration of video [s]:  16.36 , recorded with  100.0 fps!\n",
      "Overall # of frames:  1636  found with (before cropping) frame dimensions:  1440 1080\n",
      "Starting to extract posture\n"
     ]
    },
    {
     "name": "stderr",
     "output_type": "stream",
     "text": [
      "1648it [02:01, 13.60it/s]                                                                                           \n"
     ]
    },
    {
     "name": "stdout",
     "output_type": "stream",
     "text": [
      "Saving results in D:\\3DBHVR\\FacialExpression_20210414\\DLC-Guillermo-2021-04-14\\new-videos...\n",
      "Saving csv poses!\n",
      "Starting to analyze %  D:/3DBHVR/FacialExpression_20210414/DLC-Guillermo-2021-04-14/new-videos/subject2.2_cam-C.avi\n"
     ]
    },
    {
     "name": "stderr",
     "output_type": "stream",
     "text": [
      "\r",
      "  0%|                                                                                      | 0/1636 [00:00<?, ?it/s]"
     ]
    },
    {
     "name": "stdout",
     "output_type": "stream",
     "text": [
      "D:\\3DBHVR\\FacialExpression_20210414\\DLC-Guillermo-2021-04-14\\new-videos  already exists!\n",
      "Loading  D:/3DBHVR/FacialExpression_20210414/DLC-Guillermo-2021-04-14/new-videos/subject2.2_cam-C.avi\n",
      "Duration of video [s]:  16.36 , recorded with  100.0 fps!\n",
      "Overall # of frames:  1636  found with (before cropping) frame dimensions:  1440 1080\n",
      "Starting to extract posture\n"
     ]
    },
    {
     "name": "stderr",
     "output_type": "stream",
     "text": [
      "1648it [01:55, 14.32it/s]                                                                                           \n"
     ]
    },
    {
     "name": "stdout",
     "output_type": "stream",
     "text": [
      "Saving results in D:\\3DBHVR\\FacialExpression_20210414\\DLC-Guillermo-2021-04-14\\new-videos...\n",
      "Saving csv poses!\n",
      "Starting to analyze %  D:/3DBHVR/FacialExpression_20210414/DLC-Guillermo-2021-04-14/new-videos/subject2.2_cam-D.avi\n"
     ]
    },
    {
     "name": "stderr",
     "output_type": "stream",
     "text": [
      "\r",
      "  0%|                                                                                      | 0/1636 [00:00<?, ?it/s]"
     ]
    },
    {
     "name": "stdout",
     "output_type": "stream",
     "text": [
      "D:\\3DBHVR\\FacialExpression_20210414\\DLC-Guillermo-2021-04-14\\new-videos  already exists!\n",
      "Loading  D:/3DBHVR/FacialExpression_20210414/DLC-Guillermo-2021-04-14/new-videos/subject2.2_cam-D.avi\n",
      "Duration of video [s]:  16.36 , recorded with  100.0 fps!\n",
      "Overall # of frames:  1636  found with (before cropping) frame dimensions:  1440 1080\n",
      "Starting to extract posture\n"
     ]
    },
    {
     "name": "stderr",
     "output_type": "stream",
     "text": [
      "1648it [02:39, 10.32it/s]                                                                                           \n"
     ]
    },
    {
     "name": "stdout",
     "output_type": "stream",
     "text": [
      "Saving results in D:\\3DBHVR\\FacialExpression_20210414\\DLC-Guillermo-2021-04-14\\new-videos...\n",
      "Saving csv poses!\n",
      "Starting to analyze %  D:/3DBHVR/FacialExpression_20210414/DLC-Guillermo-2021-04-14/new-videos/subject2.2_cam-E.avi\n",
      "D:\\3DBHVR\\FacialExpression_20210414\\DLC-Guillermo-2021-04-14\\new-videos  already exists!\n",
      "Loading  D:/3DBHVR/FacialExpression_20210414/DLC-Guillermo-2021-04-14/new-videos/subject2.2_cam-E.avi\n"
     ]
    },
    {
     "name": "stderr",
     "output_type": "stream",
     "text": [
      "\r",
      "  0%|                                                                                      | 0/1635 [00:00<?, ?it/s]"
     ]
    },
    {
     "name": "stdout",
     "output_type": "stream",
     "text": [
      "Duration of video [s]:  16.35 , recorded with  100.0 fps!\n",
      "Overall # of frames:  1635  found with (before cropping) frame dimensions:  1440 1080\n",
      "Starting to extract posture\n"
     ]
    },
    {
     "name": "stderr",
     "output_type": "stream",
     "text": [
      "1648it [03:44,  7.33it/s]                                                                                           \n"
     ]
    },
    {
     "name": "stdout",
     "output_type": "stream",
     "text": [
      "Saving results in D:\\3DBHVR\\FacialExpression_20210414\\DLC-Guillermo-2021-04-14\\new-videos...\n",
      "Saving csv poses!\n"
     ]
    },
    {
     "name": "stderr",
     "output_type": "stream",
     "text": [
      "\r",
      "  0%|                                                                                      | 0/1636 [00:00<?, ?it/s]"
     ]
    },
    {
     "name": "stdout",
     "output_type": "stream",
     "text": [
      "Starting to analyze %  D:/3DBHVR/FacialExpression_20210414/DLC-Guillermo-2021-04-14/new-videos/subject2.2_cam-F.avi\n",
      "D:\\3DBHVR\\FacialExpression_20210414\\DLC-Guillermo-2021-04-14\\new-videos  already exists!\n",
      "Loading  D:/3DBHVR/FacialExpression_20210414/DLC-Guillermo-2021-04-14/new-videos/subject2.2_cam-F.avi\n",
      "Duration of video [s]:  16.36 , recorded with  100.0 fps!\n",
      "Overall # of frames:  1636  found with (before cropping) frame dimensions:  1440 1080\n",
      "Starting to extract posture\n"
     ]
    },
    {
     "name": "stderr",
     "output_type": "stream",
     "text": [
      "1648it [03:23,  8.08it/s]                                                                                           \n"
     ]
    },
    {
     "name": "stdout",
     "output_type": "stream",
     "text": [
      "Saving results in D:\\3DBHVR\\FacialExpression_20210414\\DLC-Guillermo-2021-04-14\\new-videos...\n",
      "Saving csv poses!\n"
     ]
    },
    {
     "name": "stderr",
     "output_type": "stream",
     "text": [
      "\r",
      "  0%|                                                                                      | 0/1457 [00:00<?, ?it/s]"
     ]
    },
    {
     "name": "stdout",
     "output_type": "stream",
     "text": [
      "Starting to analyze %  D:/3DBHVR/FacialExpression_20210414/DLC-Guillermo-2021-04-14/new-videos/subject2.3_cam-A.avi\n",
      "D:\\3DBHVR\\FacialExpression_20210414\\DLC-Guillermo-2021-04-14\\new-videos  already exists!\n",
      "Loading  D:/3DBHVR/FacialExpression_20210414/DLC-Guillermo-2021-04-14/new-videos/subject2.3_cam-A.avi\n",
      "Duration of video [s]:  14.57 , recorded with  100.0 fps!\n",
      "Overall # of frames:  1457  found with (before cropping) frame dimensions:  1440 1080\n",
      "Starting to extract posture\n"
     ]
    },
    {
     "name": "stderr",
     "output_type": "stream",
     "text": [
      "1470it [01:43, 14.17it/s]                                                                                           \n"
     ]
    },
    {
     "name": "stdout",
     "output_type": "stream",
     "text": [
      "Saving results in D:\\3DBHVR\\FacialExpression_20210414\\DLC-Guillermo-2021-04-14\\new-videos...\n",
      "Saving csv poses!\n"
     ]
    },
    {
     "name": "stderr",
     "output_type": "stream",
     "text": [
      "\r",
      "  0%|                                                                                      | 0/1450 [00:00<?, ?it/s]"
     ]
    },
    {
     "name": "stdout",
     "output_type": "stream",
     "text": [
      "Starting to analyze %  D:/3DBHVR/FacialExpression_20210414/DLC-Guillermo-2021-04-14/new-videos/subject2.3_cam-B.avi\n",
      "D:\\3DBHVR\\FacialExpression_20210414\\DLC-Guillermo-2021-04-14\\new-videos  already exists!\n",
      "Loading  D:/3DBHVR/FacialExpression_20210414/DLC-Guillermo-2021-04-14/new-videos/subject2.3_cam-B.avi\n",
      "Duration of video [s]:  14.5 , recorded with  100.0 fps!\n",
      "Overall # of frames:  1450  found with (before cropping) frame dimensions:  1440 1080\n",
      "Starting to extract posture\n"
     ]
    },
    {
     "name": "stderr",
     "output_type": "stream",
     "text": [
      "1456it [01:47, 13.50it/s]                                                                                           \n"
     ]
    },
    {
     "name": "stdout",
     "output_type": "stream",
     "text": [
      "Saving results in D:\\3DBHVR\\FacialExpression_20210414\\DLC-Guillermo-2021-04-14\\new-videos...\n",
      "Saving csv poses!\n"
     ]
    },
    {
     "name": "stderr",
     "output_type": "stream",
     "text": [
      "\r",
      "  0%|                                                                                      | 0/1458 [00:00<?, ?it/s]"
     ]
    },
    {
     "name": "stdout",
     "output_type": "stream",
     "text": [
      "Starting to analyze %  D:/3DBHVR/FacialExpression_20210414/DLC-Guillermo-2021-04-14/new-videos/subject2.3_cam-C.avi\n",
      "D:\\3DBHVR\\FacialExpression_20210414\\DLC-Guillermo-2021-04-14\\new-videos  already exists!\n",
      "Loading  D:/3DBHVR/FacialExpression_20210414/DLC-Guillermo-2021-04-14/new-videos/subject2.3_cam-C.avi\n",
      "Duration of video [s]:  14.58 , recorded with  100.0 fps!\n",
      "Overall # of frames:  1458  found with (before cropping) frame dimensions:  1440 1080\n",
      "Starting to extract posture\n"
     ]
    },
    {
     "name": "stderr",
     "output_type": "stream",
     "text": [
      "1470it [01:42, 14.33it/s]                                                                                           \n"
     ]
    },
    {
     "name": "stdout",
     "output_type": "stream",
     "text": [
      "Saving results in D:\\3DBHVR\\FacialExpression_20210414\\DLC-Guillermo-2021-04-14\\new-videos...\n",
      "Saving csv poses!\n",
      "Starting to analyze %  D:/3DBHVR/FacialExpression_20210414/DLC-Guillermo-2021-04-14/new-videos/subject2.3_cam-D.avi\n"
     ]
    },
    {
     "name": "stderr",
     "output_type": "stream",
     "text": [
      "\r",
      "  0%|                                                                                      | 0/1458 [00:00<?, ?it/s]"
     ]
    },
    {
     "name": "stdout",
     "output_type": "stream",
     "text": [
      "D:\\3DBHVR\\FacialExpression_20210414\\DLC-Guillermo-2021-04-14\\new-videos  already exists!\n",
      "Loading  D:/3DBHVR/FacialExpression_20210414/DLC-Guillermo-2021-04-14/new-videos/subject2.3_cam-D.avi\n",
      "Duration of video [s]:  14.58 , recorded with  100.0 fps!\n",
      "Overall # of frames:  1458  found with (before cropping) frame dimensions:  1440 1080\n",
      "Starting to extract posture\n"
     ]
    },
    {
     "name": "stderr",
     "output_type": "stream",
     "text": [
      "1470it [01:47, 13.69it/s]                                                                                           \n"
     ]
    },
    {
     "name": "stdout",
     "output_type": "stream",
     "text": [
      "Saving results in D:\\3DBHVR\\FacialExpression_20210414\\DLC-Guillermo-2021-04-14\\new-videos...\n",
      "Saving csv poses!\n",
      "Starting to analyze %  D:/3DBHVR/FacialExpression_20210414/DLC-Guillermo-2021-04-14/new-videos/subject2.3_cam-E.avi\n"
     ]
    },
    {
     "name": "stderr",
     "output_type": "stream",
     "text": [
      "\r",
      "  0%|                                                                                      | 0/1450 [00:00<?, ?it/s]"
     ]
    },
    {
     "name": "stdout",
     "output_type": "stream",
     "text": [
      "D:\\3DBHVR\\FacialExpression_20210414\\DLC-Guillermo-2021-04-14\\new-videos  already exists!\n",
      "Loading  D:/3DBHVR/FacialExpression_20210414/DLC-Guillermo-2021-04-14/new-videos/subject2.3_cam-E.avi\n",
      "Duration of video [s]:  14.5 , recorded with  100.0 fps!\n",
      "Overall # of frames:  1450  found with (before cropping) frame dimensions:  1440 1080\n",
      "Starting to extract posture\n"
     ]
    },
    {
     "name": "stderr",
     "output_type": "stream",
     "text": [
      "1456it [01:39, 14.64it/s]                                                                                           \n"
     ]
    },
    {
     "name": "stdout",
     "output_type": "stream",
     "text": [
      "Saving results in D:\\3DBHVR\\FacialExpression_20210414\\DLC-Guillermo-2021-04-14\\new-videos...\n",
      "Saving csv poses!\n"
     ]
    },
    {
     "name": "stderr",
     "output_type": "stream",
     "text": [
      "\r",
      "  0%|                                                                                      | 0/1458 [00:00<?, ?it/s]"
     ]
    },
    {
     "name": "stdout",
     "output_type": "stream",
     "text": [
      "Starting to analyze %  D:/3DBHVR/FacialExpression_20210414/DLC-Guillermo-2021-04-14/new-videos/subject2.3_cam-F.avi\n",
      "D:\\3DBHVR\\FacialExpression_20210414\\DLC-Guillermo-2021-04-14\\new-videos  already exists!\n",
      "Loading  D:/3DBHVR/FacialExpression_20210414/DLC-Guillermo-2021-04-14/new-videos/subject2.3_cam-F.avi\n",
      "Duration of video [s]:  14.58 , recorded with  100.0 fps!\n",
      "Overall # of frames:  1458  found with (before cropping) frame dimensions:  1440 1080\n",
      "Starting to extract posture\n"
     ]
    },
    {
     "name": "stderr",
     "output_type": "stream",
     "text": [
      "1470it [01:50, 13.35it/s]                                                                                           \n"
     ]
    },
    {
     "name": "stdout",
     "output_type": "stream",
     "text": [
      "Saving results in D:\\3DBHVR\\FacialExpression_20210414\\DLC-Guillermo-2021-04-14\\new-videos...\n",
      "Saving csv poses!\n",
      "Starting to analyze %  D:/3DBHVR/FacialExpression_20210414/DLC-Guillermo-2021-04-14/new-videos/subject2_cam-A.avi\n"
     ]
    },
    {
     "name": "stderr",
     "output_type": "stream",
     "text": [
      "\r",
      "  0%|                                                                                      | 0/2528 [00:00<?, ?it/s]"
     ]
    },
    {
     "name": "stdout",
     "output_type": "stream",
     "text": [
      "D:\\3DBHVR\\FacialExpression_20210414\\DLC-Guillermo-2021-04-14\\new-videos  already exists!\n",
      "Loading  D:/3DBHVR/FacialExpression_20210414/DLC-Guillermo-2021-04-14/new-videos/subject2_cam-A.avi\n",
      "Duration of video [s]:  25.28 , recorded with  100.0 fps!\n",
      "Overall # of frames:  2528  found with (before cropping) frame dimensions:  1440 1080\n",
      "Starting to extract posture\n"
     ]
    },
    {
     "name": "stderr",
     "output_type": "stream",
     "text": [
      "2550it [02:58, 14.27it/s]                                                                                           \n"
     ]
    },
    {
     "name": "stdout",
     "output_type": "stream",
     "text": [
      "Saving results in D:\\3DBHVR\\FacialExpression_20210414\\DLC-Guillermo-2021-04-14\\new-videos...\n",
      "Saving csv poses!\n"
     ]
    },
    {
     "name": "stderr",
     "output_type": "stream",
     "text": [
      "\r",
      "  0%|                                                                                      | 0/2521 [00:00<?, ?it/s]"
     ]
    },
    {
     "name": "stdout",
     "output_type": "stream",
     "text": [
      "Starting to analyze %  D:/3DBHVR/FacialExpression_20210414/DLC-Guillermo-2021-04-14/new-videos/subject2_cam-B.avi\n",
      "D:\\3DBHVR\\FacialExpression_20210414\\DLC-Guillermo-2021-04-14\\new-videos  already exists!\n",
      "Loading  D:/3DBHVR/FacialExpression_20210414/DLC-Guillermo-2021-04-14/new-videos/subject2_cam-B.avi\n",
      "Duration of video [s]:  25.21 , recorded with  100.0 fps!\n",
      "Overall # of frames:  2521  found with (before cropping) frame dimensions:  1440 1080\n",
      "Starting to extract posture\n"
     ]
    },
    {
     "name": "stderr",
     "output_type": "stream",
     "text": [
      "2525it [03:06, 13.56it/s]                                                                                           \n"
     ]
    },
    {
     "name": "stdout",
     "output_type": "stream",
     "text": [
      "Saving results in D:\\3DBHVR\\FacialExpression_20210414\\DLC-Guillermo-2021-04-14\\new-videos...\n",
      "Saving csv poses!\n"
     ]
    },
    {
     "name": "stderr",
     "output_type": "stream",
     "text": [
      "\r",
      "  0%|                                                                                      | 0/2529 [00:00<?, ?it/s]"
     ]
    },
    {
     "name": "stdout",
     "output_type": "stream",
     "text": [
      "Starting to analyze %  D:/3DBHVR/FacialExpression_20210414/DLC-Guillermo-2021-04-14/new-videos/subject2_cam-C.avi\n",
      "D:\\3DBHVR\\FacialExpression_20210414\\DLC-Guillermo-2021-04-14\\new-videos  already exists!\n",
      "Loading  D:/3DBHVR/FacialExpression_20210414/DLC-Guillermo-2021-04-14/new-videos/subject2_cam-C.avi\n",
      "Duration of video [s]:  25.29 , recorded with  100.0 fps!\n",
      "Overall # of frames:  2529  found with (before cropping) frame dimensions:  1440 1080\n",
      "Starting to extract posture\n"
     ]
    },
    {
     "name": "stderr",
     "output_type": "stream",
     "text": [
      "2550it [02:57, 14.38it/s]                                                                                           \n"
     ]
    },
    {
     "name": "stdout",
     "output_type": "stream",
     "text": [
      "Saving results in D:\\3DBHVR\\FacialExpression_20210414\\DLC-Guillermo-2021-04-14\\new-videos...\n",
      "Saving csv poses!\n"
     ]
    },
    {
     "name": "stderr",
     "output_type": "stream",
     "text": [
      "\r",
      "  0%|                                                                                      | 0/2529 [00:00<?, ?it/s]"
     ]
    },
    {
     "name": "stdout",
     "output_type": "stream",
     "text": [
      "Starting to analyze %  D:/3DBHVR/FacialExpression_20210414/DLC-Guillermo-2021-04-14/new-videos/subject2_cam-D.avi\n",
      "D:\\3DBHVR\\FacialExpression_20210414\\DLC-Guillermo-2021-04-14\\new-videos  already exists!\n",
      "Loading  D:/3DBHVR/FacialExpression_20210414/DLC-Guillermo-2021-04-14/new-videos/subject2_cam-D.avi\n",
      "Duration of video [s]:  25.29 , recorded with  100.0 fps!\n",
      "Overall # of frames:  2529  found with (before cropping) frame dimensions:  1440 1080\n",
      "Starting to extract posture\n"
     ]
    },
    {
     "name": "stderr",
     "output_type": "stream",
     "text": [
      "2550it [03:05, 13.73it/s]                                                                                           \n"
     ]
    },
    {
     "name": "stdout",
     "output_type": "stream",
     "text": [
      "Saving results in D:\\3DBHVR\\FacialExpression_20210414\\DLC-Guillermo-2021-04-14\\new-videos...\n",
      "Saving csv poses!\n"
     ]
    },
    {
     "name": "stderr",
     "output_type": "stream",
     "text": [
      "\r",
      "  0%|                                                                                      | 0/2521 [00:00<?, ?it/s]"
     ]
    },
    {
     "name": "stdout",
     "output_type": "stream",
     "text": [
      "Starting to analyze %  D:/3DBHVR/FacialExpression_20210414/DLC-Guillermo-2021-04-14/new-videos/subject2_cam-E.avi\n",
      "D:\\3DBHVR\\FacialExpression_20210414\\DLC-Guillermo-2021-04-14\\new-videos  already exists!\n",
      "Loading  D:/3DBHVR/FacialExpression_20210414/DLC-Guillermo-2021-04-14/new-videos/subject2_cam-E.avi\n",
      "Duration of video [s]:  25.21 , recorded with  100.0 fps!\n",
      "Overall # of frames:  2521  found with (before cropping) frame dimensions:  1440 1080\n",
      "Starting to extract posture\n"
     ]
    },
    {
     "name": "stderr",
     "output_type": "stream",
     "text": [
      "2525it [02:50, 14.84it/s]                                                                                           \n"
     ]
    },
    {
     "name": "stdout",
     "output_type": "stream",
     "text": [
      "Saving results in D:\\3DBHVR\\FacialExpression_20210414\\DLC-Guillermo-2021-04-14\\new-videos...\n",
      "Saving csv poses!\n"
     ]
    },
    {
     "name": "stderr",
     "output_type": "stream",
     "text": [
      "\r",
      "  0%|                                                                                      | 0/2529 [00:00<?, ?it/s]"
     ]
    },
    {
     "name": "stdout",
     "output_type": "stream",
     "text": [
      "Starting to analyze %  D:/3DBHVR/FacialExpression_20210414/DLC-Guillermo-2021-04-14/new-videos/subject2_cam-F.avi\n",
      "D:\\3DBHVR\\FacialExpression_20210414\\DLC-Guillermo-2021-04-14\\new-videos  already exists!\n",
      "Loading  D:/3DBHVR/FacialExpression_20210414/DLC-Guillermo-2021-04-14/new-videos/subject2_cam-F.avi\n",
      "Duration of video [s]:  25.29 , recorded with  100.0 fps!\n",
      "Overall # of frames:  2529  found with (before cropping) frame dimensions:  1440 1080\n",
      "Starting to extract posture\n"
     ]
    },
    {
     "name": "stderr",
     "output_type": "stream",
     "text": [
      "2550it [03:09, 13.47it/s]                                                                                           \n"
     ]
    },
    {
     "name": "stdout",
     "output_type": "stream",
     "text": [
      "Saving results in D:\\3DBHVR\\FacialExpression_20210414\\DLC-Guillermo-2021-04-14\\new-videos...\n",
      "Saving csv poses!\n"
     ]
    },
    {
     "name": "stderr",
     "output_type": "stream",
     "text": [
      "\r",
      "  0%|                                                                                      | 0/1649 [00:00<?, ?it/s]"
     ]
    },
    {
     "name": "stdout",
     "output_type": "stream",
     "text": [
      "Starting to analyze %  D:/3DBHVR/FacialExpression_20210414/DLC-Guillermo-2021-04-14/new-videos/subject3.2_cam-A.avi\n",
      "D:\\3DBHVR\\FacialExpression_20210414\\DLC-Guillermo-2021-04-14\\new-videos  already exists!\n",
      "Loading  D:/3DBHVR/FacialExpression_20210414/DLC-Guillermo-2021-04-14/new-videos/subject3.2_cam-A.avi\n",
      "Duration of video [s]:  16.49 , recorded with  100.0 fps!\n",
      "Overall # of frames:  1649  found with (before cropping) frame dimensions:  1440 1080\n",
      "Starting to extract posture\n"
     ]
    },
    {
     "name": "stderr",
     "output_type": "stream",
     "text": [
      "1664it [01:57, 14.13it/s]                                                                                           \n"
     ]
    },
    {
     "name": "stdout",
     "output_type": "stream",
     "text": [
      "Saving results in D:\\3DBHVR\\FacialExpression_20210414\\DLC-Guillermo-2021-04-14\\new-videos...\n",
      "Saving csv poses!\n",
      "Starting to analyze %  D:/3DBHVR/FacialExpression_20210414/DLC-Guillermo-2021-04-14/new-videos/subject3.2_cam-B.avi\n"
     ]
    },
    {
     "name": "stderr",
     "output_type": "stream",
     "text": [
      "\r",
      "  0%|                                                                                      | 0/1645 [00:00<?, ?it/s]"
     ]
    },
    {
     "name": "stdout",
     "output_type": "stream",
     "text": [
      "D:\\3DBHVR\\FacialExpression_20210414\\DLC-Guillermo-2021-04-14\\new-videos  already exists!\n",
      "Loading  D:/3DBHVR/FacialExpression_20210414/DLC-Guillermo-2021-04-14/new-videos/subject3.2_cam-B.avi\n",
      "Duration of video [s]:  16.45 , recorded with  100.0 fps!\n",
      "Overall # of frames:  1645  found with (before cropping) frame dimensions:  1440 1080\n",
      "Starting to extract posture\n"
     ]
    },
    {
     "name": "stderr",
     "output_type": "stream",
     "text": [
      "1648it [02:00, 13.67it/s]                                                                                           \n"
     ]
    },
    {
     "name": "stdout",
     "output_type": "stream",
     "text": [
      "Saving results in D:\\3DBHVR\\FacialExpression_20210414\\DLC-Guillermo-2021-04-14\\new-videos...\n",
      "Saving csv poses!\n"
     ]
    },
    {
     "name": "stderr",
     "output_type": "stream",
     "text": [
      "\r",
      "  0%|                                                                                      | 0/1651 [00:00<?, ?it/s]"
     ]
    },
    {
     "name": "stdout",
     "output_type": "stream",
     "text": [
      "Starting to analyze %  D:/3DBHVR/FacialExpression_20210414/DLC-Guillermo-2021-04-14/new-videos/subject3.2_cam-C.avi\n",
      "D:\\3DBHVR\\FacialExpression_20210414\\DLC-Guillermo-2021-04-14\\new-videos  already exists!\n",
      "Loading  D:/3DBHVR/FacialExpression_20210414/DLC-Guillermo-2021-04-14/new-videos/subject3.2_cam-C.avi\n",
      "Duration of video [s]:  16.51 , recorded with  100.0 fps!\n",
      "Overall # of frames:  1651  found with (before cropping) frame dimensions:  1440 1080\n",
      "Starting to extract posture\n"
     ]
    },
    {
     "name": "stderr",
     "output_type": "stream",
     "text": [
      "1664it [01:55, 14.42it/s]                                                                                           \n"
     ]
    },
    {
     "name": "stdout",
     "output_type": "stream",
     "text": [
      "Saving results in D:\\3DBHVR\\FacialExpression_20210414\\DLC-Guillermo-2021-04-14\\new-videos...\n",
      "Saving csv poses!\n"
     ]
    },
    {
     "name": "stderr",
     "output_type": "stream",
     "text": [
      "\r",
      "  0%|                                                                                      | 0/1651 [00:00<?, ?it/s]"
     ]
    },
    {
     "name": "stdout",
     "output_type": "stream",
     "text": [
      "Starting to analyze %  D:/3DBHVR/FacialExpression_20210414/DLC-Guillermo-2021-04-14/new-videos/subject3.2_cam-D.avi\n",
      "D:\\3DBHVR\\FacialExpression_20210414\\DLC-Guillermo-2021-04-14\\new-videos  already exists!\n",
      "Loading  D:/3DBHVR/FacialExpression_20210414/DLC-Guillermo-2021-04-14/new-videos/subject3.2_cam-D.avi\n",
      "Duration of video [s]:  16.51 , recorded with  100.0 fps!\n",
      "Overall # of frames:  1651  found with (before cropping) frame dimensions:  1440 1080\n",
      "Starting to extract posture\n"
     ]
    },
    {
     "name": "stderr",
     "output_type": "stream",
     "text": [
      "1664it [02:02, 13.58it/s]                                                                                           \n"
     ]
    },
    {
     "name": "stdout",
     "output_type": "stream",
     "text": [
      "Saving results in D:\\3DBHVR\\FacialExpression_20210414\\DLC-Guillermo-2021-04-14\\new-videos...\n",
      "Saving csv poses!\n"
     ]
    },
    {
     "name": "stderr",
     "output_type": "stream",
     "text": [
      "\r",
      "  0%|                                                                                      | 0/1643 [00:00<?, ?it/s]"
     ]
    },
    {
     "name": "stdout",
     "output_type": "stream",
     "text": [
      "Starting to analyze %  D:/3DBHVR/FacialExpression_20210414/DLC-Guillermo-2021-04-14/new-videos/subject3.2_cam-E.avi\n",
      "D:\\3DBHVR\\FacialExpression_20210414\\DLC-Guillermo-2021-04-14\\new-videos  already exists!\n",
      "Loading  D:/3DBHVR/FacialExpression_20210414/DLC-Guillermo-2021-04-14/new-videos/subject3.2_cam-E.avi\n",
      "Duration of video [s]:  16.43 , recorded with  100.0 fps!\n",
      "Overall # of frames:  1643  found with (before cropping) frame dimensions:  1440 1080\n",
      "Starting to extract posture\n"
     ]
    },
    {
     "name": "stderr",
     "output_type": "stream",
     "text": [
      "1648it [01:53, 14.48it/s]                                                                                           \n"
     ]
    },
    {
     "name": "stdout",
     "output_type": "stream",
     "text": [
      "Saving results in D:\\3DBHVR\\FacialExpression_20210414\\DLC-Guillermo-2021-04-14\\new-videos...\n",
      "Saving csv poses!\n",
      "Starting to analyze %  D:/3DBHVR/FacialExpression_20210414/DLC-Guillermo-2021-04-14/new-videos/subject3.2_cam-F.avi\n"
     ]
    },
    {
     "name": "stderr",
     "output_type": "stream",
     "text": [
      "\r",
      "  0%|                                                                                      | 0/1651 [00:00<?, ?it/s]"
     ]
    },
    {
     "name": "stdout",
     "output_type": "stream",
     "text": [
      "D:\\3DBHVR\\FacialExpression_20210414\\DLC-Guillermo-2021-04-14\\new-videos  already exists!\n",
      "Loading  D:/3DBHVR/FacialExpression_20210414/DLC-Guillermo-2021-04-14/new-videos/subject3.2_cam-F.avi\n",
      "Duration of video [s]:  16.51 , recorded with  100.0 fps!\n",
      "Overall # of frames:  1651  found with (before cropping) frame dimensions:  1440 1080\n",
      "Starting to extract posture\n"
     ]
    },
    {
     "name": "stderr",
     "output_type": "stream",
     "text": [
      "1664it [02:03, 13.52it/s]                                                                                           \n"
     ]
    },
    {
     "name": "stdout",
     "output_type": "stream",
     "text": [
      "Saving results in D:\\3DBHVR\\FacialExpression_20210414\\DLC-Guillermo-2021-04-14\\new-videos...\n",
      "Saving csv poses!\n"
     ]
    },
    {
     "name": "stderr",
     "output_type": "stream",
     "text": [
      "\r",
      "  0%|                                                                                      | 0/2395 [00:00<?, ?it/s]"
     ]
    },
    {
     "name": "stdout",
     "output_type": "stream",
     "text": [
      "Starting to analyze %  D:/3DBHVR/FacialExpression_20210414/DLC-Guillermo-2021-04-14/new-videos/subject3.3_cam-A.avi\n",
      "D:\\3DBHVR\\FacialExpression_20210414\\DLC-Guillermo-2021-04-14\\new-videos  already exists!\n",
      "Loading  D:/3DBHVR/FacialExpression_20210414/DLC-Guillermo-2021-04-14/new-videos/subject3.3_cam-A.avi\n",
      "Duration of video [s]:  23.95 , recorded with  100.0 fps!\n",
      "Overall # of frames:  2395  found with (before cropping) frame dimensions:  1440 1080\n",
      "Starting to extract posture\n"
     ]
    },
    {
     "name": "stderr",
     "output_type": "stream",
     "text": [
      "2415it [02:50, 14.17it/s]                                                                                           \n"
     ]
    },
    {
     "name": "stdout",
     "output_type": "stream",
     "text": [
      "Saving results in D:\\3DBHVR\\FacialExpression_20210414\\DLC-Guillermo-2021-04-14\\new-videos...\n",
      "Saving csv poses!\n"
     ]
    },
    {
     "name": "stderr",
     "output_type": "stream",
     "text": [
      "\r",
      "  0%|                                                                                      | 0/2391 [00:00<?, ?it/s]"
     ]
    },
    {
     "name": "stdout",
     "output_type": "stream",
     "text": [
      "Starting to analyze %  D:/3DBHVR/FacialExpression_20210414/DLC-Guillermo-2021-04-14/new-videos/subject3.3_cam-B.avi\n",
      "D:\\3DBHVR\\FacialExpression_20210414\\DLC-Guillermo-2021-04-14\\new-videos  already exists!\n",
      "Loading  D:/3DBHVR/FacialExpression_20210414/DLC-Guillermo-2021-04-14/new-videos/subject3.3_cam-B.avi\n",
      "Duration of video [s]:  23.91 , recorded with  100.0 fps!\n",
      "Overall # of frames:  2391  found with (before cropping) frame dimensions:  1440 1080\n",
      "Starting to extract posture\n"
     ]
    },
    {
     "name": "stderr",
     "output_type": "stream",
     "text": [
      "2392it [02:54, 13.67it/s]                                                                                           \n"
     ]
    },
    {
     "name": "stdout",
     "output_type": "stream",
     "text": [
      "Saving results in D:\\3DBHVR\\FacialExpression_20210414\\DLC-Guillermo-2021-04-14\\new-videos...\n",
      "Saving csv poses!\n"
     ]
    },
    {
     "name": "stderr",
     "output_type": "stream",
     "text": [
      "\r",
      "  0%|                                                                                      | 0/2397 [00:00<?, ?it/s]"
     ]
    },
    {
     "name": "stdout",
     "output_type": "stream",
     "text": [
      "Starting to analyze %  D:/3DBHVR/FacialExpression_20210414/DLC-Guillermo-2021-04-14/new-videos/subject3.3_cam-C.avi\n",
      "D:\\3DBHVR\\FacialExpression_20210414\\DLC-Guillermo-2021-04-14\\new-videos  already exists!\n",
      "Loading  D:/3DBHVR/FacialExpression_20210414/DLC-Guillermo-2021-04-14/new-videos/subject3.3_cam-C.avi\n",
      "Duration of video [s]:  23.97 , recorded with  100.0 fps!\n",
      "Overall # of frames:  2397  found with (before cropping) frame dimensions:  1440 1080\n",
      "Starting to extract posture\n"
     ]
    },
    {
     "name": "stderr",
     "output_type": "stream",
     "text": [
      "2415it [02:46, 14.53it/s]                                                                                           \n"
     ]
    },
    {
     "name": "stdout",
     "output_type": "stream",
     "text": [
      "Saving results in D:\\3DBHVR\\FacialExpression_20210414\\DLC-Guillermo-2021-04-14\\new-videos...\n",
      "Saving csv poses!\n"
     ]
    },
    {
     "name": "stderr",
     "output_type": "stream",
     "text": [
      "\r",
      "  0%|                                                                                      | 0/2397 [00:00<?, ?it/s]"
     ]
    },
    {
     "name": "stdout",
     "output_type": "stream",
     "text": [
      "Starting to analyze %  D:/3DBHVR/FacialExpression_20210414/DLC-Guillermo-2021-04-14/new-videos/subject3.3_cam-D.avi\n",
      "D:\\3DBHVR\\FacialExpression_20210414\\DLC-Guillermo-2021-04-14\\new-videos  already exists!\n",
      "Loading  D:/3DBHVR/FacialExpression_20210414/DLC-Guillermo-2021-04-14/new-videos/subject3.3_cam-D.avi\n",
      "Duration of video [s]:  23.97 , recorded with  100.0 fps!\n",
      "Overall # of frames:  2397  found with (before cropping) frame dimensions:  1440 1080\n",
      "Starting to extract posture\n"
     ]
    },
    {
     "name": "stderr",
     "output_type": "stream",
     "text": [
      "2415it [02:57, 13.58it/s]                                                                                           \n"
     ]
    },
    {
     "name": "stdout",
     "output_type": "stream",
     "text": [
      "Saving results in D:\\3DBHVR\\FacialExpression_20210414\\DLC-Guillermo-2021-04-14\\new-videos...\n",
      "Saving csv poses!\n"
     ]
    },
    {
     "name": "stderr",
     "output_type": "stream",
     "text": [
      "\r",
      "  0%|                                                                                      | 0/2390 [00:00<?, ?it/s]"
     ]
    },
    {
     "name": "stdout",
     "output_type": "stream",
     "text": [
      "Starting to analyze %  D:/3DBHVR/FacialExpression_20210414/DLC-Guillermo-2021-04-14/new-videos/subject3.3_cam-E.avi\n",
      "D:\\3DBHVR\\FacialExpression_20210414\\DLC-Guillermo-2021-04-14\\new-videos  already exists!\n",
      "Loading  D:/3DBHVR/FacialExpression_20210414/DLC-Guillermo-2021-04-14/new-videos/subject3.3_cam-E.avi\n",
      "Duration of video [s]:  23.9 , recorded with  100.0 fps!\n",
      "Overall # of frames:  2390  found with (before cropping) frame dimensions:  1440 1080\n",
      "Starting to extract posture\n"
     ]
    },
    {
     "name": "stderr",
     "output_type": "stream",
     "text": [
      "2392it [02:46, 14.37it/s]                                                                                           \n"
     ]
    },
    {
     "name": "stdout",
     "output_type": "stream",
     "text": [
      "Saving results in D:\\3DBHVR\\FacialExpression_20210414\\DLC-Guillermo-2021-04-14\\new-videos...\n",
      "Saving csv poses!\n"
     ]
    },
    {
     "name": "stderr",
     "output_type": "stream",
     "text": [
      "\r",
      "  0%|                                                                                      | 0/2397 [00:00<?, ?it/s]"
     ]
    },
    {
     "name": "stdout",
     "output_type": "stream",
     "text": [
      "Starting to analyze %  D:/3DBHVR/FacialExpression_20210414/DLC-Guillermo-2021-04-14/new-videos/subject3.3_cam-F.avi\n",
      "D:\\3DBHVR\\FacialExpression_20210414\\DLC-Guillermo-2021-04-14\\new-videos  already exists!\n",
      "Loading  D:/3DBHVR/FacialExpression_20210414/DLC-Guillermo-2021-04-14/new-videos/subject3.3_cam-F.avi\n",
      "Duration of video [s]:  23.97 , recorded with  100.0 fps!\n",
      "Overall # of frames:  2397  found with (before cropping) frame dimensions:  1440 1080\n",
      "Starting to extract posture\n"
     ]
    },
    {
     "name": "stderr",
     "output_type": "stream",
     "text": [
      "2415it [03:01, 13.33it/s]                                                                                           \n"
     ]
    },
    {
     "name": "stdout",
     "output_type": "stream",
     "text": [
      "Saving results in D:\\3DBHVR\\FacialExpression_20210414\\DLC-Guillermo-2021-04-14\\new-videos...\n",
      "Saving csv poses!\n"
     ]
    },
    {
     "name": "stderr",
     "output_type": "stream",
     "text": [
      "\r",
      "  0%|                                                                                      | 0/1834 [00:00<?, ?it/s]"
     ]
    },
    {
     "name": "stdout",
     "output_type": "stream",
     "text": [
      "Starting to analyze %  D:/3DBHVR/FacialExpression_20210414/DLC-Guillermo-2021-04-14/new-videos/subject3_cam-A.avi\n",
      "D:\\3DBHVR\\FacialExpression_20210414\\DLC-Guillermo-2021-04-14\\new-videos  already exists!\n",
      "Loading  D:/3DBHVR/FacialExpression_20210414/DLC-Guillermo-2021-04-14/new-videos/subject3_cam-A.avi\n",
      "Duration of video [s]:  18.34 , recorded with  100.0 fps!\n",
      "Overall # of frames:  1834  found with (before cropping) frame dimensions:  1440 1080\n",
      "Starting to extract posture\n"
     ]
    },
    {
     "name": "stderr",
     "output_type": "stream",
     "text": [
      "1836it [02:11, 13.99it/s]                                                                                           \n"
     ]
    },
    {
     "name": "stdout",
     "output_type": "stream",
     "text": [
      "Saving results in D:\\3DBHVR\\FacialExpression_20210414\\DLC-Guillermo-2021-04-14\\new-videos...\n",
      "Saving csv poses!\n"
     ]
    },
    {
     "name": "stderr",
     "output_type": "stream",
     "text": [
      "\r",
      "  0%|                                                                                      | 0/1834 [00:00<?, ?it/s]"
     ]
    },
    {
     "name": "stdout",
     "output_type": "stream",
     "text": [
      "Starting to analyze %  D:/3DBHVR/FacialExpression_20210414/DLC-Guillermo-2021-04-14/new-videos/subject3_cam-B.avi\n",
      "D:\\3DBHVR\\FacialExpression_20210414\\DLC-Guillermo-2021-04-14\\new-videos  already exists!\n",
      "Loading  D:/3DBHVR/FacialExpression_20210414/DLC-Guillermo-2021-04-14/new-videos/subject3_cam-B.avi\n",
      "Duration of video [s]:  18.34 , recorded with  100.0 fps!\n",
      "Overall # of frames:  1834  found with (before cropping) frame dimensions:  1440 1080\n",
      "Starting to extract posture\n"
     ]
    },
    {
     "name": "stderr",
     "output_type": "stream",
     "text": [
      "1836it [02:15, 13.54it/s]                                                                                           \n"
     ]
    },
    {
     "name": "stdout",
     "output_type": "stream",
     "text": [
      "Saving results in D:\\3DBHVR\\FacialExpression_20210414\\DLC-Guillermo-2021-04-14\\new-videos...\n",
      "Saving csv poses!\n"
     ]
    },
    {
     "name": "stderr",
     "output_type": "stream",
     "text": [
      "\r",
      "  0%|                                                                                      | 0/1835 [00:00<?, ?it/s]"
     ]
    },
    {
     "name": "stdout",
     "output_type": "stream",
     "text": [
      "Starting to analyze %  D:/3DBHVR/FacialExpression_20210414/DLC-Guillermo-2021-04-14/new-videos/subject3_cam-C.avi\n",
      "D:\\3DBHVR\\FacialExpression_20210414\\DLC-Guillermo-2021-04-14\\new-videos  already exists!\n",
      "Loading  D:/3DBHVR/FacialExpression_20210414/DLC-Guillermo-2021-04-14/new-videos/subject3_cam-C.avi\n",
      "Duration of video [s]:  18.35 , recorded with  100.0 fps!\n",
      "Overall # of frames:  1835  found with (before cropping) frame dimensions:  1440 1080\n",
      "Starting to extract posture\n"
     ]
    },
    {
     "name": "stderr",
     "output_type": "stream",
     "text": [
      "1836it [02:09, 14.13it/s]                                                                                           \n"
     ]
    },
    {
     "name": "stdout",
     "output_type": "stream",
     "text": [
      "Saving results in D:\\3DBHVR\\FacialExpression_20210414\\DLC-Guillermo-2021-04-14\\new-videos...\n",
      "Saving csv poses!\n"
     ]
    },
    {
     "name": "stderr",
     "output_type": "stream",
     "text": [
      "\r",
      "  0%|                                                                                      | 0/1835 [00:00<?, ?it/s]"
     ]
    },
    {
     "name": "stdout",
     "output_type": "stream",
     "text": [
      "Starting to analyze %  D:/3DBHVR/FacialExpression_20210414/DLC-Guillermo-2021-04-14/new-videos/subject3_cam-D.avi\n",
      "D:\\3DBHVR\\FacialExpression_20210414\\DLC-Guillermo-2021-04-14\\new-videos  already exists!\n",
      "Loading  D:/3DBHVR/FacialExpression_20210414/DLC-Guillermo-2021-04-14/new-videos/subject3_cam-D.avi\n",
      "Duration of video [s]:  18.35 , recorded with  100.0 fps!\n",
      "Overall # of frames:  1835  found with (before cropping) frame dimensions:  1440 1080\n",
      "Starting to extract posture\n"
     ]
    },
    {
     "name": "stderr",
     "output_type": "stream",
     "text": [
      "1836it [02:16, 13.42it/s]                                                                                           \n"
     ]
    },
    {
     "name": "stdout",
     "output_type": "stream",
     "text": [
      "Saving results in D:\\3DBHVR\\FacialExpression_20210414\\DLC-Guillermo-2021-04-14\\new-videos...\n",
      "Saving csv poses!\n"
     ]
    },
    {
     "name": "stderr",
     "output_type": "stream",
     "text": [
      "\r",
      "  0%|                                                                                      | 0/1835 [00:00<?, ?it/s]"
     ]
    },
    {
     "name": "stdout",
     "output_type": "stream",
     "text": [
      "Starting to analyze %  D:/3DBHVR/FacialExpression_20210414/DLC-Guillermo-2021-04-14/new-videos/subject3_cam-E.avi\n",
      "D:\\3DBHVR\\FacialExpression_20210414\\DLC-Guillermo-2021-04-14\\new-videos  already exists!\n",
      "Loading  D:/3DBHVR/FacialExpression_20210414/DLC-Guillermo-2021-04-14/new-videos/subject3_cam-E.avi\n",
      "Duration of video [s]:  18.35 , recorded with  100.0 fps!\n",
      "Overall # of frames:  1835  found with (before cropping) frame dimensions:  1440 1080\n",
      "Starting to extract posture\n"
     ]
    },
    {
     "name": "stderr",
     "output_type": "stream",
     "text": [
      "1836it [02:07, 14.35it/s]                                                                                           \n"
     ]
    },
    {
     "name": "stdout",
     "output_type": "stream",
     "text": [
      "Saving results in D:\\3DBHVR\\FacialExpression_20210414\\DLC-Guillermo-2021-04-14\\new-videos...\n",
      "Saving csv poses!\n"
     ]
    },
    {
     "name": "stderr",
     "output_type": "stream",
     "text": [
      "\r",
      "  0%|                                                                                      | 0/1835 [00:00<?, ?it/s]"
     ]
    },
    {
     "name": "stdout",
     "output_type": "stream",
     "text": [
      "Starting to analyze %  D:/3DBHVR/FacialExpression_20210414/DLC-Guillermo-2021-04-14/new-videos/subject3_cam-F.avi\n",
      "D:\\3DBHVR\\FacialExpression_20210414\\DLC-Guillermo-2021-04-14\\new-videos  already exists!\n",
      "Loading  D:/3DBHVR/FacialExpression_20210414/DLC-Guillermo-2021-04-14/new-videos/subject3_cam-F.avi\n",
      "Duration of video [s]:  18.35 , recorded with  100.0 fps!\n",
      "Overall # of frames:  1835  found with (before cropping) frame dimensions:  1440 1080\n",
      "Starting to extract posture\n"
     ]
    },
    {
     "name": "stderr",
     "output_type": "stream",
     "text": [
      "1836it [02:17, 13.38it/s]                                                                                           \n"
     ]
    },
    {
     "name": "stdout",
     "output_type": "stream",
     "text": [
      "Saving results in D:\\3DBHVR\\FacialExpression_20210414\\DLC-Guillermo-2021-04-14\\new-videos...\n",
      "Saving csv poses!\n"
     ]
    },
    {
     "name": "stderr",
     "output_type": "stream",
     "text": [
      "\r",
      "  0%|                                                                                      | 0/1655 [00:00<?, ?it/s]"
     ]
    },
    {
     "name": "stdout",
     "output_type": "stream",
     "text": [
      "Starting to analyze %  D:/3DBHVR/FacialExpression_20210414/DLC-Guillermo-2021-04-14/new-videos/subject4.2_cam-A.avi\n",
      "D:\\3DBHVR\\FacialExpression_20210414\\DLC-Guillermo-2021-04-14\\new-videos  already exists!\n",
      "Loading  D:/3DBHVR/FacialExpression_20210414/DLC-Guillermo-2021-04-14/new-videos/subject4.2_cam-A.avi\n",
      "Duration of video [s]:  16.55 , recorded with  100.0 fps!\n",
      "Overall # of frames:  1655  found with (before cropping) frame dimensions:  1440 1080\n",
      "Starting to extract posture\n"
     ]
    },
    {
     "name": "stderr",
     "output_type": "stream",
     "text": [
      "1664it [01:57, 14.18it/s]                                                                                           \n"
     ]
    },
    {
     "name": "stdout",
     "output_type": "stream",
     "text": [
      "Saving results in D:\\3DBHVR\\FacialExpression_20210414\\DLC-Guillermo-2021-04-14\\new-videos...\n",
      "Saving csv poses!\n"
     ]
    },
    {
     "name": "stderr",
     "output_type": "stream",
     "text": [
      "\r",
      "  0%|                                                                                      | 0/1649 [00:00<?, ?it/s]"
     ]
    },
    {
     "name": "stdout",
     "output_type": "stream",
     "text": [
      "Starting to analyze %  D:/3DBHVR/FacialExpression_20210414/DLC-Guillermo-2021-04-14/new-videos/subject4.2_cam-B.avi\n",
      "D:\\3DBHVR\\FacialExpression_20210414\\DLC-Guillermo-2021-04-14\\new-videos  already exists!\n",
      "Loading  D:/3DBHVR/FacialExpression_20210414/DLC-Guillermo-2021-04-14/new-videos/subject4.2_cam-B.avi\n",
      "Duration of video [s]:  16.49 , recorded with  100.0 fps!\n",
      "Overall # of frames:  1649  found with (before cropping) frame dimensions:  1440 1080\n",
      "Starting to extract posture\n"
     ]
    },
    {
     "name": "stderr",
     "output_type": "stream",
     "text": [
      "1664it [02:00, 13.83it/s]                                                                                           \n"
     ]
    },
    {
     "name": "stdout",
     "output_type": "stream",
     "text": [
      "Saving results in D:\\3DBHVR\\FacialExpression_20210414\\DLC-Guillermo-2021-04-14\\new-videos...\n",
      "Saving csv poses!\n",
      "Starting to analyze %  D:/3DBHVR/FacialExpression_20210414/DLC-Guillermo-2021-04-14/new-videos/subject4.2_cam-C.avi\n"
     ]
    },
    {
     "name": "stderr",
     "output_type": "stream",
     "text": [
      "\r",
      "  0%|                                                                                      | 0/1657 [00:00<?, ?it/s]"
     ]
    },
    {
     "name": "stdout",
     "output_type": "stream",
     "text": [
      "D:\\3DBHVR\\FacialExpression_20210414\\DLC-Guillermo-2021-04-14\\new-videos  already exists!\n",
      "Loading  D:/3DBHVR/FacialExpression_20210414/DLC-Guillermo-2021-04-14/new-videos/subject4.2_cam-C.avi\n",
      "Duration of video [s]:  16.57 , recorded with  100.0 fps!\n",
      "Overall # of frames:  1657  found with (before cropping) frame dimensions:  1440 1080\n",
      "Starting to extract posture\n"
     ]
    },
    {
     "name": "stderr",
     "output_type": "stream",
     "text": [
      "1664it [01:55, 14.45it/s]                                                                                           \n"
     ]
    },
    {
     "name": "stdout",
     "output_type": "stream",
     "text": [
      "Saving results in D:\\3DBHVR\\FacialExpression_20210414\\DLC-Guillermo-2021-04-14\\new-videos...\n",
      "Saving csv poses!\n"
     ]
    },
    {
     "name": "stderr",
     "output_type": "stream",
     "text": [
      "\r",
      "  0%|                                                                                      | 0/1657 [00:00<?, ?it/s]"
     ]
    },
    {
     "name": "stdout",
     "output_type": "stream",
     "text": [
      "Starting to analyze %  D:/3DBHVR/FacialExpression_20210414/DLC-Guillermo-2021-04-14/new-videos/subject4.2_cam-D.avi\n",
      "D:\\3DBHVR\\FacialExpression_20210414\\DLC-Guillermo-2021-04-14\\new-videos  already exists!\n",
      "Loading  D:/3DBHVR/FacialExpression_20210414/DLC-Guillermo-2021-04-14/new-videos/subject4.2_cam-D.avi\n",
      "Duration of video [s]:  16.57 , recorded with  100.0 fps!\n",
      "Overall # of frames:  1657  found with (before cropping) frame dimensions:  1440 1080\n",
      "Starting to extract posture\n"
     ]
    },
    {
     "name": "stderr",
     "output_type": "stream",
     "text": [
      "1664it [02:01, 13.71it/s]                                                                                           \n"
     ]
    },
    {
     "name": "stdout",
     "output_type": "stream",
     "text": [
      "Saving results in D:\\3DBHVR\\FacialExpression_20210414\\DLC-Guillermo-2021-04-14\\new-videos...\n",
      "Saving csv poses!\n",
      "Starting to analyze %  D:/3DBHVR/FacialExpression_20210414/DLC-Guillermo-2021-04-14/new-videos/subject4.2_cam-E.avi\n"
     ]
    },
    {
     "name": "stderr",
     "output_type": "stream",
     "text": [
      "\r",
      "  0%|                                                                                      | 0/1651 [00:00<?, ?it/s]"
     ]
    },
    {
     "name": "stdout",
     "output_type": "stream",
     "text": [
      "D:\\3DBHVR\\FacialExpression_20210414\\DLC-Guillermo-2021-04-14\\new-videos  already exists!\n",
      "Loading  D:/3DBHVR/FacialExpression_20210414/DLC-Guillermo-2021-04-14/new-videos/subject4.2_cam-E.avi\n",
      "Duration of video [s]:  16.51 , recorded with  100.0 fps!\n",
      "Overall # of frames:  1651  found with (before cropping) frame dimensions:  1440 1080\n",
      "Starting to extract posture\n"
     ]
    },
    {
     "name": "stderr",
     "output_type": "stream",
     "text": [
      "1664it [01:55, 14.43it/s]                                                                                           \n"
     ]
    },
    {
     "name": "stdout",
     "output_type": "stream",
     "text": [
      "Saving results in D:\\3DBHVR\\FacialExpression_20210414\\DLC-Guillermo-2021-04-14\\new-videos...\n",
      "Saving csv poses!\n"
     ]
    },
    {
     "name": "stderr",
     "output_type": "stream",
     "text": [
      "\r",
      "  0%|                                                                                      | 0/1657 [00:00<?, ?it/s]"
     ]
    },
    {
     "name": "stdout",
     "output_type": "stream",
     "text": [
      "Starting to analyze %  D:/3DBHVR/FacialExpression_20210414/DLC-Guillermo-2021-04-14/new-videos/subject4.2_cam-F.avi\n",
      "D:\\3DBHVR\\FacialExpression_20210414\\DLC-Guillermo-2021-04-14\\new-videos  already exists!\n",
      "Loading  D:/3DBHVR/FacialExpression_20210414/DLC-Guillermo-2021-04-14/new-videos/subject4.2_cam-F.avi\n",
      "Duration of video [s]:  16.57 , recorded with  100.0 fps!\n",
      "Overall # of frames:  1657  found with (before cropping) frame dimensions:  1440 1080\n",
      "Starting to extract posture\n"
     ]
    },
    {
     "name": "stderr",
     "output_type": "stream",
     "text": [
      "1664it [02:03, 13.51it/s]                                                                                           \n"
     ]
    },
    {
     "name": "stdout",
     "output_type": "stream",
     "text": [
      "Saving results in D:\\3DBHVR\\FacialExpression_20210414\\DLC-Guillermo-2021-04-14\\new-videos...\n",
      "Saving csv poses!\n"
     ]
    },
    {
     "name": "stderr",
     "output_type": "stream",
     "text": [
      "\r",
      "  0%|                                                                                      | 0/1673 [00:00<?, ?it/s]"
     ]
    },
    {
     "name": "stdout",
     "output_type": "stream",
     "text": [
      "Starting to analyze %  D:/3DBHVR/FacialExpression_20210414/DLC-Guillermo-2021-04-14/new-videos/subject4.3_cam-A.avi\n",
      "D:\\3DBHVR\\FacialExpression_20210414\\DLC-Guillermo-2021-04-14\\new-videos  already exists!\n",
      "Loading  D:/3DBHVR/FacialExpression_20210414/DLC-Guillermo-2021-04-14/new-videos/subject4.3_cam-A.avi\n",
      "Duration of video [s]:  16.73 , recorded with  100.0 fps!\n",
      "Overall # of frames:  1673  found with (before cropping) frame dimensions:  1440 1080\n",
      "Starting to extract posture\n"
     ]
    },
    {
     "name": "stderr",
     "output_type": "stream",
     "text": [
      "1680it [01:59, 14.09it/s]                                                                                           \n"
     ]
    },
    {
     "name": "stdout",
     "output_type": "stream",
     "text": [
      "Saving results in D:\\3DBHVR\\FacialExpression_20210414\\DLC-Guillermo-2021-04-14\\new-videos...\n",
      "Saving csv poses!\n",
      "Starting to analyze %  D:/3DBHVR/FacialExpression_20210414/DLC-Guillermo-2021-04-14/new-videos/subject4.3_cam-B.avi\n"
     ]
    },
    {
     "name": "stderr",
     "output_type": "stream",
     "text": [
      "\r",
      "  0%|                                                                                      | 0/1666 [00:00<?, ?it/s]"
     ]
    },
    {
     "name": "stdout",
     "output_type": "stream",
     "text": [
      "D:\\3DBHVR\\FacialExpression_20210414\\DLC-Guillermo-2021-04-14\\new-videos  already exists!\n",
      "Loading  D:/3DBHVR/FacialExpression_20210414/DLC-Guillermo-2021-04-14/new-videos/subject4.3_cam-B.avi\n",
      "Duration of video [s]:  16.66 , recorded with  100.0 fps!\n",
      "Overall # of frames:  1666  found with (before cropping) frame dimensions:  1440 1080\n",
      "Starting to extract posture\n"
     ]
    },
    {
     "name": "stderr",
     "output_type": "stream",
     "text": [
      "1680it [02:01, 13.83it/s]                                                                                           \n"
     ]
    },
    {
     "name": "stdout",
     "output_type": "stream",
     "text": [
      "Saving results in D:\\3DBHVR\\FacialExpression_20210414\\DLC-Guillermo-2021-04-14\\new-videos...\n",
      "Saving csv poses!\n"
     ]
    },
    {
     "name": "stderr",
     "output_type": "stream",
     "text": [
      "\r",
      "  0%|                                                                                      | 0/1673 [00:00<?, ?it/s]"
     ]
    },
    {
     "name": "stdout",
     "output_type": "stream",
     "text": [
      "Starting to analyze %  D:/3DBHVR/FacialExpression_20210414/DLC-Guillermo-2021-04-14/new-videos/subject4.3_cam-C.avi\n",
      "D:\\3DBHVR\\FacialExpression_20210414\\DLC-Guillermo-2021-04-14\\new-videos  already exists!\n",
      "Loading  D:/3DBHVR/FacialExpression_20210414/DLC-Guillermo-2021-04-14/new-videos/subject4.3_cam-C.avi\n",
      "Duration of video [s]:  16.73 , recorded with  100.0 fps!\n",
      "Overall # of frames:  1673  found with (before cropping) frame dimensions:  1440 1080\n",
      "Starting to extract posture\n"
     ]
    },
    {
     "name": "stderr",
     "output_type": "stream",
     "text": [
      "1680it [01:57, 14.34it/s]                                                                                           \n"
     ]
    },
    {
     "name": "stdout",
     "output_type": "stream",
     "text": [
      "Saving results in D:\\3DBHVR\\FacialExpression_20210414\\DLC-Guillermo-2021-04-14\\new-videos...\n",
      "Saving csv poses!\n"
     ]
    },
    {
     "name": "stderr",
     "output_type": "stream",
     "text": [
      "\r",
      "  0%|                                                                                      | 0/1673 [00:00<?, ?it/s]"
     ]
    },
    {
     "name": "stdout",
     "output_type": "stream",
     "text": [
      "Starting to analyze %  D:/3DBHVR/FacialExpression_20210414/DLC-Guillermo-2021-04-14/new-videos/subject4.3_cam-D.avi\n",
      "D:\\3DBHVR\\FacialExpression_20210414\\DLC-Guillermo-2021-04-14\\new-videos  already exists!\n",
      "Loading  D:/3DBHVR/FacialExpression_20210414/DLC-Guillermo-2021-04-14/new-videos/subject4.3_cam-D.avi\n",
      "Duration of video [s]:  16.73 , recorded with  100.0 fps!\n",
      "Overall # of frames:  1673  found with (before cropping) frame dimensions:  1440 1080\n",
      "Starting to extract posture\n"
     ]
    },
    {
     "name": "stderr",
     "output_type": "stream",
     "text": [
      "1680it [02:02, 13.70it/s]                                                                                           \n"
     ]
    },
    {
     "name": "stdout",
     "output_type": "stream",
     "text": [
      "Saving results in D:\\3DBHVR\\FacialExpression_20210414\\DLC-Guillermo-2021-04-14\\new-videos...\n",
      "Saving csv poses!\n"
     ]
    },
    {
     "name": "stderr",
     "output_type": "stream",
     "text": [
      "\r",
      "  0%|                                                                                      | 0/1666 [00:00<?, ?it/s]"
     ]
    },
    {
     "name": "stdout",
     "output_type": "stream",
     "text": [
      "Starting to analyze %  D:/3DBHVR/FacialExpression_20210414/DLC-Guillermo-2021-04-14/new-videos/subject4.3_cam-E.avi\n",
      "D:\\3DBHVR\\FacialExpression_20210414\\DLC-Guillermo-2021-04-14\\new-videos  already exists!\n",
      "Loading  D:/3DBHVR/FacialExpression_20210414/DLC-Guillermo-2021-04-14/new-videos/subject4.3_cam-E.avi\n",
      "Duration of video [s]:  16.66 , recorded with  100.0 fps!\n",
      "Overall # of frames:  1666  found with (before cropping) frame dimensions:  1440 1080\n",
      "Starting to extract posture\n"
     ]
    },
    {
     "name": "stderr",
     "output_type": "stream",
     "text": [
      "1680it [01:56, 14.46it/s]                                                                                           \n"
     ]
    },
    {
     "name": "stdout",
     "output_type": "stream",
     "text": [
      "Saving results in D:\\3DBHVR\\FacialExpression_20210414\\DLC-Guillermo-2021-04-14\\new-videos...\n",
      "Saving csv poses!\n"
     ]
    },
    {
     "name": "stderr",
     "output_type": "stream",
     "text": [
      "\r",
      "  0%|                                                                                      | 0/1673 [00:00<?, ?it/s]"
     ]
    },
    {
     "name": "stdout",
     "output_type": "stream",
     "text": [
      "Starting to analyze %  D:/3DBHVR/FacialExpression_20210414/DLC-Guillermo-2021-04-14/new-videos/subject4.3_F.avi\n",
      "D:\\3DBHVR\\FacialExpression_20210414\\DLC-Guillermo-2021-04-14\\new-videos  already exists!\n",
      "Loading  D:/3DBHVR/FacialExpression_20210414/DLC-Guillermo-2021-04-14/new-videos/subject4.3_F.avi\n",
      "Duration of video [s]:  16.73 , recorded with  100.0 fps!\n",
      "Overall # of frames:  1673  found with (before cropping) frame dimensions:  1440 1080\n",
      "Starting to extract posture\n"
     ]
    },
    {
     "name": "stderr",
     "output_type": "stream",
     "text": [
      "1680it [02:03, 13.61it/s]                                                                                           \n"
     ]
    },
    {
     "name": "stdout",
     "output_type": "stream",
     "text": [
      "Saving results in D:\\3DBHVR\\FacialExpression_20210414\\DLC-Guillermo-2021-04-14\\new-videos...\n",
      "Saving csv poses!\n"
     ]
    },
    {
     "name": "stderr",
     "output_type": "stream",
     "text": [
      "\r",
      "  0%|                                                                                      | 0/1845 [00:00<?, ?it/s]"
     ]
    },
    {
     "name": "stdout",
     "output_type": "stream",
     "text": [
      "Starting to analyze %  D:/3DBHVR/FacialExpression_20210414/DLC-Guillermo-2021-04-14/new-videos/subject4_cam-A.avi\n",
      "D:\\3DBHVR\\FacialExpression_20210414\\DLC-Guillermo-2021-04-14\\new-videos  already exists!\n",
      "Loading  D:/3DBHVR/FacialExpression_20210414/DLC-Guillermo-2021-04-14/new-videos/subject4_cam-A.avi\n",
      "Duration of video [s]:  18.45 , recorded with  100.0 fps!\n",
      "Overall # of frames:  1845  found with (before cropping) frame dimensions:  1440 1080\n",
      "Starting to extract posture\n"
     ]
    },
    {
     "name": "stderr",
     "output_type": "stream",
     "text": [
      "1854it [02:09, 14.31it/s]                                                                                           \n"
     ]
    },
    {
     "name": "stdout",
     "output_type": "stream",
     "text": [
      "Saving results in D:\\3DBHVR\\FacialExpression_20210414\\DLC-Guillermo-2021-04-14\\new-videos...\n",
      "Saving csv poses!\n"
     ]
    },
    {
     "name": "stderr",
     "output_type": "stream",
     "text": [
      "\r",
      "  0%|                                                                                      | 0/1846 [00:00<?, ?it/s]"
     ]
    },
    {
     "name": "stdout",
     "output_type": "stream",
     "text": [
      "Starting to analyze %  D:/3DBHVR/FacialExpression_20210414/DLC-Guillermo-2021-04-14/new-videos/subject4_cam-B.avi\n",
      "D:\\3DBHVR\\FacialExpression_20210414\\DLC-Guillermo-2021-04-14\\new-videos  already exists!\n",
      "Loading  D:/3DBHVR/FacialExpression_20210414/DLC-Guillermo-2021-04-14/new-videos/subject4_cam-B.avi\n",
      "Duration of video [s]:  18.46 , recorded with  100.0 fps!\n",
      "Overall # of frames:  1846  found with (before cropping) frame dimensions:  1440 1080\n",
      "Starting to extract posture\n"
     ]
    },
    {
     "name": "stderr",
     "output_type": "stream",
     "text": [
      "1854it [02:14, 13.76it/s]                                                                                           \n"
     ]
    },
    {
     "name": "stdout",
     "output_type": "stream",
     "text": [
      "Saving results in D:\\3DBHVR\\FacialExpression_20210414\\DLC-Guillermo-2021-04-14\\new-videos...\n",
      "Saving csv poses!\n"
     ]
    },
    {
     "name": "stderr",
     "output_type": "stream",
     "text": [
      "\r",
      "  0%|                                                                                      | 0/1847 [00:00<?, ?it/s]"
     ]
    },
    {
     "name": "stdout",
     "output_type": "stream",
     "text": [
      "Starting to analyze %  D:/3DBHVR/FacialExpression_20210414/DLC-Guillermo-2021-04-14/new-videos/subject4_cam-C.avi\n",
      "D:\\3DBHVR\\FacialExpression_20210414\\DLC-Guillermo-2021-04-14\\new-videos  already exists!\n",
      "Loading  D:/3DBHVR/FacialExpression_20210414/DLC-Guillermo-2021-04-14/new-videos/subject4_cam-C.avi\n",
      "Duration of video [s]:  18.47 , recorded with  100.0 fps!\n",
      "Overall # of frames:  1847  found with (before cropping) frame dimensions:  1440 1080\n",
      "Starting to extract posture\n"
     ]
    },
    {
     "name": "stderr",
     "output_type": "stream",
     "text": [
      "1854it [02:07, 14.53it/s]                                                                                           \n"
     ]
    },
    {
     "name": "stdout",
     "output_type": "stream",
     "text": [
      "Saving results in D:\\3DBHVR\\FacialExpression_20210414\\DLC-Guillermo-2021-04-14\\new-videos...\n",
      "Saving csv poses!\n"
     ]
    },
    {
     "name": "stderr",
     "output_type": "stream",
     "text": [
      "\r",
      "  0%|                                                                                      | 0/1847 [00:00<?, ?it/s]"
     ]
    },
    {
     "name": "stdout",
     "output_type": "stream",
     "text": [
      "Starting to analyze %  D:/3DBHVR/FacialExpression_20210414/DLC-Guillermo-2021-04-14/new-videos/subject4_cam-D.avi\n",
      "D:\\3DBHVR\\FacialExpression_20210414\\DLC-Guillermo-2021-04-14\\new-videos  already exists!\n",
      "Loading  D:/3DBHVR/FacialExpression_20210414/DLC-Guillermo-2021-04-14/new-videos/subject4_cam-D.avi\n",
      "Duration of video [s]:  18.47 , recorded with  100.0 fps!\n",
      "Overall # of frames:  1847  found with (before cropping) frame dimensions:  1440 1080\n",
      "Starting to extract posture\n"
     ]
    },
    {
     "name": "stderr",
     "output_type": "stream",
     "text": [
      "1854it [02:15, 13.72it/s]                                                                                           \n"
     ]
    },
    {
     "name": "stdout",
     "output_type": "stream",
     "text": [
      "Saving results in D:\\3DBHVR\\FacialExpression_20210414\\DLC-Guillermo-2021-04-14\\new-videos...\n",
      "Saving csv poses!\n"
     ]
    },
    {
     "name": "stderr",
     "output_type": "stream",
     "text": [
      "\r",
      "  0%|                                                                                      | 0/1846 [00:00<?, ?it/s]"
     ]
    },
    {
     "name": "stdout",
     "output_type": "stream",
     "text": [
      "Starting to analyze %  D:/3DBHVR/FacialExpression_20210414/DLC-Guillermo-2021-04-14/new-videos/subject4_cam-E.avi\n",
      "D:\\3DBHVR\\FacialExpression_20210414\\DLC-Guillermo-2021-04-14\\new-videos  already exists!\n",
      "Loading  D:/3DBHVR/FacialExpression_20210414/DLC-Guillermo-2021-04-14/new-videos/subject4_cam-E.avi\n",
      "Duration of video [s]:  18.46 , recorded with  100.0 fps!\n",
      "Overall # of frames:  1846  found with (before cropping) frame dimensions:  1440 1080\n",
      "Starting to extract posture\n"
     ]
    },
    {
     "name": "stderr",
     "output_type": "stream",
     "text": [
      "1854it [02:06, 14.68it/s]                                                                                           \n"
     ]
    },
    {
     "name": "stdout",
     "output_type": "stream",
     "text": [
      "Saving results in D:\\3DBHVR\\FacialExpression_20210414\\DLC-Guillermo-2021-04-14\\new-videos...\n",
      "Saving csv poses!\n"
     ]
    },
    {
     "name": "stderr",
     "output_type": "stream",
     "text": [
      "\r",
      "  0%|                                                                                      | 0/1847 [00:00<?, ?it/s]"
     ]
    },
    {
     "name": "stdout",
     "output_type": "stream",
     "text": [
      "Starting to analyze %  D:/3DBHVR/FacialExpression_20210414/DLC-Guillermo-2021-04-14/new-videos/subject4_cam-F.avi\n",
      "D:\\3DBHVR\\FacialExpression_20210414\\DLC-Guillermo-2021-04-14\\new-videos  already exists!\n",
      "Loading  D:/3DBHVR/FacialExpression_20210414/DLC-Guillermo-2021-04-14/new-videos/subject4_cam-F.avi\n",
      "Duration of video [s]:  18.47 , recorded with  100.0 fps!\n",
      "Overall # of frames:  1847  found with (before cropping) frame dimensions:  1440 1080\n",
      "Starting to extract posture\n"
     ]
    },
    {
     "name": "stderr",
     "output_type": "stream",
     "text": [
      "1854it [02:15, 13.64it/s]                                                                                           \n"
     ]
    },
    {
     "name": "stdout",
     "output_type": "stream",
     "text": [
      "Saving results in D:\\3DBHVR\\FacialExpression_20210414\\DLC-Guillermo-2021-04-14\\new-videos...\n",
      "Saving csv poses!\n"
     ]
    },
    {
     "name": "stderr",
     "output_type": "stream",
     "text": [
      "\r",
      "  0%|                                                                                       | 0/891 [00:00<?, ?it/s]"
     ]
    },
    {
     "name": "stdout",
     "output_type": "stream",
     "text": [
      "Starting to analyze %  D:/3DBHVR/FacialExpression_20210414/DLC-Guillermo-2021-04-14/new-videos/subject5.2_cam-A.avi\n",
      "D:\\3DBHVR\\FacialExpression_20210414\\DLC-Guillermo-2021-04-14\\new-videos  already exists!\n",
      "Loading  D:/3DBHVR/FacialExpression_20210414/DLC-Guillermo-2021-04-14/new-videos/subject5.2_cam-A.avi\n",
      "Duration of video [s]:  8.91 , recorded with  100.0 fps!\n",
      "Overall # of frames:  891  found with (before cropping) frame dimensions:  1440 1080\n",
      "Starting to extract posture\n"
     ]
    },
    {
     "name": "stderr",
     "output_type": "stream",
     "text": [
      "900it [01:02, 14.41it/s]                                                                                            \n",
      "  0%|                                                                                       | 0/891 [00:00<?, ?it/s]"
     ]
    },
    {
     "name": "stdout",
     "output_type": "stream",
     "text": [
      "Saving results in D:\\3DBHVR\\FacialExpression_20210414\\DLC-Guillermo-2021-04-14\\new-videos...\n",
      "Saving csv poses!\n",
      "Starting to analyze %  D:/3DBHVR/FacialExpression_20210414/DLC-Guillermo-2021-04-14/new-videos/subject5.2_cam-B.avi\n",
      "D:\\3DBHVR\\FacialExpression_20210414\\DLC-Guillermo-2021-04-14\\new-videos  already exists!\n",
      "Loading  D:/3DBHVR/FacialExpression_20210414/DLC-Guillermo-2021-04-14/new-videos/subject5.2_cam-B.avi\n",
      "Duration of video [s]:  8.91 , recorded with  100.0 fps!\n",
      "Overall # of frames:  891  found with (before cropping) frame dimensions:  1440 1080\n",
      "Starting to extract posture\n"
     ]
    },
    {
     "name": "stderr",
     "output_type": "stream",
     "text": [
      "900it [01:04, 13.86it/s]                                                                                            \n",
      "  0%|                                                                                      | 0/1836 [00:00<?, ?it/s]"
     ]
    },
    {
     "name": "stdout",
     "output_type": "stream",
     "text": [
      "Saving results in D:\\3DBHVR\\FacialExpression_20210414\\DLC-Guillermo-2021-04-14\\new-videos...\n",
      "Saving csv poses!\n",
      "Starting to analyze %  D:/3DBHVR/FacialExpression_20210414/DLC-Guillermo-2021-04-14/new-videos/subject5.2_cam-C.avi\n",
      "D:\\3DBHVR\\FacialExpression_20210414\\DLC-Guillermo-2021-04-14\\new-videos  already exists!\n",
      "Loading  D:/3DBHVR/FacialExpression_20210414/DLC-Guillermo-2021-04-14/new-videos/subject5.2_cam-C.avi\n",
      "Duration of video [s]:  18.36 , recorded with  100.0 fps!\n",
      "Overall # of frames:  1836  found with (before cropping) frame dimensions:  1440 1080\n",
      "Starting to extract posture\n"
     ]
    },
    {
     "name": "stderr",
     "output_type": "stream",
     "text": [
      "1854it [02:07, 14.50it/s]                                                                                           \n"
     ]
    },
    {
     "name": "stdout",
     "output_type": "stream",
     "text": [
      "Saving results in D:\\3DBHVR\\FacialExpression_20210414\\DLC-Guillermo-2021-04-14\\new-videos...\n",
      "Saving csv poses!\n"
     ]
    },
    {
     "name": "stderr",
     "output_type": "stream",
     "text": [
      "\r",
      "  0%|                                                                                      | 0/1836 [00:00<?, ?it/s]"
     ]
    },
    {
     "name": "stdout",
     "output_type": "stream",
     "text": [
      "Starting to analyze %  D:/3DBHVR/FacialExpression_20210414/DLC-Guillermo-2021-04-14/new-videos/subject5.2_cam-D.avi\n",
      "D:\\3DBHVR\\FacialExpression_20210414\\DLC-Guillermo-2021-04-14\\new-videos  already exists!\n",
      "Loading  D:/3DBHVR/FacialExpression_20210414/DLC-Guillermo-2021-04-14/new-videos/subject5.2_cam-D.avi\n",
      "Duration of video [s]:  18.36 , recorded with  100.0 fps!\n",
      "Overall # of frames:  1836  found with (before cropping) frame dimensions:  1440 1080\n",
      "Starting to extract posture\n"
     ]
    },
    {
     "name": "stderr",
     "output_type": "stream",
     "text": [
      "1854it [02:12, 14.00it/s]                                                                                           \n"
     ]
    },
    {
     "name": "stdout",
     "output_type": "stream",
     "text": [
      "Saving results in D:\\3DBHVR\\FacialExpression_20210414\\DLC-Guillermo-2021-04-14\\new-videos...\n",
      "Saving csv poses!\n"
     ]
    },
    {
     "name": "stderr",
     "output_type": "stream",
     "text": [
      "\r",
      "  0%|                                                                                       | 0/355 [00:00<?, ?it/s]"
     ]
    },
    {
     "name": "stdout",
     "output_type": "stream",
     "text": [
      "Starting to analyze %  D:/3DBHVR/FacialExpression_20210414/DLC-Guillermo-2021-04-14/new-videos/subject5.2_cam-E.avi\n",
      "D:\\3DBHVR\\FacialExpression_20210414\\DLC-Guillermo-2021-04-14\\new-videos  already exists!\n",
      "Loading  D:/3DBHVR/FacialExpression_20210414/DLC-Guillermo-2021-04-14/new-videos/subject5.2_cam-E.avi\n",
      "Duration of video [s]:  3.55 , recorded with  100.0 fps!\n",
      "Overall # of frames:  355  found with (before cropping) frame dimensions:  1440 1080\n",
      "Starting to extract posture\n"
     ]
    },
    {
     "name": "stderr",
     "output_type": "stream",
     "text": [
      "360it [00:24, 14.54it/s]                                                                                            \n",
      "  0%|                                                                                      | 0/1836 [00:00<?, ?it/s]"
     ]
    },
    {
     "name": "stdout",
     "output_type": "stream",
     "text": [
      "Saving results in D:\\3DBHVR\\FacialExpression_20210414\\DLC-Guillermo-2021-04-14\\new-videos...\n",
      "Saving csv poses!\n",
      "Starting to analyze %  D:/3DBHVR/FacialExpression_20210414/DLC-Guillermo-2021-04-14/new-videos/subject5.2_cam-F.avi\n",
      "D:\\3DBHVR\\FacialExpression_20210414\\DLC-Guillermo-2021-04-14\\new-videos  already exists!\n",
      "Loading  D:/3DBHVR/FacialExpression_20210414/DLC-Guillermo-2021-04-14/new-videos/subject5.2_cam-F.avi\n",
      "Duration of video [s]:  18.36 , recorded with  100.0 fps!\n",
      "Overall # of frames:  1836  found with (before cropping) frame dimensions:  1440 1080\n",
      "Starting to extract posture\n"
     ]
    },
    {
     "name": "stderr",
     "output_type": "stream",
     "text": [
      "1854it [02:14, 13.83it/s]                                                                                           \n"
     ]
    },
    {
     "name": "stdout",
     "output_type": "stream",
     "text": [
      "Saving results in D:\\3DBHVR\\FacialExpression_20210414\\DLC-Guillermo-2021-04-14\\new-videos...\n",
      "Saving csv poses!\n"
     ]
    },
    {
     "name": "stderr",
     "output_type": "stream",
     "text": [
      "\r",
      "  0%|                                                                                       | 0/963 [00:00<?, ?it/s]"
     ]
    },
    {
     "name": "stdout",
     "output_type": "stream",
     "text": [
      "Starting to analyze %  D:/3DBHVR/FacialExpression_20210414/DLC-Guillermo-2021-04-14/new-videos/subject5.3_cam-A.avi\n",
      "D:\\3DBHVR\\FacialExpression_20210414\\DLC-Guillermo-2021-04-14\\new-videos  already exists!\n",
      "Loading  D:/3DBHVR/FacialExpression_20210414/DLC-Guillermo-2021-04-14/new-videos/subject5.3_cam-A.avi\n",
      "Duration of video [s]:  9.63 , recorded with  100.0 fps!\n",
      "Overall # of frames:  963  found with (before cropping) frame dimensions:  1440 1080\n",
      "Starting to extract posture\n"
     ]
    },
    {
     "name": "stderr",
     "output_type": "stream",
     "text": [
      "970it [01:07, 14.41it/s]                                                                                            \n",
      "  0%|                                                                                       | 0/963 [00:00<?, ?it/s]"
     ]
    },
    {
     "name": "stdout",
     "output_type": "stream",
     "text": [
      "Saving results in D:\\3DBHVR\\FacialExpression_20210414\\DLC-Guillermo-2021-04-14\\new-videos...\n",
      "Saving csv poses!\n",
      "Starting to analyze %  D:/3DBHVR/FacialExpression_20210414/DLC-Guillermo-2021-04-14/new-videos/subject5.3_cam-B.avi\n",
      "D:\\3DBHVR\\FacialExpression_20210414\\DLC-Guillermo-2021-04-14\\new-videos  already exists!\n",
      "Loading  D:/3DBHVR/FacialExpression_20210414/DLC-Guillermo-2021-04-14/new-videos/subject5.3_cam-B.avi\n",
      "Duration of video [s]:  9.63 , recorded with  100.0 fps!\n",
      "Overall # of frames:  963  found with (before cropping) frame dimensions:  1440 1080\n",
      "Starting to extract posture\n"
     ]
    },
    {
     "name": "stderr",
     "output_type": "stream",
     "text": [
      "970it [01:09, 13.97it/s]                                                                                            \n"
     ]
    },
    {
     "name": "stdout",
     "output_type": "stream",
     "text": [
      "Saving results in D:\\3DBHVR\\FacialExpression_20210414\\DLC-Guillermo-2021-04-14\\new-videos...\n",
      "Saving csv poses!\n",
      "Starting to analyze %  D:/3DBHVR/FacialExpression_20210414/DLC-Guillermo-2021-04-14/new-videos/subject5.3_cam-C.avi\n",
      "D:\\3DBHVR\\FacialExpression_20210414\\DLC-Guillermo-2021-04-14\\new-videos  already exists!\n",
      "Loading  D:/3DBHVR/FacialExpression_20210414/DLC-Guillermo-2021-04-14/new-videos/subject5.3_cam-C.avi\n",
      "Duration of video [s]:  21.07 , recorded with  100.0 fps!\n"
     ]
    },
    {
     "name": "stderr",
     "output_type": "stream",
     "text": [
      "\r",
      "  0%|                                                                                      | 0/2107 [00:00<?, ?it/s]"
     ]
    },
    {
     "name": "stdout",
     "output_type": "stream",
     "text": [
      "Overall # of frames:  2107  found with (before cropping) frame dimensions:  1440 1080\n",
      "Starting to extract posture\n"
     ]
    },
    {
     "name": "stderr",
     "output_type": "stream",
     "text": [
      "2121it [02:26, 14.46it/s]                                                                                           \n"
     ]
    },
    {
     "name": "stdout",
     "output_type": "stream",
     "text": [
      "Saving results in D:\\3DBHVR\\FacialExpression_20210414\\DLC-Guillermo-2021-04-14\\new-videos...\n",
      "Saving csv poses!\n"
     ]
    },
    {
     "name": "stderr",
     "output_type": "stream",
     "text": [
      "\r",
      "  0%|                                                                                      | 0/2107 [00:00<?, ?it/s]"
     ]
    },
    {
     "name": "stdout",
     "output_type": "stream",
     "text": [
      "Starting to analyze %  D:/3DBHVR/FacialExpression_20210414/DLC-Guillermo-2021-04-14/new-videos/subject5.3_cam-D.avi\n",
      "D:\\3DBHVR\\FacialExpression_20210414\\DLC-Guillermo-2021-04-14\\new-videos  already exists!\n",
      "Loading  D:/3DBHVR/FacialExpression_20210414/DLC-Guillermo-2021-04-14/new-videos/subject5.3_cam-D.avi\n",
      "Duration of video [s]:  21.07 , recorded with  100.0 fps!\n",
      "Overall # of frames:  2107  found with (before cropping) frame dimensions:  1440 1080\n",
      "Starting to extract posture\n"
     ]
    },
    {
     "name": "stderr",
     "output_type": "stream",
     "text": [
      "2121it [02:31, 13.97it/s]                                                                                           \n"
     ]
    },
    {
     "name": "stdout",
     "output_type": "stream",
     "text": [
      "Saving results in D:\\3DBHVR\\FacialExpression_20210414\\DLC-Guillermo-2021-04-14\\new-videos...\n",
      "Saving csv poses!\n"
     ]
    },
    {
     "name": "stderr",
     "output_type": "stream",
     "text": [
      "\r",
      "  0%|                                                                                       | 0/429 [00:00<?, ?it/s]"
     ]
    },
    {
     "name": "stdout",
     "output_type": "stream",
     "text": [
      "Starting to analyze %  D:/3DBHVR/FacialExpression_20210414/DLC-Guillermo-2021-04-14/new-videos/subject5.3_cam-E.avi\n",
      "D:\\3DBHVR\\FacialExpression_20210414\\DLC-Guillermo-2021-04-14\\new-videos  already exists!\n",
      "Loading  D:/3DBHVR/FacialExpression_20210414/DLC-Guillermo-2021-04-14/new-videos/subject5.3_cam-E.avi\n",
      "Duration of video [s]:  4.29 , recorded with  100.0 fps!\n",
      "Overall # of frames:  429  found with (before cropping) frame dimensions:  1440 1080\n",
      "Starting to extract posture\n"
     ]
    },
    {
     "name": "stderr",
     "output_type": "stream",
     "text": [
      "430it [00:29, 14.60it/s]                                                                                            \n",
      "  0%|                                                                                      | 0/2107 [00:00<?, ?it/s]"
     ]
    },
    {
     "name": "stdout",
     "output_type": "stream",
     "text": [
      "Saving results in D:\\3DBHVR\\FacialExpression_20210414\\DLC-Guillermo-2021-04-14\\new-videos...\n",
      "Saving csv poses!\n",
      "Starting to analyze %  D:/3DBHVR/FacialExpression_20210414/DLC-Guillermo-2021-04-14/new-videos/subject5.3_cam-F.avi\n",
      "D:\\3DBHVR\\FacialExpression_20210414\\DLC-Guillermo-2021-04-14\\new-videos  already exists!\n",
      "Loading  D:/3DBHVR/FacialExpression_20210414/DLC-Guillermo-2021-04-14/new-videos/subject5.3_cam-F.avi\n",
      "Duration of video [s]:  21.07 , recorded with  100.0 fps!\n",
      "Overall # of frames:  2107  found with (before cropping) frame dimensions:  1440 1080\n",
      "Starting to extract posture\n"
     ]
    },
    {
     "name": "stderr",
     "output_type": "stream",
     "text": [
      "2121it [02:33, 13.84it/s]                                                                                           \n"
     ]
    },
    {
     "name": "stdout",
     "output_type": "stream",
     "text": [
      "Saving results in D:\\3DBHVR\\FacialExpression_20210414\\DLC-Guillermo-2021-04-14\\new-videos...\n",
      "Saving csv poses!\n"
     ]
    },
    {
     "name": "stderr",
     "output_type": "stream",
     "text": [
      "\r",
      "  0%|                                                                                       | 0/817 [00:00<?, ?it/s]"
     ]
    },
    {
     "name": "stdout",
     "output_type": "stream",
     "text": [
      "Starting to analyze %  D:/3DBHVR/FacialExpression_20210414/DLC-Guillermo-2021-04-14/new-videos/subject5_cam-A.avi\n",
      "D:\\3DBHVR\\FacialExpression_20210414\\DLC-Guillermo-2021-04-14\\new-videos  already exists!\n",
      "Loading  D:/3DBHVR/FacialExpression_20210414/DLC-Guillermo-2021-04-14/new-videos/subject5_cam-A.avi\n",
      "Duration of video [s]:  8.17 , recorded with  100.0 fps!\n",
      "Overall # of frames:  817  found with (before cropping) frame dimensions:  1440 1080\n",
      "Starting to extract posture\n"
     ]
    },
    {
     "name": "stderr",
     "output_type": "stream",
     "text": [
      "820it [00:59, 13.74it/s]                                                                                            \n",
      "  0%|                                                                                       | 0/814 [00:00<?, ?it/s]"
     ]
    },
    {
     "name": "stdout",
     "output_type": "stream",
     "text": [
      "Saving results in D:\\3DBHVR\\FacialExpression_20210414\\DLC-Guillermo-2021-04-14\\new-videos...\n",
      "Saving csv poses!\n",
      "Starting to analyze %  D:/3DBHVR/FacialExpression_20210414/DLC-Guillermo-2021-04-14/new-videos/subject5_cam-B.avi\n",
      "D:\\3DBHVR\\FacialExpression_20210414\\DLC-Guillermo-2021-04-14\\new-videos  already exists!\n",
      "Loading  D:/3DBHVR/FacialExpression_20210414/DLC-Guillermo-2021-04-14/new-videos/subject5_cam-B.avi\n",
      "Duration of video [s]:  8.14 , recorded with  100.0 fps!\n",
      "Overall # of frames:  814  found with (before cropping) frame dimensions:  1440 1080\n",
      "Starting to extract posture\n"
     ]
    },
    {
     "name": "stderr",
     "output_type": "stream",
     "text": [
      "820it [01:01, 13.25it/s]                                                                                            \n",
      "  0%|                                                                                      | 0/1560 [00:00<?, ?it/s]"
     ]
    },
    {
     "name": "stdout",
     "output_type": "stream",
     "text": [
      "Saving results in D:\\3DBHVR\\FacialExpression_20210414\\DLC-Guillermo-2021-04-14\\new-videos...\n",
      "Saving csv poses!\n",
      "Starting to analyze %  D:/3DBHVR/FacialExpression_20210414/DLC-Guillermo-2021-04-14/new-videos/subject5_cam-C.avi\n",
      "D:\\3DBHVR\\FacialExpression_20210414\\DLC-Guillermo-2021-04-14\\new-videos  already exists!\n",
      "Loading  D:/3DBHVR/FacialExpression_20210414/DLC-Guillermo-2021-04-14/new-videos/subject5_cam-C.avi\n",
      "Duration of video [s]:  15.6 , recorded with  100.0 fps!\n",
      "Overall # of frames:  1560  found with (before cropping) frame dimensions:  1440 1080\n",
      "Starting to extract posture\n"
     ]
    },
    {
     "name": "stderr",
     "output_type": "stream",
     "text": [
      "1575it [01:49, 14.32it/s]                                                                                           \n"
     ]
    },
    {
     "name": "stdout",
     "output_type": "stream",
     "text": [
      "Saving results in D:\\3DBHVR\\FacialExpression_20210414\\DLC-Guillermo-2021-04-14\\new-videos...\n",
      "Saving csv poses!\n",
      "Starting to analyze %  D:/3DBHVR/FacialExpression_20210414/DLC-Guillermo-2021-04-14/new-videos/subject5_cam-D.avi\n"
     ]
    },
    {
     "name": "stderr",
     "output_type": "stream",
     "text": [
      "\r",
      "  0%|                                                                                      | 0/1560 [00:00<?, ?it/s]"
     ]
    },
    {
     "name": "stdout",
     "output_type": "stream",
     "text": [
      "D:\\3DBHVR\\FacialExpression_20210414\\DLC-Guillermo-2021-04-14\\new-videos  already exists!\n",
      "Loading  D:/3DBHVR/FacialExpression_20210414/DLC-Guillermo-2021-04-14/new-videos/subject5_cam-D.avi\n",
      "Duration of video [s]:  15.6 , recorded with  100.0 fps!\n",
      "Overall # of frames:  1560  found with (before cropping) frame dimensions:  1440 1080\n",
      "Starting to extract posture\n"
     ]
    },
    {
     "name": "stderr",
     "output_type": "stream",
     "text": [
      "1575it [01:58, 13.27it/s]                                                                                           \n"
     ]
    },
    {
     "name": "stdout",
     "output_type": "stream",
     "text": [
      "Saving results in D:\\3DBHVR\\FacialExpression_20210414\\DLC-Guillermo-2021-04-14\\new-videos...\n",
      "Saving csv poses!\n"
     ]
    },
    {
     "name": "stderr",
     "output_type": "stream",
     "text": [
      "\r",
      "  0%|                                                                                       | 0/280 [00:00<?, ?it/s]"
     ]
    },
    {
     "name": "stdout",
     "output_type": "stream",
     "text": [
      "Starting to analyze %  D:/3DBHVR/FacialExpression_20210414/DLC-Guillermo-2021-04-14/new-videos/subject5_cam-E.avi\n",
      "D:\\3DBHVR\\FacialExpression_20210414\\DLC-Guillermo-2021-04-14\\new-videos  already exists!\n",
      "Loading  D:/3DBHVR/FacialExpression_20210414/DLC-Guillermo-2021-04-14/new-videos/subject5_cam-E.avi\n",
      "Duration of video [s]:  2.8 , recorded with  100.0 fps!\n",
      "Overall # of frames:  280  found with (before cropping) frame dimensions:  1440 1080\n",
      "Starting to extract posture\n"
     ]
    },
    {
     "name": "stderr",
     "output_type": "stream",
     "text": [
      "290it [00:20, 14.27it/s]                                                                                            \n",
      "  0%|                                                                                      | 0/1560 [00:00<?, ?it/s]"
     ]
    },
    {
     "name": "stdout",
     "output_type": "stream",
     "text": [
      "Saving results in D:\\3DBHVR\\FacialExpression_20210414\\DLC-Guillermo-2021-04-14\\new-videos...\n",
      "Saving csv poses!\n",
      "Starting to analyze %  D:/3DBHVR/FacialExpression_20210414/DLC-Guillermo-2021-04-14/new-videos/subject5_cam-F.avi\n",
      "D:\\3DBHVR\\FacialExpression_20210414\\DLC-Guillermo-2021-04-14\\new-videos  already exists!\n",
      "Loading  D:/3DBHVR/FacialExpression_20210414/DLC-Guillermo-2021-04-14/new-videos/subject5_cam-F.avi\n",
      "Duration of video [s]:  15.6 , recorded with  100.0 fps!\n",
      "Overall # of frames:  1560  found with (before cropping) frame dimensions:  1440 1080\n",
      "Starting to extract posture\n"
     ]
    },
    {
     "name": "stderr",
     "output_type": "stream",
     "text": [
      "1575it [02:01, 13.00it/s]                                                                                           \n"
     ]
    },
    {
     "name": "stdout",
     "output_type": "stream",
     "text": [
      "Saving results in D:\\3DBHVR\\FacialExpression_20210414\\DLC-Guillermo-2021-04-14\\new-videos...\n",
      "Saving csv poses!\n"
     ]
    },
    {
     "name": "stderr",
     "output_type": "stream",
     "text": [
      "\r",
      "  0%|                                                                                      | 0/1288 [00:00<?, ?it/s]"
     ]
    },
    {
     "name": "stdout",
     "output_type": "stream",
     "text": [
      "Starting to analyze %  D:/3DBHVR/FacialExpression_20210414/DLC-Guillermo-2021-04-14/new-videos/subject6.2_cam-A.avi\n",
      "D:\\3DBHVR\\FacialExpression_20210414\\DLC-Guillermo-2021-04-14\\new-videos  already exists!\n",
      "Loading  D:/3DBHVR/FacialExpression_20210414/DLC-Guillermo-2021-04-14/new-videos/subject6.2_cam-A.avi\n",
      "Duration of video [s]:  12.88 , recorded with  100.0 fps!\n",
      "Overall # of frames:  1288  found with (before cropping) frame dimensions:  1440 1080\n",
      "Starting to extract posture\n"
     ]
    },
    {
     "name": "stderr",
     "output_type": "stream",
     "text": [
      "1296it [01:34, 13.76it/s]                                                                                           \n"
     ]
    },
    {
     "name": "stdout",
     "output_type": "stream",
     "text": [
      "Saving results in D:\\3DBHVR\\FacialExpression_20210414\\DLC-Guillermo-2021-04-14\\new-videos...\n",
      "Saving csv poses!\n",
      "Starting to analyze %  D:/3DBHVR/FacialExpression_20210414/DLC-Guillermo-2021-04-14/new-videos/subject6.2_cam-B.avi\n",
      "D:\\3DBHVR\\FacialExpression_20210414\\DLC-Guillermo-2021-04-14\\new-videos  already exists!\n",
      "Loading  D:/3DBHVR/FacialExpression_20210414/DLC-Guillermo-2021-04-14/new-videos/subject6.2_cam-B.avi\n"
     ]
    },
    {
     "name": "stderr",
     "output_type": "stream",
     "text": [
      "\r",
      "  0%|                                                                                      | 0/1282 [00:00<?, ?it/s]"
     ]
    },
    {
     "name": "stdout",
     "output_type": "stream",
     "text": [
      "Duration of video [s]:  12.82 , recorded with  100.0 fps!\n",
      "Overall # of frames:  1282  found with (before cropping) frame dimensions:  1440 1080\n",
      "Starting to extract posture\n"
     ]
    },
    {
     "name": "stderr",
     "output_type": "stream",
     "text": [
      "1284it [01:41, 12.66it/s]                                                                                           \n"
     ]
    },
    {
     "name": "stdout",
     "output_type": "stream",
     "text": [
      "Saving results in D:\\3DBHVR\\FacialExpression_20210414\\DLC-Guillermo-2021-04-14\\new-videos...\n",
      "Saving csv poses!\n",
      "Starting to analyze %  D:/3DBHVR/FacialExpression_20210414/DLC-Guillermo-2021-04-14/new-videos/subject6.2_cam-C.avi\n",
      "D:\\3DBHVR\\FacialExpression_20210414\\DLC-Guillermo-2021-04-14\\new-videos  already exists!\n",
      "Loading  D:/3DBHVR/FacialExpression_20210414/DLC-Guillermo-2021-04-14/new-videos/subject6.2_cam-C.avi\n"
     ]
    },
    {
     "name": "stderr",
     "output_type": "stream",
     "text": [
      "\r",
      "  0%|                                                                                      | 0/1290 [00:00<?, ?it/s]"
     ]
    },
    {
     "name": "stdout",
     "output_type": "stream",
     "text": [
      "Duration of video [s]:  12.9 , recorded with  100.0 fps!\n",
      "Overall # of frames:  1290  found with (before cropping) frame dimensions:  1440 1080\n",
      "Starting to extract posture\n"
     ]
    },
    {
     "name": "stderr",
     "output_type": "stream",
     "text": [
      "1296it [01:34, 13.66it/s]                                                                                           \n"
     ]
    },
    {
     "name": "stdout",
     "output_type": "stream",
     "text": [
      "Saving results in D:\\3DBHVR\\FacialExpression_20210414\\DLC-Guillermo-2021-04-14\\new-videos...\n",
      "Saving csv poses!\n",
      "Starting to analyze %  D:/3DBHVR/FacialExpression_20210414/DLC-Guillermo-2021-04-14/new-videos/subject6.2_cam-D.avi\n",
      "D:\\3DBHVR\\FacialExpression_20210414\\DLC-Guillermo-2021-04-14\\new-videos  already exists!\n",
      "Loading  D:/3DBHVR/FacialExpression_20210414/DLC-Guillermo-2021-04-14/new-videos/subject6.2_cam-D.avi\n"
     ]
    },
    {
     "name": "stderr",
     "output_type": "stream",
     "text": [
      "\r",
      "  0%|                                                                                      | 0/1290 [00:00<?, ?it/s]"
     ]
    },
    {
     "name": "stdout",
     "output_type": "stream",
     "text": [
      "Duration of video [s]:  12.9 , recorded with  100.0 fps!\n",
      "Overall # of frames:  1290  found with (before cropping) frame dimensions:  1440 1080\n",
      "Starting to extract posture\n"
     ]
    },
    {
     "name": "stderr",
     "output_type": "stream",
     "text": [
      "1296it [01:43, 12.56it/s]                                                                                           \n"
     ]
    },
    {
     "name": "stdout",
     "output_type": "stream",
     "text": [
      "Saving results in D:\\3DBHVR\\FacialExpression_20210414\\DLC-Guillermo-2021-04-14\\new-videos...\n",
      "Saving csv poses!\n",
      "Starting to analyze %  "
     ]
    },
    {
     "name": "stderr",
     "output_type": "stream",
     "text": [
      "\r",
      "  0%|                                                                                      | 0/1282 [00:00<?, ?it/s]"
     ]
    },
    {
     "name": "stdout",
     "output_type": "stream",
     "text": [
      "D:/3DBHVR/FacialExpression_20210414/DLC-Guillermo-2021-04-14/new-videos/subject6.2_cam-E.avi\n",
      "D:\\3DBHVR\\FacialExpression_20210414\\DLC-Guillermo-2021-04-14\\new-videos  already exists!\n",
      "Loading  D:/3DBHVR/FacialExpression_20210414/DLC-Guillermo-2021-04-14/new-videos/subject6.2_cam-E.avi\n",
      "Duration of video [s]:  12.82 , recorded with  100.0 fps!\n",
      "Overall # of frames:  1282  found with (before cropping) frame dimensions:  1440 1080\n",
      "Starting to extract posture\n"
     ]
    },
    {
     "name": "stderr",
     "output_type": "stream",
     "text": [
      "1284it [01:28, 14.56it/s]                                                                                           \n"
     ]
    },
    {
     "name": "stdout",
     "output_type": "stream",
     "text": [
      "Saving results in D:\\3DBHVR\\FacialExpression_20210414\\DLC-Guillermo-2021-04-14\\new-videos...\n",
      "Saving csv poses!\n",
      "Starting to analyze %  D:/3DBHVR/FacialExpression_20210414/DLC-Guillermo-2021-04-14/new-videos/subject6.2_cam-F.avi\n",
      "D:\\3DBHVR\\FacialExpression_20210414\\DLC-Guillermo-2021-04-14\\new-videos  already exists!\n",
      "Loading  D:/3DBHVR/FacialExpression_20210414/DLC-Guillermo-2021-04-14/new-videos/subject6.2_cam-F.avi\n",
      "Duration of video [s]:  12.9 , recorded with  100.0 fps!\n",
      "Overall # of frames:  1290  found with (before cropping) frame dimensions:  1440 1080\n",
      "Starting to extract posture\n"
     ]
    },
    {
     "name": "stderr",
     "output_type": "stream",
     "text": [
      "1296it [01:32, 13.95it/s]                                                                                           \n"
     ]
    },
    {
     "name": "stdout",
     "output_type": "stream",
     "text": [
      "Saving results in D:\\3DBHVR\\FacialExpression_20210414\\DLC-Guillermo-2021-04-14\\new-videos...\n",
      "Saving csv poses!\n",
      "Starting to analyze %  D:/3DBHVR/FacialExpression_20210414/DLC-Guillermo-2021-04-14/new-videos/subject6_cam-A.avi\n",
      "D:\\3DBHVR\\FacialExpression_20210414\\DLC-Guillermo-2021-04-14\\new-videos  already exists!\n",
      "Loading  D:/3DBHVR/FacialExpression_20210414/DLC-Guillermo-2021-04-14/new-videos/subject6_cam-A.avi\n"
     ]
    },
    {
     "name": "stderr",
     "output_type": "stream",
     "text": [
      "\r",
      "  0%|                                                                                      | 0/1763 [00:00<?, ?it/s]"
     ]
    },
    {
     "name": "stdout",
     "output_type": "stream",
     "text": [
      "Duration of video [s]:  17.63 , recorded with  100.0 fps!\n",
      "Overall # of frames:  1763  found with (before cropping) frame dimensions:  1440 1080\n",
      "Starting to extract posture\n"
     ]
    },
    {
     "name": "stderr",
     "output_type": "stream",
     "text": [
      "1768it [02:01, 14.53it/s]                                                                                           \n"
     ]
    },
    {
     "name": "stdout",
     "output_type": "stream",
     "text": [
      "Saving results in D:\\3DBHVR\\FacialExpression_20210414\\DLC-Guillermo-2021-04-14\\new-videos...\n",
      "Saving csv poses!\n"
     ]
    },
    {
     "name": "stderr",
     "output_type": "stream",
     "text": [
      "\r",
      "  0%|                                                                                      | 0/1757 [00:00<?, ?it/s]"
     ]
    },
    {
     "name": "stdout",
     "output_type": "stream",
     "text": [
      "Starting to analyze %  D:/3DBHVR/FacialExpression_20210414/DLC-Guillermo-2021-04-14/new-videos/subject6_cam-B.avi\n",
      "D:\\3DBHVR\\FacialExpression_20210414\\DLC-Guillermo-2021-04-14\\new-videos  already exists!\n",
      "Loading  D:/3DBHVR/FacialExpression_20210414/DLC-Guillermo-2021-04-14/new-videos/subject6_cam-B.avi\n",
      "Duration of video [s]:  17.57 , recorded with  100.0 fps!\n",
      "Overall # of frames:  1757  found with (before cropping) frame dimensions:  1440 1080\n",
      "Starting to extract posture\n"
     ]
    },
    {
     "name": "stderr",
     "output_type": "stream",
     "text": [
      "1768it [02:07, 13.90it/s]                                                                                           \n"
     ]
    },
    {
     "name": "stdout",
     "output_type": "stream",
     "text": [
      "Saving results in D:\\3DBHVR\\FacialExpression_20210414\\DLC-Guillermo-2021-04-14\\new-videos...\n",
      "Saving csv poses!\n"
     ]
    },
    {
     "name": "stderr",
     "output_type": "stream",
     "text": [
      "\r",
      "  0%|                                                                                      | 0/1764 [00:00<?, ?it/s]"
     ]
    },
    {
     "name": "stdout",
     "output_type": "stream",
     "text": [
      "Starting to analyze %  D:/3DBHVR/FacialExpression_20210414/DLC-Guillermo-2021-04-14/new-videos/subject6_cam-C.avi\n",
      "D:\\3DBHVR\\FacialExpression_20210414\\DLC-Guillermo-2021-04-14\\new-videos  already exists!\n",
      "Loading  D:/3DBHVR/FacialExpression_20210414/DLC-Guillermo-2021-04-14/new-videos/subject6_cam-C.avi\n",
      "Duration of video [s]:  17.64 , recorded with  100.0 fps!\n",
      "Overall # of frames:  1764  found with (before cropping) frame dimensions:  1440 1080\n",
      "Starting to extract posture\n"
     ]
    },
    {
     "name": "stderr",
     "output_type": "stream",
     "text": [
      "1768it [02:03, 14.29it/s]                                                                                           \n"
     ]
    },
    {
     "name": "stdout",
     "output_type": "stream",
     "text": [
      "Saving results in D:\\3DBHVR\\FacialExpression_20210414\\DLC-Guillermo-2021-04-14\\new-videos...\n",
      "Saving csv poses!\n"
     ]
    },
    {
     "name": "stderr",
     "output_type": "stream",
     "text": [
      "\r",
      "  0%|                                                                                      | 0/1764 [00:00<?, ?it/s]"
     ]
    },
    {
     "name": "stdout",
     "output_type": "stream",
     "text": [
      "Starting to analyze %  D:/3DBHVR/FacialExpression_20210414/DLC-Guillermo-2021-04-14/new-videos/subject6_cam-D.avi\n",
      "D:\\3DBHVR\\FacialExpression_20210414\\DLC-Guillermo-2021-04-14\\new-videos  already exists!\n",
      "Loading  D:/3DBHVR/FacialExpression_20210414/DLC-Guillermo-2021-04-14/new-videos/subject6_cam-D.avi\n",
      "Duration of video [s]:  17.64 , recorded with  100.0 fps!\n",
      "Overall # of frames:  1764  found with (before cropping) frame dimensions:  1440 1080\n",
      "Starting to extract posture\n"
     ]
    },
    {
     "name": "stderr",
     "output_type": "stream",
     "text": [
      "1768it [02:07, 13.89it/s]                                                                                           \n"
     ]
    },
    {
     "name": "stdout",
     "output_type": "stream",
     "text": [
      "Saving results in D:\\3DBHVR\\FacialExpression_20210414\\DLC-Guillermo-2021-04-14\\new-videos...\n",
      "Saving csv poses!\n"
     ]
    },
    {
     "name": "stderr",
     "output_type": "stream",
     "text": [
      "\r",
      "  0%|                                                                                      | 0/1756 [00:00<?, ?it/s]"
     ]
    },
    {
     "name": "stdout",
     "output_type": "stream",
     "text": [
      "Starting to analyze %  D:/3DBHVR/FacialExpression_20210414/DLC-Guillermo-2021-04-14/new-videos/subject6_cam-E.avi\n",
      "D:\\3DBHVR\\FacialExpression_20210414\\DLC-Guillermo-2021-04-14\\new-videos  already exists!\n",
      "Loading  D:/3DBHVR/FacialExpression_20210414/DLC-Guillermo-2021-04-14/new-videos/subject6_cam-E.avi\n",
      "Duration of video [s]:  17.56 , recorded with  100.0 fps!\n",
      "Overall # of frames:  1756  found with (before cropping) frame dimensions:  1440 1080\n",
      "Starting to extract posture\n"
     ]
    },
    {
     "name": "stderr",
     "output_type": "stream",
     "text": [
      "1768it [02:02, 14.39it/s]                                                                                           \n"
     ]
    },
    {
     "name": "stdout",
     "output_type": "stream",
     "text": [
      "Saving results in D:\\3DBHVR\\FacialExpression_20210414\\DLC-Guillermo-2021-04-14\\new-videos...\n",
      "Saving csv poses!\n"
     ]
    },
    {
     "name": "stderr",
     "output_type": "stream",
     "text": [
      "\r",
      "  0%|                                                                                      | 0/1764 [00:00<?, ?it/s]"
     ]
    },
    {
     "name": "stdout",
     "output_type": "stream",
     "text": [
      "Starting to analyze %  D:/3DBHVR/FacialExpression_20210414/DLC-Guillermo-2021-04-14/new-videos/subject6_cam-F.avi\n",
      "D:\\3DBHVR\\FacialExpression_20210414\\DLC-Guillermo-2021-04-14\\new-videos  already exists!\n",
      "Loading  D:/3DBHVR/FacialExpression_20210414/DLC-Guillermo-2021-04-14/new-videos/subject6_cam-F.avi\n",
      "Duration of video [s]:  17.64 , recorded with  100.0 fps!\n",
      "Overall # of frames:  1764  found with (before cropping) frame dimensions:  1440 1080\n",
      "Starting to extract posture\n"
     ]
    },
    {
     "name": "stderr",
     "output_type": "stream",
     "text": [
      "1768it [02:09, 13.63it/s]                                                                                           \n"
     ]
    },
    {
     "name": "stdout",
     "output_type": "stream",
     "text": [
      "Saving results in D:\\3DBHVR\\FacialExpression_20210414\\DLC-Guillermo-2021-04-14\\new-videos...\n",
      "Saving csv poses!\n",
      "The videos are analyzed. Now your research can truly start! \n",
      " You can create labeled videos with 'create_labeled_video'\n",
      "If the tracking is not satisfactory for some videos, consider expanding the training set. You can use the function 'extract_outlier_frames' to extract a few representative outlier frames.\n"
     ]
    },
    {
     "data": {
      "text/plain": [
       "'DLC_resnet50_DLCApr14shuffle1_1030000'"
      ]
     },
     "execution_count": 23,
     "metadata": {},
     "output_type": "execute_result"
    }
   ],
   "source": [
    "deeplabcut.analyze_videos(path_config_file, new_videos, shuffle=1, save_as_csv=True, videotype='mp4' )"
   ]
  },
  {
   "cell_type": "markdown",
   "id": "ece7c05e",
   "metadata": {},
   "source": [
    "Create labeled videos to check the model accuracy on your new data."
   ]
  },
  {
   "cell_type": "code",
   "execution_count": null,
   "id": "d3a23a8a",
   "metadata": {},
   "outputs": [],
   "source": [
    "deeplabcut.create_labeled_video(path_config_file, new_videos, videotype = 'mp4', save_frames=False)"
   ]
  },
  {
   "cell_type": "markdown",
   "id": "71020cea",
   "metadata": {},
   "source": [
    "Step 14: Extract outlier frames"
   ]
  },
  {
   "cell_type": "code",
   "execution_count": 25,
   "id": "4d02cd72",
   "metadata": {},
   "outputs": [
    {
     "ename": "TypeError",
     "evalue": "extract_outlier_frames() got an unexpected keyword argument 'userfeedback'",
     "output_type": "error",
     "traceback": [
      "\u001b[1;31m---------------------------------------------------------------------------\u001b[0m",
      "\u001b[1;31mTypeError\u001b[0m                                 Traceback (most recent call last)",
      "\u001b[1;32m<ipython-input-25-3ef2496ff52b>\u001b[0m in \u001b[0;36m<module>\u001b[1;34m\u001b[0m\n\u001b[1;32m----> 1\u001b[1;33m \u001b[0mdeeplabcut\u001b[0m\u001b[1;33m.\u001b[0m\u001b[0mextract_outlier_frames\u001b[0m\u001b[1;33m(\u001b[0m\u001b[0mpath_config_file\u001b[0m\u001b[1;33m,\u001b[0m \u001b[0mnew_videos\u001b[0m\u001b[1;33m,\u001b[0m \u001b[0muserfeedback\u001b[0m\u001b[1;33m=\u001b[0m\u001b[1;32mFalse\u001b[0m\u001b[1;33m)\u001b[0m\u001b[1;33m\u001b[0m\u001b[1;33m\u001b[0m\u001b[0m\n\u001b[0m",
      "\u001b[1;31mTypeError\u001b[0m: extract_outlier_frames() got an unexpected keyword argument 'userfeedback'"
     ]
    }
   ],
   "source": [
    "deeplabcut.extract_outlier_frames(path_config_file, new_videos)"
   ]
  },
  {
   "cell_type": "markdown",
   "id": "b9c226c7",
   "metadata": {},
   "source": [
    "refine labels "
   ]
  },
  {
   "cell_type": "code",
   "execution_count": null,
   "id": "1470c530",
   "metadata": {},
   "outputs": [],
   "source": [
    "deeplabcut.refine_labels(path_config_file)"
   ]
  },
  {
   "cell_type": "markdown",
   "id": "5e0a98df",
   "metadata": {},
   "source": [
    "merge datasets"
   ]
  },
  {
   "cell_type": "code",
   "execution_count": null,
   "id": "ad50c8d3",
   "metadata": {},
   "outputs": [],
   "source": [
    "deeplabcut.merge_dataset(path_config_file)"
   ]
  },
  {
   "cell_type": "code",
   "execution_count": null,
   "id": "72c265e9",
   "metadata": {},
   "outputs": [],
   "source": []
  },
  {
   "cell_type": "code",
   "execution_count": null,
   "id": "58cc13a7",
   "metadata": {},
   "outputs": [],
   "source": []
  }
 ],
 "metadata": {
  "kernelspec": {
   "display_name": "Python [conda env:DLC-GPU] *",
   "language": "python",
   "name": "conda-env-DLC-GPU-py"
  },
  "language_info": {
   "codemirror_mode": {
    "name": "ipython",
    "version": 3
   },
   "file_extension": ".py",
   "mimetype": "text/x-python",
   "name": "python",
   "nbconvert_exporter": "python",
   "pygments_lexer": "ipython3",
   "version": "3.7.10"
  }
 },
 "nbformat": 4,
 "nbformat_minor": 5
}
