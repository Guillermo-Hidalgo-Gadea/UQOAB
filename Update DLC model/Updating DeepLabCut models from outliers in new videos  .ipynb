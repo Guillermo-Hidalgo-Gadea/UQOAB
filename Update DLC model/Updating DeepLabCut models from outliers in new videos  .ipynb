{
 "cells": [
  {
   "cell_type": "markdown",
   "id": "b39b438d",
   "metadata": {},
   "source": [
    "# A DLC project was previously created and trained on 6 videos of a single subject's facial expressions."
   ]
  },
  {
   "cell_type": "markdown",
   "id": "6b5333bc",
   "metadata": {},
   "source": [
    "First, import deeplabcut and load the previous project."
   ]
  },
  {
   "cell_type": "code",
   "execution_count": 2,
   "id": "8f53942e",
   "metadata": {},
   "outputs": [],
   "source": [
    "import deeplabcut\n",
    "#deeplabcut.launch_dlc()\n",
    "import tkinter\n",
    "from tkinter import filedialog"
   ]
  },
  {
   "cell_type": "code",
   "execution_count": 3,
   "id": "1c0a5dd2",
   "metadata": {},
   "outputs": [],
   "source": [
    "config = filedialog.askopenfilenames(title='Choose the config file of your DeepLabCut project:')\n",
    "path_config_file = config[0]"
   ]
  },
  {
   "cell_type": "markdown",
   "id": "aece644a",
   "metadata": {},
   "source": [
    "As in Nath et al. 2019 Figure 2, steps 13 to 15 consist of analyzing novel videos, extracting outlier frames, refining those frames, merging datasets and retraining the model"
   ]
  },
  {
   "cell_type": "code",
   "execution_count": null,
   "id": "e26e78fd",
   "metadata": {},
   "outputs": [],
   "source": [
    "video_files = filedialog.askopenfilenames(title='Choose new video files to analyze in DeepLabCut:')\n",
    "new_videos = list(video_files)"
   ]
  },
  {
   "cell_type": "markdown",
   "id": "70d4af73",
   "metadata": {},
   "source": [
    "Step 13: Analyze new videos\n",
    "\n",
    "Note that at this point we expect generalization errors to some degree! These errors will help us re-train the model with exactly those cases with which the previous model struggels. This way you avoid labeling redundant frames."
   ]
  },
  {
   "cell_type": "code",
   "execution_count": null,
   "id": "0ff38822",
   "metadata": {},
   "outputs": [],
   "source": [
    "deeplabcut.analyze_videos(path_config_file, new_videos, shuffle=1, save_as_csv=True, videotype='mp4' )"
   ]
  },
  {
   "cell_type": "markdown",
   "id": "ece7c05e",
   "metadata": {},
   "source": [
    "Create labeled videos to check the model accuracy on your new data."
   ]
  },
  {
   "cell_type": "code",
   "execution_count": null,
   "id": "d3a23a8a",
   "metadata": {},
   "outputs": [],
   "source": [
    "deeplabcut.create_labeled_video(path_config_file, new_videos, videotype = 'mp4', save_frames=False)"
   ]
  },
  {
   "cell_type": "markdown",
   "id": "71020cea",
   "metadata": {},
   "source": [
    "Step 14: Extract outlier frames"
   ]
  },
  {
   "cell_type": "code",
   "execution_count": null,
   "id": "4d02cd72",
   "metadata": {},
   "outputs": [],
   "source": [
    "# userfeedback=False not working, you will have to respond to each extraction manually\n",
    "deeplabcut.extract_outlier_frames(path_config_file, new_videos, automatic=True)"
   ]
  },
  {
   "cell_type": "markdown",
   "id": "0e15b1d8",
   "metadata": {},
   "source": [
    "## Troubleshooting\n",
    "\n",
    "Should the frame extraction above struggle to add the new videos to the config file (AUTOMATIC ADDING OF VIDEO TO CONFIG FILE FAILED!), run the code below to add them manually, see [here](https://github.com/DeepLabCut/DeepLabCut/issues/232).\n",
    "It may be because your Jupyter Notebook probably has no administrator rights, so try starting anaconda with admin rights, importing and starting the DLC project again from above, and then running the code below:"
   ]
  },
  {
   "cell_type": "code",
   "execution_count": null,
   "id": "c847a8ab",
   "metadata": {},
   "outputs": [],
   "source": [
    "deeplabcut.add_new_videos(path_config_file, new_videos, copy_videos=False)"
   ]
  },
  {
   "cell_type": "markdown",
   "id": "5a154739",
   "metadata": {},
   "source": [
    "Check your config.yaml file to see if new videos were added to the list in # Annotation data set configuration (and individual video cropping parameters) video_sets:"
   ]
  },
  {
   "cell_type": "markdown",
   "id": "b9c226c7",
   "metadata": {},
   "source": [
    "Step 15: Refine labels in outlier frames "
   ]
  },
  {
   "cell_type": "code",
   "execution_count": null,
   "id": "1470c530",
   "metadata": {},
   "outputs": [],
   "source": [
    "deeplabcut.refine_labels(path_config_file)"
   ]
  },
  {
   "cell_type": "markdown",
   "id": "5e0a98df",
   "metadata": {},
   "source": [
    "Step 16: Merge datasets and re-train model"
   ]
  },
  {
   "cell_type": "code",
   "execution_count": null,
   "id": "ad50c8d3",
   "metadata": {},
   "outputs": [],
   "source": [
    "deeplabcut.merge_datasets(path_config_file)"
   ]
  },
  {
   "cell_type": "code",
   "execution_count": null,
   "id": "72c265e9",
   "metadata": {},
   "outputs": [],
   "source": [
    "deeplabcut.create_training_dataset(path_config_file, net_type='resnet_50', augmenter_type='imgaug')"
   ]
  },
  {
   "cell_type": "markdown",
   "id": "503b0398",
   "metadata": {},
   "source": [
    "To restart training from the last saved iteration from the previous model, we would go in the dlc-models directory, go to the iteration of the previous model, find the train subdirectory and look for the latest snapshot, e.g., 'snapshot-1030000'. Next, go to the new iteration in the dlc-models directory, go to the train directory and open the pose_cfg.yaml file. Edit the parameter init_weights to add the last snapshot without any filetype ending.\n",
    "from \n",
    "\"init_weights: C:\\Users\\hidalggc\\Anaconda3\\envs\\DLC-GPU\\lib\\site-packages\\deeplabcut\\pose_estimation_tensorflow\\models\\pretrained\\resnet_v1_50.ckpt\"\n",
    "to\n",
    "\"init_weights: 'D:\\3DBHVR\\FacialExpression_20210414\\DLC-Guillermo-2021-04-14\\dlc-models\\iteration-0\\DLCApr14-trainset95shuffle1\\train\\snapshot-1030000'\""
   ]
  },
  {
   "cell_type": "code",
   "execution_count": null,
   "id": "58cc13a7",
   "metadata": {},
   "outputs": [],
   "source": [
    "deeplabcut.train_network(path_config_file, shuffle=1, displayiters=100, saveiters=1000)"
   ]
  },
  {
   "cell_type": "markdown",
   "id": "85ad7aaf",
   "metadata": {},
   "source": [
    "Analyze new videos"
   ]
  },
  {
   "cell_type": "code",
   "execution_count": 4,
   "id": "60e5230c",
   "metadata": {},
   "outputs": [],
   "source": [
    "video_files = filedialog.askopenfilenames(title='Choose new video files to analyze in DeepLabCut:')\n",
    "test_videos = list(video_files)"
   ]
  },
  {
   "cell_type": "code",
   "execution_count": null,
   "id": "1e0d5aee",
   "metadata": {},
   "outputs": [
    {
     "name": "stdout",
     "output_type": "stream",
     "text": [
      "Using snapshot-1030000 for model D:/3DBHVR/FacialExpression_20210414/DLC-Guillermo-2021-04-14\\dlc-models\\iteration-0\\DLCApr14-trainset95shuffle1\n",
      "Initializing ResNet\n"
     ]
    },
    {
     "name": "stderr",
     "output_type": "stream",
     "text": [
      "\r",
      "  0%|                                                        | 0/3843 [00:00<?, ?it/s]"
     ]
    },
    {
     "name": "stdout",
     "output_type": "stream",
     "text": [
      "Starting to analyze %  D:/3DBHVR/FacialExpression_20210414/DLC-Guillermo-2021-04-14/x_old-videos/subject1_cam-D.avi\n",
      "D:\\3DBHVR\\FacialExpression_20210414\\DLC-Guillermo-2021-04-14\\x_old-videos  already exists!\n",
      "Loading  D:/3DBHVR/FacialExpression_20210414/DLC-Guillermo-2021-04-14/x_old-videos/subject1_cam-D.avi\n",
      "Duration of video [s]:  38.43 , recorded with  100.0 fps!\n",
      "Overall # of frames:  3843  found with (before cropping) frame dimensions:  1440 1080\n",
      "Starting to extract posture\n"
     ]
    },
    {
     "name": "stderr",
     "output_type": "stream",
     "text": [
      "3876it [04:31, 14.30it/s]                                                             \n"
     ]
    },
    {
     "name": "stdout",
     "output_type": "stream",
     "text": [
      "Saving results in D:\\3DBHVR\\FacialExpression_20210414\\DLC-Guillermo-2021-04-14\\x_old-videos...\n",
      "Saving csv poses!\n"
     ]
    },
    {
     "name": "stderr",
     "output_type": "stream",
     "text": [
      "\r",
      "  0%|                                                        | 0/3843 [00:00<?, ?it/s]"
     ]
    },
    {
     "name": "stdout",
     "output_type": "stream",
     "text": [
      "Starting to analyze %  D:/3DBHVR/FacialExpression_20210414/DLC-Guillermo-2021-04-14/x_old-videos/subject1_cam-F.avi\n",
      "D:\\3DBHVR\\FacialExpression_20210414\\DLC-Guillermo-2021-04-14\\x_old-videos  already exists!\n",
      "Loading  D:/3DBHVR/FacialExpression_20210414/DLC-Guillermo-2021-04-14/x_old-videos/subject1_cam-F.avi\n",
      "Duration of video [s]:  38.43 , recorded with  100.0 fps!\n",
      "Overall # of frames:  3843  found with (before cropping) frame dimensions:  1440 1080\n",
      "Starting to extract posture\n"
     ]
    },
    {
     "name": "stderr",
     "output_type": "stream",
     "text": [
      "3876it [04:25, 14.60it/s]                                                             \n"
     ]
    },
    {
     "name": "stdout",
     "output_type": "stream",
     "text": [
      "Saving results in D:\\3DBHVR\\FacialExpression_20210414\\DLC-Guillermo-2021-04-14\\x_old-videos...\n",
      "Saving csv poses!\n"
     ]
    },
    {
     "name": "stderr",
     "output_type": "stream",
     "text": [
      "\r",
      "  0%|                                                        | 0/1636 [00:00<?, ?it/s]"
     ]
    },
    {
     "name": "stdout",
     "output_type": "stream",
     "text": [
      "Starting to analyze %  D:/3DBHVR/FacialExpression_20210414/DLC-Guillermo-2021-04-14/x_old-videos/subject2.2_cam-D.avi\n",
      "D:\\3DBHVR\\FacialExpression_20210414\\DLC-Guillermo-2021-04-14\\x_old-videos  already exists!\n",
      "Loading  D:/3DBHVR/FacialExpression_20210414/DLC-Guillermo-2021-04-14/x_old-videos/subject2.2_cam-D.avi\n",
      "Duration of video [s]:  16.36 , recorded with  100.0 fps!\n",
      "Overall # of frames:  1636  found with (before cropping) frame dimensions:  1440 1080\n",
      "Starting to extract posture\n"
     ]
    },
    {
     "name": "stderr",
     "output_type": "stream",
     "text": [
      "1648it [01:57, 14.02it/s]                                                             \n"
     ]
    },
    {
     "name": "stdout",
     "output_type": "stream",
     "text": [
      "Saving results in D:\\3DBHVR\\FacialExpression_20210414\\DLC-Guillermo-2021-04-14\\x_old-videos...\n",
      "Saving csv poses!\n"
     ]
    },
    {
     "name": "stderr",
     "output_type": "stream",
     "text": [
      "\r",
      "  0%|                                                        | 0/1636 [00:00<?, ?it/s]"
     ]
    },
    {
     "name": "stdout",
     "output_type": "stream",
     "text": [
      "Starting to analyze %  D:/3DBHVR/FacialExpression_20210414/DLC-Guillermo-2021-04-14/x_old-videos/subject2.2_cam-F.avi\n",
      "D:\\3DBHVR\\FacialExpression_20210414\\DLC-Guillermo-2021-04-14\\x_old-videos  already exists!\n",
      "Loading  D:/3DBHVR/FacialExpression_20210414/DLC-Guillermo-2021-04-14/x_old-videos/subject2.2_cam-F.avi\n",
      "Duration of video [s]:  16.36 , recorded with  100.0 fps!\n",
      "Overall # of frames:  1636  found with (before cropping) frame dimensions:  1440 1080\n",
      "Starting to extract posture\n"
     ]
    },
    {
     "name": "stderr",
     "output_type": "stream",
     "text": [
      "1648it [02:00, 13.69it/s]                                                             \n"
     ]
    },
    {
     "name": "stdout",
     "output_type": "stream",
     "text": [
      "Saving results in D:\\3DBHVR\\FacialExpression_20210414\\DLC-Guillermo-2021-04-14\\x_old-videos...\n",
      "Saving csv poses!\n"
     ]
    },
    {
     "name": "stderr",
     "output_type": "stream",
     "text": [
      "\r",
      "  0%|                                                        | 0/1458 [00:00<?, ?it/s]"
     ]
    },
    {
     "name": "stdout",
     "output_type": "stream",
     "text": [
      "Starting to analyze %  D:/3DBHVR/FacialExpression_20210414/DLC-Guillermo-2021-04-14/x_old-videos/subject2.3_cam-D.avi\n",
      "D:\\3DBHVR\\FacialExpression_20210414\\DLC-Guillermo-2021-04-14\\x_old-videos  already exists!\n",
      "Loading  D:/3DBHVR/FacialExpression_20210414/DLC-Guillermo-2021-04-14/x_old-videos/subject2.3_cam-D.avi\n",
      "Duration of video [s]:  14.58 , recorded with  100.0 fps!\n",
      "Overall # of frames:  1458  found with (before cropping) frame dimensions:  1440 1080\n",
      "Starting to extract posture\n"
     ]
    },
    {
     "name": "stderr",
     "output_type": "stream",
     "text": [
      "1470it [01:45, 13.99it/s]                                                             \n"
     ]
    },
    {
     "name": "stdout",
     "output_type": "stream",
     "text": [
      "Saving results in D:\\3DBHVR\\FacialExpression_20210414\\DLC-Guillermo-2021-04-14\\x_old-videos...\n",
      "Saving csv poses!\n",
      "Starting to analyze %  D:/3DBHVR/FacialExpression_20210414/DLC-Guillermo-2021-04-14/x_old-videos/subject2.3_cam-F.avi\n",
      "D:\\3DBHVR\\FacialExpression_20210414\\DLC-Guillermo-2021-04-14\\x_old-videos  already exists!\n",
      "Loading  D:/3DBHVR/FacialExpression_20210414/DLC-Guillermo-2021-04-14/x_old-videos/subject2.3_cam-F.avi\n",
      "Duration of video [s]:  14.58 , recorded with  100.0 fps!\n",
      "Overall # of frames:  1458  found with (before cropping) frame dimensions:  1440 1080\n",
      "Starting to extract posture\n"
     ]
    },
    {
     "name": "stderr",
     "output_type": "stream",
     "text": [
      "1470it [01:47, 13.67it/s]                                                             \n"
     ]
    },
    {
     "name": "stdout",
     "output_type": "stream",
     "text": [
      "Saving results in D:\\3DBHVR\\FacialExpression_20210414\\DLC-Guillermo-2021-04-14\\x_old-videos...\n",
      "Saving csv poses!\n",
      "Starting to analyze %  D:/3DBHVR/FacialExpression_20210414/DLC-Guillermo-2021-04-14/x_old-videos/subject2_cam-D.avi\n"
     ]
    },
    {
     "name": "stderr",
     "output_type": "stream",
     "text": [
      "\r",
      "  0%|                                                        | 0/2529 [00:00<?, ?it/s]"
     ]
    },
    {
     "name": "stdout",
     "output_type": "stream",
     "text": [
      "D:\\3DBHVR\\FacialExpression_20210414\\DLC-Guillermo-2021-04-14\\x_old-videos  already exists!\n",
      "Loading  D:/3DBHVR/FacialExpression_20210414/DLC-Guillermo-2021-04-14/x_old-videos/subject2_cam-D.avi\n",
      "Duration of video [s]:  25.29 , recorded with  100.0 fps!\n",
      "Overall # of frames:  2529  found with (before cropping) frame dimensions:  1440 1080\n",
      "Starting to extract posture\n"
     ]
    },
    {
     "name": "stderr",
     "output_type": "stream",
     "text": [
      "2550it [03:02, 13.99it/s]                                                             \n"
     ]
    },
    {
     "name": "stdout",
     "output_type": "stream",
     "text": [
      "Saving results in D:\\3DBHVR\\FacialExpression_20210414\\DLC-Guillermo-2021-04-14\\x_old-videos...\n",
      "Saving csv poses!\n"
     ]
    },
    {
     "name": "stderr",
     "output_type": "stream",
     "text": [
      "\r",
      "  0%|                                                        | 0/2529 [00:00<?, ?it/s]"
     ]
    },
    {
     "name": "stdout",
     "output_type": "stream",
     "text": [
      "Starting to analyze %  D:/3DBHVR/FacialExpression_20210414/DLC-Guillermo-2021-04-14/x_old-videos/subject2_cam-F.avi\n",
      "D:\\3DBHVR\\FacialExpression_20210414\\DLC-Guillermo-2021-04-14\\x_old-videos  already exists!\n",
      "Loading  D:/3DBHVR/FacialExpression_20210414/DLC-Guillermo-2021-04-14/x_old-videos/subject2_cam-F.avi\n",
      "Duration of video [s]:  25.29 , recorded with  100.0 fps!\n",
      "Overall # of frames:  2529  found with (before cropping) frame dimensions:  1440 1080\n",
      "Starting to extract posture\n"
     ]
    },
    {
     "name": "stderr",
     "output_type": "stream",
     "text": [
      "2550it [03:05, 13.72it/s]                                                             \n"
     ]
    },
    {
     "name": "stdout",
     "output_type": "stream",
     "text": [
      "Saving results in D:\\3DBHVR\\FacialExpression_20210414\\DLC-Guillermo-2021-04-14\\x_old-videos...\n",
      "Saving csv poses!\n"
     ]
    },
    {
     "name": "stderr",
     "output_type": "stream",
     "text": [
      "\r",
      "  0%|                                                        | 0/1651 [00:00<?, ?it/s]"
     ]
    },
    {
     "name": "stdout",
     "output_type": "stream",
     "text": [
      "Starting to analyze %  D:/3DBHVR/FacialExpression_20210414/DLC-Guillermo-2021-04-14/x_old-videos/subject3.2_cam-D.avi\n",
      "D:\\3DBHVR\\FacialExpression_20210414\\DLC-Guillermo-2021-04-14\\x_old-videos  already exists!\n",
      "Loading  D:/3DBHVR/FacialExpression_20210414/DLC-Guillermo-2021-04-14/x_old-videos/subject3.2_cam-D.avi\n",
      "Duration of video [s]:  16.51 , recorded with  100.0 fps!\n",
      "Overall # of frames:  1651  found with (before cropping) frame dimensions:  1440 1080\n",
      "Starting to extract posture\n"
     ]
    },
    {
     "name": "stderr",
     "output_type": "stream",
     "text": [
      "1664it [02:00, 13.85it/s]                                                             \n"
     ]
    },
    {
     "name": "stdout",
     "output_type": "stream",
     "text": [
      "Saving results in D:\\3DBHVR\\FacialExpression_20210414\\DLC-Guillermo-2021-04-14\\x_old-videos...\n",
      "Saving csv poses!\n",
      "Starting to analyze %  D:/3DBHVR/FacialExpression_20210414/DLC-Guillermo-2021-04-14/x_old-videos/subject3.2_cam-F.avi\n"
     ]
    },
    {
     "name": "stderr",
     "output_type": "stream",
     "text": [
      "\r",
      "  0%|                                                        | 0/1651 [00:00<?, ?it/s]"
     ]
    },
    {
     "name": "stdout",
     "output_type": "stream",
     "text": [
      "D:\\3DBHVR\\FacialExpression_20210414\\DLC-Guillermo-2021-04-14\\x_old-videos  already exists!\n",
      "Loading  D:/3DBHVR/FacialExpression_20210414/DLC-Guillermo-2021-04-14/x_old-videos/subject3.2_cam-F.avi\n",
      "Duration of video [s]:  16.51 , recorded with  100.0 fps!\n",
      "Overall # of frames:  1651  found with (before cropping) frame dimensions:  1440 1080\n",
      "Starting to extract posture\n"
     ]
    },
    {
     "name": "stderr",
     "output_type": "stream",
     "text": [
      "1664it [02:00, 13.77it/s]                                                             \n"
     ]
    },
    {
     "name": "stdout",
     "output_type": "stream",
     "text": [
      "Saving results in D:\\3DBHVR\\FacialExpression_20210414\\DLC-Guillermo-2021-04-14\\x_old-videos...\n",
      "Saving csv poses!\n"
     ]
    },
    {
     "name": "stderr",
     "output_type": "stream",
     "text": [
      "\r",
      "  0%|                                                        | 0/2397 [00:00<?, ?it/s]"
     ]
    },
    {
     "name": "stdout",
     "output_type": "stream",
     "text": [
      "Starting to analyze %  D:/3DBHVR/FacialExpression_20210414/DLC-Guillermo-2021-04-14/x_old-videos/subject3.3_cam-D.avi\n",
      "D:\\3DBHVR\\FacialExpression_20210414\\DLC-Guillermo-2021-04-14\\x_old-videos  already exists!\n",
      "Loading  D:/3DBHVR/FacialExpression_20210414/DLC-Guillermo-2021-04-14/x_old-videos/subject3.3_cam-D.avi\n",
      "Duration of video [s]:  23.97 , recorded with  100.0 fps!\n",
      "Overall # of frames:  2397  found with (before cropping) frame dimensions:  1440 1080\n",
      "Starting to extract posture\n"
     ]
    },
    {
     "name": "stderr",
     "output_type": "stream",
     "text": [
      "2415it [02:54, 13.88it/s]                                                             \n"
     ]
    },
    {
     "name": "stdout",
     "output_type": "stream",
     "text": [
      "Saving results in D:\\3DBHVR\\FacialExpression_20210414\\DLC-Guillermo-2021-04-14\\x_old-videos...\n",
      "Saving csv poses!\n"
     ]
    },
    {
     "name": "stderr",
     "output_type": "stream",
     "text": [
      "\r",
      "  0%|                                                        | 0/2397 [00:00<?, ?it/s]"
     ]
    },
    {
     "name": "stdout",
     "output_type": "stream",
     "text": [
      "Starting to analyze %  D:/3DBHVR/FacialExpression_20210414/DLC-Guillermo-2021-04-14/x_old-videos/subject3.3_cam-F.avi\n",
      "D:\\3DBHVR\\FacialExpression_20210414\\DLC-Guillermo-2021-04-14\\x_old-videos  already exists!\n",
      "Loading  D:/3DBHVR/FacialExpression_20210414/DLC-Guillermo-2021-04-14/x_old-videos/subject3.3_cam-F.avi\n",
      "Duration of video [s]:  23.97 , recorded with  100.0 fps!\n",
      "Overall # of frames:  2397  found with (before cropping) frame dimensions:  1440 1080\n",
      "Starting to extract posture\n"
     ]
    },
    {
     "name": "stderr",
     "output_type": "stream",
     "text": [
      "2415it [02:55, 13.80it/s]                                                             \n"
     ]
    },
    {
     "name": "stdout",
     "output_type": "stream",
     "text": [
      "Saving results in D:\\3DBHVR\\FacialExpression_20210414\\DLC-Guillermo-2021-04-14\\x_old-videos...\n",
      "Saving csv poses!\n"
     ]
    },
    {
     "name": "stderr",
     "output_type": "stream",
     "text": [
      "\r",
      "  0%|                                                        | 0/1835 [00:00<?, ?it/s]"
     ]
    },
    {
     "name": "stdout",
     "output_type": "stream",
     "text": [
      "Starting to analyze %  D:/3DBHVR/FacialExpression_20210414/DLC-Guillermo-2021-04-14/x_old-videos/subject3_cam-D.avi\n",
      "D:\\3DBHVR\\FacialExpression_20210414\\DLC-Guillermo-2021-04-14\\x_old-videos  already exists!\n",
      "Loading  D:/3DBHVR/FacialExpression_20210414/DLC-Guillermo-2021-04-14/x_old-videos/subject3_cam-D.avi\n",
      "Duration of video [s]:  18.35 , recorded with  100.0 fps!\n",
      "Overall # of frames:  1835  found with (before cropping) frame dimensions:  1440 1080\n",
      "Starting to extract posture\n"
     ]
    },
    {
     "name": "stderr",
     "output_type": "stream",
     "text": [
      "1836it [02:13, 13.75it/s]                                                             \n"
     ]
    },
    {
     "name": "stdout",
     "output_type": "stream",
     "text": [
      "Saving results in D:\\3DBHVR\\FacialExpression_20210414\\DLC-Guillermo-2021-04-14\\x_old-videos...\n",
      "Saving csv poses!\n"
     ]
    },
    {
     "name": "stderr",
     "output_type": "stream",
     "text": [
      "\r",
      "  0%|                                                        | 0/1835 [00:00<?, ?it/s]"
     ]
    },
    {
     "name": "stdout",
     "output_type": "stream",
     "text": [
      "Starting to analyze %  D:/3DBHVR/FacialExpression_20210414/DLC-Guillermo-2021-04-14/x_old-videos/subject3_cam-F.avi\n",
      "D:\\3DBHVR\\FacialExpression_20210414\\DLC-Guillermo-2021-04-14\\x_old-videos  already exists!\n",
      "Loading  D:/3DBHVR/FacialExpression_20210414/DLC-Guillermo-2021-04-14/x_old-videos/subject3_cam-F.avi\n",
      "Duration of video [s]:  18.35 , recorded with  100.0 fps!\n",
      "Overall # of frames:  1835  found with (before cropping) frame dimensions:  1440 1080\n",
      "Starting to extract posture\n"
     ]
    },
    {
     "name": "stderr",
     "output_type": "stream",
     "text": [
      "1836it [02:14, 13.67it/s]                                                             \n"
     ]
    },
    {
     "name": "stdout",
     "output_type": "stream",
     "text": [
      "Saving results in D:\\3DBHVR\\FacialExpression_20210414\\DLC-Guillermo-2021-04-14\\x_old-videos...\n",
      "Saving csv poses!\n"
     ]
    },
    {
     "name": "stderr",
     "output_type": "stream",
     "text": [
      "\r",
      "  0%|                                                        | 0/1657 [00:00<?, ?it/s]"
     ]
    },
    {
     "name": "stdout",
     "output_type": "stream",
     "text": [
      "Starting to analyze %  D:/3DBHVR/FacialExpression_20210414/DLC-Guillermo-2021-04-14/x_old-videos/subject4.2_cam-D.avi\n",
      "D:\\3DBHVR\\FacialExpression_20210414\\DLC-Guillermo-2021-04-14\\x_old-videos  already exists!\n",
      "Loading  D:/3DBHVR/FacialExpression_20210414/DLC-Guillermo-2021-04-14/x_old-videos/subject4.2_cam-D.avi\n",
      "Duration of video [s]:  16.57 , recorded with  100.0 fps!\n",
      "Overall # of frames:  1657  found with (before cropping) frame dimensions:  1440 1080\n",
      "Starting to extract posture\n"
     ]
    },
    {
     "name": "stderr",
     "output_type": "stream",
     "text": [
      "1664it [01:59, 13.97it/s]                                                             \n"
     ]
    },
    {
     "name": "stdout",
     "output_type": "stream",
     "text": [
      "Saving results in D:\\3DBHVR\\FacialExpression_20210414\\DLC-Guillermo-2021-04-14\\x_old-videos...\n",
      "Saving csv poses!\n"
     ]
    },
    {
     "name": "stderr",
     "output_type": "stream",
     "text": [
      "\r",
      "  0%|                                                        | 0/1657 [00:00<?, ?it/s]"
     ]
    },
    {
     "name": "stdout",
     "output_type": "stream",
     "text": [
      "Starting to analyze %  D:/3DBHVR/FacialExpression_20210414/DLC-Guillermo-2021-04-14/x_old-videos/subject4.2_cam-F.avi\n",
      "D:\\3DBHVR\\FacialExpression_20210414\\DLC-Guillermo-2021-04-14\\x_old-videos  already exists!\n",
      "Loading  D:/3DBHVR/FacialExpression_20210414/DLC-Guillermo-2021-04-14/x_old-videos/subject4.2_cam-F.avi\n",
      "Duration of video [s]:  16.57 , recorded with  100.0 fps!\n",
      "Overall # of frames:  1657  found with (before cropping) frame dimensions:  1440 1080\n",
      "Starting to extract posture\n"
     ]
    },
    {
     "name": "stderr",
     "output_type": "stream",
     "text": [
      "1664it [02:00, 13.82it/s]                                                             \n"
     ]
    },
    {
     "name": "stdout",
     "output_type": "stream",
     "text": [
      "Saving results in D:\\3DBHVR\\FacialExpression_20210414\\DLC-Guillermo-2021-04-14\\x_old-videos...\n",
      "Saving csv poses!\n",
      "Starting to analyze %  D:/3DBHVR/FacialExpression_20210414/DLC-Guillermo-2021-04-14/x_old-videos/subject4.3_cam-D.avi\n"
     ]
    },
    {
     "name": "stderr",
     "output_type": "stream",
     "text": [
      "\r",
      "  0%|                                                        | 0/1673 [00:00<?, ?it/s]"
     ]
    },
    {
     "name": "stdout",
     "output_type": "stream",
     "text": [
      "D:\\3DBHVR\\FacialExpression_20210414\\DLC-Guillermo-2021-04-14\\x_old-videos  already exists!\n",
      "Loading  D:/3DBHVR/FacialExpression_20210414/DLC-Guillermo-2021-04-14/x_old-videos/subject4.3_cam-D.avi\n",
      "Duration of video [s]:  16.73 , recorded with  100.0 fps!\n",
      "Overall # of frames:  1673  found with (before cropping) frame dimensions:  1440 1080\n",
      "Starting to extract posture\n"
     ]
    },
    {
     "name": "stderr",
     "output_type": "stream",
     "text": [
      "1680it [01:59, 14.00it/s]                                                             \n"
     ]
    },
    {
     "name": "stdout",
     "output_type": "stream",
     "text": [
      "Saving results in D:\\3DBHVR\\FacialExpression_20210414\\DLC-Guillermo-2021-04-14\\x_old-videos...\n",
      "Saving csv poses!\n",
      "Starting to analyze %  D:/3DBHVR/FacialExpression_20210414/DLC-Guillermo-2021-04-14/x_old-videos/subject4.3_F.avi\n"
     ]
    },
    {
     "name": "stderr",
     "output_type": "stream",
     "text": [
      "\r",
      "  0%|                                                        | 0/1673 [00:00<?, ?it/s]"
     ]
    },
    {
     "name": "stdout",
     "output_type": "stream",
     "text": [
      "D:\\3DBHVR\\FacialExpression_20210414\\DLC-Guillermo-2021-04-14\\x_old-videos  already exists!\n",
      "Loading  D:/3DBHVR/FacialExpression_20210414/DLC-Guillermo-2021-04-14/x_old-videos/subject4.3_F.avi\n",
      "Duration of video [s]:  16.73 , recorded with  100.0 fps!\n",
      "Overall # of frames:  1673  found with (before cropping) frame dimensions:  1440 1080\n",
      "Starting to extract posture\n"
     ]
    },
    {
     "name": "stderr",
     "output_type": "stream",
     "text": [
      "1680it [02:00, 13.92it/s]                                                             \n"
     ]
    },
    {
     "name": "stdout",
     "output_type": "stream",
     "text": [
      "Saving results in D:\\3DBHVR\\FacialExpression_20210414\\DLC-Guillermo-2021-04-14\\x_old-videos...\n",
      "Saving csv poses!\n"
     ]
    },
    {
     "name": "stderr",
     "output_type": "stream",
     "text": [
      "\r",
      "  0%|                                                        | 0/1847 [00:00<?, ?it/s]"
     ]
    },
    {
     "name": "stdout",
     "output_type": "stream",
     "text": [
      "Starting to analyze %  D:/3DBHVR/FacialExpression_20210414/DLC-Guillermo-2021-04-14/x_old-videos/subject4_cam-D.avi\n",
      "D:\\3DBHVR\\FacialExpression_20210414\\DLC-Guillermo-2021-04-14\\x_old-videos  already exists!\n",
      "Loading  D:/3DBHVR/FacialExpression_20210414/DLC-Guillermo-2021-04-14/x_old-videos/subject4_cam-D.avi\n",
      "Duration of video [s]:  18.47 , recorded with  100.0 fps!\n",
      "Overall # of frames:  1847  found with (before cropping) frame dimensions:  1440 1080\n",
      "Starting to extract posture\n"
     ]
    },
    {
     "name": "stderr",
     "output_type": "stream",
     "text": [
      "1854it [02:12, 14.00it/s]                                                             \n"
     ]
    },
    {
     "name": "stdout",
     "output_type": "stream",
     "text": [
      "Saving results in D:\\3DBHVR\\FacialExpression_20210414\\DLC-Guillermo-2021-04-14\\x_old-videos...\n",
      "Saving csv poses!\n"
     ]
    },
    {
     "name": "stderr",
     "output_type": "stream",
     "text": [
      "\r",
      "  0%|                                                        | 0/1847 [00:00<?, ?it/s]"
     ]
    },
    {
     "name": "stdout",
     "output_type": "stream",
     "text": [
      "Starting to analyze %  D:/3DBHVR/FacialExpression_20210414/DLC-Guillermo-2021-04-14/x_old-videos/subject4_cam-F.avi\n",
      "D:\\3DBHVR\\FacialExpression_20210414\\DLC-Guillermo-2021-04-14\\x_old-videos  already exists!\n",
      "Loading  D:/3DBHVR/FacialExpression_20210414/DLC-Guillermo-2021-04-14/x_old-videos/subject4_cam-F.avi\n",
      "Duration of video [s]:  18.47 , recorded with  100.0 fps!\n",
      "Overall # of frames:  1847  found with (before cropping) frame dimensions:  1440 1080\n",
      "Starting to extract posture\n"
     ]
    },
    {
     "name": "stderr",
     "output_type": "stream",
     "text": [
      "1854it [02:13, 13.88it/s]                                                             \n"
     ]
    },
    {
     "name": "stdout",
     "output_type": "stream",
     "text": [
      "Saving results in D:\\3DBHVR\\FacialExpression_20210414\\DLC-Guillermo-2021-04-14\\x_old-videos...\n",
      "Saving csv poses!\n"
     ]
    },
    {
     "name": "stderr",
     "output_type": "stream",
     "text": [
      "\r",
      "  0%|                                                        | 0/1836 [00:00<?, ?it/s]"
     ]
    },
    {
     "name": "stdout",
     "output_type": "stream",
     "text": [
      "Starting to analyze %  D:/3DBHVR/FacialExpression_20210414/DLC-Guillermo-2021-04-14/x_old-videos/subject5.2_cam-D.avi\n",
      "D:\\3DBHVR\\FacialExpression_20210414\\DLC-Guillermo-2021-04-14\\x_old-videos  already exists!\n",
      "Loading  D:/3DBHVR/FacialExpression_20210414/DLC-Guillermo-2021-04-14/x_old-videos/subject5.2_cam-D.avi\n",
      "Duration of video [s]:  18.36 , recorded with  100.0 fps!\n",
      "Overall # of frames:  1836  found with (before cropping) frame dimensions:  1440 1080\n",
      "Starting to extract posture\n"
     ]
    },
    {
     "name": "stderr",
     "output_type": "stream",
     "text": [
      "1854it [02:10, 14.20it/s]                                                             \n"
     ]
    },
    {
     "name": "stdout",
     "output_type": "stream",
     "text": [
      "Saving results in D:\\3DBHVR\\FacialExpression_20210414\\DLC-Guillermo-2021-04-14\\x_old-videos...\n",
      "Saving csv poses!\n"
     ]
    },
    {
     "name": "stderr",
     "output_type": "stream",
     "text": [
      "\r",
      "  0%|                                                        | 0/1836 [00:00<?, ?it/s]"
     ]
    },
    {
     "name": "stdout",
     "output_type": "stream",
     "text": [
      "Starting to analyze %  D:/3DBHVR/FacialExpression_20210414/DLC-Guillermo-2021-04-14/x_old-videos/subject5.2_cam-F.avi\n",
      "D:\\3DBHVR\\FacialExpression_20210414\\DLC-Guillermo-2021-04-14\\x_old-videos  already exists!\n",
      "Loading  D:/3DBHVR/FacialExpression_20210414/DLC-Guillermo-2021-04-14/x_old-videos/subject5.2_cam-F.avi\n",
      "Duration of video [s]:  18.36 , recorded with  100.0 fps!\n",
      "Overall # of frames:  1836  found with (before cropping) frame dimensions:  1440 1080\n",
      "Starting to extract posture\n"
     ]
    },
    {
     "name": "stderr",
     "output_type": "stream",
     "text": [
      "1854it [02:09, 14.27it/s]                                                             \n"
     ]
    },
    {
     "name": "stdout",
     "output_type": "stream",
     "text": [
      "Saving results in D:\\3DBHVR\\FacialExpression_20210414\\DLC-Guillermo-2021-04-14\\x_old-videos...\n",
      "Saving csv poses!\n"
     ]
    },
    {
     "name": "stderr",
     "output_type": "stream",
     "text": [
      "\r",
      "  0%|                                                        | 0/2107 [00:00<?, ?it/s]"
     ]
    },
    {
     "name": "stdout",
     "output_type": "stream",
     "text": [
      "Starting to analyze %  D:/3DBHVR/FacialExpression_20210414/DLC-Guillermo-2021-04-14/x_old-videos/subject5.3_cam-D.avi\n",
      "D:\\3DBHVR\\FacialExpression_20210414\\DLC-Guillermo-2021-04-14\\x_old-videos  already exists!\n",
      "Loading  D:/3DBHVR/FacialExpression_20210414/DLC-Guillermo-2021-04-14/x_old-videos/subject5.3_cam-D.avi\n",
      "Duration of video [s]:  21.07 , recorded with  100.0 fps!\n",
      "Overall # of frames:  2107  found with (before cropping) frame dimensions:  1440 1080\n",
      "Starting to extract posture\n"
     ]
    },
    {
     "name": "stderr",
     "output_type": "stream",
     "text": [
      "2121it [02:28, 14.26it/s]                                                             \n"
     ]
    },
    {
     "name": "stdout",
     "output_type": "stream",
     "text": [
      "Saving results in D:\\3DBHVR\\FacialExpression_20210414\\DLC-Guillermo-2021-04-14\\x_old-videos...\n",
      "Saving csv poses!\n"
     ]
    },
    {
     "name": "stderr",
     "output_type": "stream",
     "text": [
      "\r",
      "  0%|                                                        | 0/2107 [00:00<?, ?it/s]"
     ]
    },
    {
     "name": "stdout",
     "output_type": "stream",
     "text": [
      "Starting to analyze %  D:/3DBHVR/FacialExpression_20210414/DLC-Guillermo-2021-04-14/x_old-videos/subject5.3_cam-F.avi\n",
      "D:\\3DBHVR\\FacialExpression_20210414\\DLC-Guillermo-2021-04-14\\x_old-videos  already exists!\n",
      "Loading  D:/3DBHVR/FacialExpression_20210414/DLC-Guillermo-2021-04-14/x_old-videos/subject5.3_cam-F.avi\n",
      "Duration of video [s]:  21.07 , recorded with  100.0 fps!\n",
      "Overall # of frames:  2107  found with (before cropping) frame dimensions:  1440 1080\n",
      "Starting to extract posture\n"
     ]
    },
    {
     "name": "stderr",
     "output_type": "stream",
     "text": [
      " 31%|██████████████▏                               | 651/2107 [00:44<01:40, 14.46it/s]"
     ]
    }
   ],
   "source": [
    "deeplabcut.analyze_videos(path_config_file, test_videos, shuffle=1, save_as_csv=True, videotype='mp4' )"
   ]
  },
  {
   "cell_type": "code",
   "execution_count": null,
   "id": "62f30cbd",
   "metadata": {},
   "outputs": [],
   "source": [
    "deeplabcut.create_labeled_video(path_config_file, test_videos, videotype = 'mp4', draw_skeleton=True, save_frames=False)"
   ]
  },
  {
   "cell_type": "code",
   "execution_count": null,
   "id": "25c32bdc",
   "metadata": {},
   "outputs": [],
   "source": []
  }
 ],
 "metadata": {
  "kernelspec": {
   "display_name": "Python [conda env:DLC-GPU] *",
   "language": "python",
   "name": "conda-env-DLC-GPU-py"
  },
  "language_info": {
   "codemirror_mode": {
    "name": "ipython",
    "version": 3
   },
   "file_extension": ".py",
   "mimetype": "text/x-python",
   "name": "python",
   "nbconvert_exporter": "python",
   "pygments_lexer": "ipython3",
   "version": "3.7.10"
  }
 },
 "nbformat": 4,
 "nbformat_minor": 5
}
