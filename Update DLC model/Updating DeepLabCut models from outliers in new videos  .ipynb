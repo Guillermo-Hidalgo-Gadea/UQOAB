{
 "cells": [
  {
   "cell_type": "markdown",
   "id": "b39b438d",
   "metadata": {},
   "source": [
    "# A DLC project was previously created and trained on 6 videos of a single subject's facial expressions."
   ]
  },
  {
   "cell_type": "markdown",
   "id": "6b5333bc",
   "metadata": {},
   "source": [
    "First, import deeplabcut and load the previous project."
   ]
  },
  {
   "cell_type": "code",
   "execution_count": 1,
   "id": "8f53942e",
   "metadata": {},
   "outputs": [],
   "source": [
    "import deeplabcut\n",
    "#deeplabcut.launch_dlc()\n",
    "import tkinter\n",
    "from tkinter import filedialog"
   ]
  },
  {
   "cell_type": "code",
   "execution_count": 2,
   "id": "1c0a5dd2",
   "metadata": {},
   "outputs": [],
   "source": [
    "config = filedialog.askopenfilenames(title='Choose the config file of your DeepLabCut project:')\n",
    "path_config_file = config[0]"
   ]
  },
  {
   "cell_type": "markdown",
   "id": "aece644a",
   "metadata": {},
   "source": [
    "As in Nath et al. 2019 Figure 2, steps 13 to 15 consist of analyzing novel videos, extracting outlier frames, refining those frames, merging datasets and retraining the model"
   ]
  },
  {
   "cell_type": "code",
   "execution_count": 3,
   "id": "e26e78fd",
   "metadata": {},
   "outputs": [],
   "source": [
    "video_files = filedialog.askopenfilenames(title='Choose new video files to analyze in DeepLabCut:')\n",
    "new_videos = list(video_files)"
   ]
  },
  {
   "cell_type": "markdown",
   "id": "70d4af73",
   "metadata": {},
   "source": [
    "Step 13: Analyze new videos\n",
    "\n",
    "Note that at this point we expect generalization errors to some degree! These errors will help us re-train the model with exactly those cases with which the previous model struggels. This way you avoid labeling redundant frames."
   ]
  },
  {
   "cell_type": "code",
   "execution_count": 23,
   "id": "0ff38822",
   "metadata": {},
   "outputs": [
    {
     "name": "stdout",
     "output_type": "stream",
     "text": [
      "Using snapshot-1030000 for model D:/3DBHVR/FacialExpression_20210414/DLC-Guillermo-2021-04-14\\dlc-models\\iteration-0\\DLCApr14-trainset95shuffle1\n",
      "Initializing ResNet\n"
     ]
    },
    {
     "name": "stderr",
     "output_type": "stream",
     "text": [
      "\r",
      "  0%|                                                                                      | 0/1635 [00:00<?, ?it/s]"
     ]
    },
    {
     "name": "stdout",
     "output_type": "stream",
     "text": [
      "Starting to analyze %  D:/3DBHVR/FacialExpression_20210414/DLC-Guillermo-2021-04-14/new-videos/subject2.2_cam-A.avi\n",
      "D:\\3DBHVR\\FacialExpression_20210414\\DLC-Guillermo-2021-04-14\\new-videos  already exists!\n",
      "Loading  D:/3DBHVR/FacialExpression_20210414/DLC-Guillermo-2021-04-14/new-videos/subject2.2_cam-A.avi\n",
      "Duration of video [s]:  16.35 , recorded with  100.0 fps!\n",
      "Overall # of frames:  1635  found with (before cropping) frame dimensions:  1440 1080\n",
      "Starting to extract posture\n"
     ]
    },
    {
     "name": "stderr",
     "output_type": "stream",
     "text": [
      "1648it [01:59, 13.73it/s]                                                                                           \n"
     ]
    },
    {
     "name": "stdout",
     "output_type": "stream",
     "text": [
      "Saving results in D:\\3DBHVR\\FacialExpression_20210414\\DLC-Guillermo-2021-04-14\\new-videos...\n",
      "Saving csv poses!\n"
     ]
    },
    {
     "name": "stderr",
     "output_type": "stream",
     "text": [
      "\r",
      "  0%|                                                                                      | 0/1636 [00:00<?, ?it/s]"
     ]
    },
    {
     "name": "stdout",
     "output_type": "stream",
     "text": [
      "Starting to analyze %  D:/3DBHVR/FacialExpression_20210414/DLC-Guillermo-2021-04-14/new-videos/subject2.2_cam-B.avi\n",
      "D:\\3DBHVR\\FacialExpression_20210414\\DLC-Guillermo-2021-04-14\\new-videos  already exists!\n",
      "Loading  D:/3DBHVR/FacialExpression_20210414/DLC-Guillermo-2021-04-14/new-videos/subject2.2_cam-B.avi\n",
      "Duration of video [s]:  16.36 , recorded with  100.0 fps!\n",
      "Overall # of frames:  1636  found with (before cropping) frame dimensions:  1440 1080\n",
      "Starting to extract posture\n"
     ]
    },
    {
     "name": "stderr",
     "output_type": "stream",
     "text": [
      "1648it [02:01, 13.60it/s]                                                                                           \n"
     ]
    },
    {
     "name": "stdout",
     "output_type": "stream",
     "text": [
      "Saving results in D:\\3DBHVR\\FacialExpression_20210414\\DLC-Guillermo-2021-04-14\\new-videos...\n",
      "Saving csv poses!\n",
      "Starting to analyze %  D:/3DBHVR/FacialExpression_20210414/DLC-Guillermo-2021-04-14/new-videos/subject2.2_cam-C.avi\n"
     ]
    },
    {
     "name": "stderr",
     "output_type": "stream",
     "text": [
      "\r",
      "  0%|                                                                                      | 0/1636 [00:00<?, ?it/s]"
     ]
    },
    {
     "name": "stdout",
     "output_type": "stream",
     "text": [
      "D:\\3DBHVR\\FacialExpression_20210414\\DLC-Guillermo-2021-04-14\\new-videos  already exists!\n",
      "Loading  D:/3DBHVR/FacialExpression_20210414/DLC-Guillermo-2021-04-14/new-videos/subject2.2_cam-C.avi\n",
      "Duration of video [s]:  16.36 , recorded with  100.0 fps!\n",
      "Overall # of frames:  1636  found with (before cropping) frame dimensions:  1440 1080\n",
      "Starting to extract posture\n"
     ]
    },
    {
     "name": "stderr",
     "output_type": "stream",
     "text": [
      "1648it [01:55, 14.32it/s]                                                                                           \n"
     ]
    },
    {
     "name": "stdout",
     "output_type": "stream",
     "text": [
      "Saving results in D:\\3DBHVR\\FacialExpression_20210414\\DLC-Guillermo-2021-04-14\\new-videos...\n",
      "Saving csv poses!\n",
      "Starting to analyze %  D:/3DBHVR/FacialExpression_20210414/DLC-Guillermo-2021-04-14/new-videos/subject2.2_cam-D.avi\n"
     ]
    },
    {
     "name": "stderr",
     "output_type": "stream",
     "text": [
      "\r",
      "  0%|                                                                                      | 0/1636 [00:00<?, ?it/s]"
     ]
    },
    {
     "name": "stdout",
     "output_type": "stream",
     "text": [
      "D:\\3DBHVR\\FacialExpression_20210414\\DLC-Guillermo-2021-04-14\\new-videos  already exists!\n",
      "Loading  D:/3DBHVR/FacialExpression_20210414/DLC-Guillermo-2021-04-14/new-videos/subject2.2_cam-D.avi\n",
      "Duration of video [s]:  16.36 , recorded with  100.0 fps!\n",
      "Overall # of frames:  1636  found with (before cropping) frame dimensions:  1440 1080\n",
      "Starting to extract posture\n"
     ]
    },
    {
     "name": "stderr",
     "output_type": "stream",
     "text": [
      "1648it [02:39, 10.32it/s]                                                                                           \n"
     ]
    },
    {
     "name": "stdout",
     "output_type": "stream",
     "text": [
      "Saving results in D:\\3DBHVR\\FacialExpression_20210414\\DLC-Guillermo-2021-04-14\\new-videos...\n",
      "Saving csv poses!\n",
      "Starting to analyze %  D:/3DBHVR/FacialExpression_20210414/DLC-Guillermo-2021-04-14/new-videos/subject2.2_cam-E.avi\n",
      "D:\\3DBHVR\\FacialExpression_20210414\\DLC-Guillermo-2021-04-14\\new-videos  already exists!\n",
      "Loading  D:/3DBHVR/FacialExpression_20210414/DLC-Guillermo-2021-04-14/new-videos/subject2.2_cam-E.avi\n"
     ]
    },
    {
     "name": "stderr",
     "output_type": "stream",
     "text": [
      "\r",
      "  0%|                                                                                      | 0/1635 [00:00<?, ?it/s]"
     ]
    },
    {
     "name": "stdout",
     "output_type": "stream",
     "text": [
      "Duration of video [s]:  16.35 , recorded with  100.0 fps!\n",
      "Overall # of frames:  1635  found with (before cropping) frame dimensions:  1440 1080\n",
      "Starting to extract posture\n"
     ]
    },
    {
     "name": "stderr",
     "output_type": "stream",
     "text": [
      "1648it [03:44,  7.33it/s]                                                                                           \n"
     ]
    },
    {
     "name": "stdout",
     "output_type": "stream",
     "text": [
      "Saving results in D:\\3DBHVR\\FacialExpression_20210414\\DLC-Guillermo-2021-04-14\\new-videos...\n",
      "Saving csv poses!\n"
     ]
    },
    {
     "name": "stderr",
     "output_type": "stream",
     "text": [
      "\r",
      "  0%|                                                                                      | 0/1636 [00:00<?, ?it/s]"
     ]
    },
    {
     "name": "stdout",
     "output_type": "stream",
     "text": [
      "Starting to analyze %  D:/3DBHVR/FacialExpression_20210414/DLC-Guillermo-2021-04-14/new-videos/subject2.2_cam-F.avi\n",
      "D:\\3DBHVR\\FacialExpression_20210414\\DLC-Guillermo-2021-04-14\\new-videos  already exists!\n",
      "Loading  D:/3DBHVR/FacialExpression_20210414/DLC-Guillermo-2021-04-14/new-videos/subject2.2_cam-F.avi\n",
      "Duration of video [s]:  16.36 , recorded with  100.0 fps!\n",
      "Overall # of frames:  1636  found with (before cropping) frame dimensions:  1440 1080\n",
      "Starting to extract posture\n"
     ]
    },
    {
     "name": "stderr",
     "output_type": "stream",
     "text": [
      "1648it [03:23,  8.08it/s]                                                                                           \n"
     ]
    },
    {
     "name": "stdout",
     "output_type": "stream",
     "text": [
      "Saving results in D:\\3DBHVR\\FacialExpression_20210414\\DLC-Guillermo-2021-04-14\\new-videos...\n",
      "Saving csv poses!\n"
     ]
    },
    {
     "name": "stderr",
     "output_type": "stream",
     "text": [
      "\r",
      "  0%|                                                                                      | 0/1457 [00:00<?, ?it/s]"
     ]
    },
    {
     "name": "stdout",
     "output_type": "stream",
     "text": [
      "Starting to analyze %  D:/3DBHVR/FacialExpression_20210414/DLC-Guillermo-2021-04-14/new-videos/subject2.3_cam-A.avi\n",
      "D:\\3DBHVR\\FacialExpression_20210414\\DLC-Guillermo-2021-04-14\\new-videos  already exists!\n",
      "Loading  D:/3DBHVR/FacialExpression_20210414/DLC-Guillermo-2021-04-14/new-videos/subject2.3_cam-A.avi\n",
      "Duration of video [s]:  14.57 , recorded with  100.0 fps!\n",
      "Overall # of frames:  1457  found with (before cropping) frame dimensions:  1440 1080\n",
      "Starting to extract posture\n"
     ]
    },
    {
     "name": "stderr",
     "output_type": "stream",
     "text": [
      "1470it [01:43, 14.17it/s]                                                                                           \n"
     ]
    },
    {
     "name": "stdout",
     "output_type": "stream",
     "text": [
      "Saving results in D:\\3DBHVR\\FacialExpression_20210414\\DLC-Guillermo-2021-04-14\\new-videos...\n",
      "Saving csv poses!\n"
     ]
    },
    {
     "name": "stderr",
     "output_type": "stream",
     "text": [
      "\r",
      "  0%|                                                                                      | 0/1450 [00:00<?, ?it/s]"
     ]
    },
    {
     "name": "stdout",
     "output_type": "stream",
     "text": [
      "Starting to analyze %  D:/3DBHVR/FacialExpression_20210414/DLC-Guillermo-2021-04-14/new-videos/subject2.3_cam-B.avi\n",
      "D:\\3DBHVR\\FacialExpression_20210414\\DLC-Guillermo-2021-04-14\\new-videos  already exists!\n",
      "Loading  D:/3DBHVR/FacialExpression_20210414/DLC-Guillermo-2021-04-14/new-videos/subject2.3_cam-B.avi\n",
      "Duration of video [s]:  14.5 , recorded with  100.0 fps!\n",
      "Overall # of frames:  1450  found with (before cropping) frame dimensions:  1440 1080\n",
      "Starting to extract posture\n"
     ]
    },
    {
     "name": "stderr",
     "output_type": "stream",
     "text": [
      "1456it [01:47, 13.50it/s]                                                                                           \n"
     ]
    },
    {
     "name": "stdout",
     "output_type": "stream",
     "text": [
      "Saving results in D:\\3DBHVR\\FacialExpression_20210414\\DLC-Guillermo-2021-04-14\\new-videos...\n",
      "Saving csv poses!\n"
     ]
    },
    {
     "name": "stderr",
     "output_type": "stream",
     "text": [
      "\r",
      "  0%|                                                                                      | 0/1458 [00:00<?, ?it/s]"
     ]
    },
    {
     "name": "stdout",
     "output_type": "stream",
     "text": [
      "Starting to analyze %  D:/3DBHVR/FacialExpression_20210414/DLC-Guillermo-2021-04-14/new-videos/subject2.3_cam-C.avi\n",
      "D:\\3DBHVR\\FacialExpression_20210414\\DLC-Guillermo-2021-04-14\\new-videos  already exists!\n",
      "Loading  D:/3DBHVR/FacialExpression_20210414/DLC-Guillermo-2021-04-14/new-videos/subject2.3_cam-C.avi\n",
      "Duration of video [s]:  14.58 , recorded with  100.0 fps!\n",
      "Overall # of frames:  1458  found with (before cropping) frame dimensions:  1440 1080\n",
      "Starting to extract posture\n"
     ]
    },
    {
     "name": "stderr",
     "output_type": "stream",
     "text": [
      "1470it [01:42, 14.33it/s]                                                                                           \n"
     ]
    },
    {
     "name": "stdout",
     "output_type": "stream",
     "text": [
      "Saving results in D:\\3DBHVR\\FacialExpression_20210414\\DLC-Guillermo-2021-04-14\\new-videos...\n",
      "Saving csv poses!\n",
      "Starting to analyze %  D:/3DBHVR/FacialExpression_20210414/DLC-Guillermo-2021-04-14/new-videos/subject2.3_cam-D.avi\n"
     ]
    },
    {
     "name": "stderr",
     "output_type": "stream",
     "text": [
      "\r",
      "  0%|                                                                                      | 0/1458 [00:00<?, ?it/s]"
     ]
    },
    {
     "name": "stdout",
     "output_type": "stream",
     "text": [
      "D:\\3DBHVR\\FacialExpression_20210414\\DLC-Guillermo-2021-04-14\\new-videos  already exists!\n",
      "Loading  D:/3DBHVR/FacialExpression_20210414/DLC-Guillermo-2021-04-14/new-videos/subject2.3_cam-D.avi\n",
      "Duration of video [s]:  14.58 , recorded with  100.0 fps!\n",
      "Overall # of frames:  1458  found with (before cropping) frame dimensions:  1440 1080\n",
      "Starting to extract posture\n"
     ]
    },
    {
     "name": "stderr",
     "output_type": "stream",
     "text": [
      "1470it [01:47, 13.69it/s]                                                                                           \n"
     ]
    },
    {
     "name": "stdout",
     "output_type": "stream",
     "text": [
      "Saving results in D:\\3DBHVR\\FacialExpression_20210414\\DLC-Guillermo-2021-04-14\\new-videos...\n",
      "Saving csv poses!\n",
      "Starting to analyze %  D:/3DBHVR/FacialExpression_20210414/DLC-Guillermo-2021-04-14/new-videos/subject2.3_cam-E.avi\n"
     ]
    },
    {
     "name": "stderr",
     "output_type": "stream",
     "text": [
      "\r",
      "  0%|                                                                                      | 0/1450 [00:00<?, ?it/s]"
     ]
    },
    {
     "name": "stdout",
     "output_type": "stream",
     "text": [
      "D:\\3DBHVR\\FacialExpression_20210414\\DLC-Guillermo-2021-04-14\\new-videos  already exists!\n",
      "Loading  D:/3DBHVR/FacialExpression_20210414/DLC-Guillermo-2021-04-14/new-videos/subject2.3_cam-E.avi\n",
      "Duration of video [s]:  14.5 , recorded with  100.0 fps!\n",
      "Overall # of frames:  1450  found with (before cropping) frame dimensions:  1440 1080\n",
      "Starting to extract posture\n"
     ]
    },
    {
     "name": "stderr",
     "output_type": "stream",
     "text": [
      "1456it [01:39, 14.64it/s]                                                                                           \n"
     ]
    },
    {
     "name": "stdout",
     "output_type": "stream",
     "text": [
      "Saving results in D:\\3DBHVR\\FacialExpression_20210414\\DLC-Guillermo-2021-04-14\\new-videos...\n",
      "Saving csv poses!\n"
     ]
    },
    {
     "name": "stderr",
     "output_type": "stream",
     "text": [
      "\r",
      "  0%|                                                                                      | 0/1458 [00:00<?, ?it/s]"
     ]
    },
    {
     "name": "stdout",
     "output_type": "stream",
     "text": [
      "Starting to analyze %  D:/3DBHVR/FacialExpression_20210414/DLC-Guillermo-2021-04-14/new-videos/subject2.3_cam-F.avi\n",
      "D:\\3DBHVR\\FacialExpression_20210414\\DLC-Guillermo-2021-04-14\\new-videos  already exists!\n",
      "Loading  D:/3DBHVR/FacialExpression_20210414/DLC-Guillermo-2021-04-14/new-videos/subject2.3_cam-F.avi\n",
      "Duration of video [s]:  14.58 , recorded with  100.0 fps!\n",
      "Overall # of frames:  1458  found with (before cropping) frame dimensions:  1440 1080\n",
      "Starting to extract posture\n"
     ]
    },
    {
     "name": "stderr",
     "output_type": "stream",
     "text": [
      "1470it [01:50, 13.35it/s]                                                                                           \n"
     ]
    },
    {
     "name": "stdout",
     "output_type": "stream",
     "text": [
      "Saving results in D:\\3DBHVR\\FacialExpression_20210414\\DLC-Guillermo-2021-04-14\\new-videos...\n",
      "Saving csv poses!\n",
      "Starting to analyze %  D:/3DBHVR/FacialExpression_20210414/DLC-Guillermo-2021-04-14/new-videos/subject2_cam-A.avi\n"
     ]
    },
    {
     "name": "stderr",
     "output_type": "stream",
     "text": [
      "\r",
      "  0%|                                                                                      | 0/2528 [00:00<?, ?it/s]"
     ]
    },
    {
     "name": "stdout",
     "output_type": "stream",
     "text": [
      "D:\\3DBHVR\\FacialExpression_20210414\\DLC-Guillermo-2021-04-14\\new-videos  already exists!\n",
      "Loading  D:/3DBHVR/FacialExpression_20210414/DLC-Guillermo-2021-04-14/new-videos/subject2_cam-A.avi\n",
      "Duration of video [s]:  25.28 , recorded with  100.0 fps!\n",
      "Overall # of frames:  2528  found with (before cropping) frame dimensions:  1440 1080\n",
      "Starting to extract posture\n"
     ]
    },
    {
     "name": "stderr",
     "output_type": "stream",
     "text": [
      "2550it [02:58, 14.27it/s]                                                                                           \n"
     ]
    },
    {
     "name": "stdout",
     "output_type": "stream",
     "text": [
      "Saving results in D:\\3DBHVR\\FacialExpression_20210414\\DLC-Guillermo-2021-04-14\\new-videos...\n",
      "Saving csv poses!\n"
     ]
    },
    {
     "name": "stderr",
     "output_type": "stream",
     "text": [
      "\r",
      "  0%|                                                                                      | 0/2521 [00:00<?, ?it/s]"
     ]
    },
    {
     "name": "stdout",
     "output_type": "stream",
     "text": [
      "Starting to analyze %  D:/3DBHVR/FacialExpression_20210414/DLC-Guillermo-2021-04-14/new-videos/subject2_cam-B.avi\n",
      "D:\\3DBHVR\\FacialExpression_20210414\\DLC-Guillermo-2021-04-14\\new-videos  already exists!\n",
      "Loading  D:/3DBHVR/FacialExpression_20210414/DLC-Guillermo-2021-04-14/new-videos/subject2_cam-B.avi\n",
      "Duration of video [s]:  25.21 , recorded with  100.0 fps!\n",
      "Overall # of frames:  2521  found with (before cropping) frame dimensions:  1440 1080\n",
      "Starting to extract posture\n"
     ]
    },
    {
     "name": "stderr",
     "output_type": "stream",
     "text": [
      "2525it [03:06, 13.56it/s]                                                                                           \n"
     ]
    },
    {
     "name": "stdout",
     "output_type": "stream",
     "text": [
      "Saving results in D:\\3DBHVR\\FacialExpression_20210414\\DLC-Guillermo-2021-04-14\\new-videos...\n",
      "Saving csv poses!\n"
     ]
    },
    {
     "name": "stderr",
     "output_type": "stream",
     "text": [
      "\r",
      "  0%|                                                                                      | 0/2529 [00:00<?, ?it/s]"
     ]
    },
    {
     "name": "stdout",
     "output_type": "stream",
     "text": [
      "Starting to analyze %  D:/3DBHVR/FacialExpression_20210414/DLC-Guillermo-2021-04-14/new-videos/subject2_cam-C.avi\n",
      "D:\\3DBHVR\\FacialExpression_20210414\\DLC-Guillermo-2021-04-14\\new-videos  already exists!\n",
      "Loading  D:/3DBHVR/FacialExpression_20210414/DLC-Guillermo-2021-04-14/new-videos/subject2_cam-C.avi\n",
      "Duration of video [s]:  25.29 , recorded with  100.0 fps!\n",
      "Overall # of frames:  2529  found with (before cropping) frame dimensions:  1440 1080\n",
      "Starting to extract posture\n"
     ]
    },
    {
     "name": "stderr",
     "output_type": "stream",
     "text": [
      "2550it [02:57, 14.38it/s]                                                                                           \n"
     ]
    },
    {
     "name": "stdout",
     "output_type": "stream",
     "text": [
      "Saving results in D:\\3DBHVR\\FacialExpression_20210414\\DLC-Guillermo-2021-04-14\\new-videos...\n",
      "Saving csv poses!\n"
     ]
    },
    {
     "name": "stderr",
     "output_type": "stream",
     "text": [
      "\r",
      "  0%|                                                                                      | 0/2529 [00:00<?, ?it/s]"
     ]
    },
    {
     "name": "stdout",
     "output_type": "stream",
     "text": [
      "Starting to analyze %  D:/3DBHVR/FacialExpression_20210414/DLC-Guillermo-2021-04-14/new-videos/subject2_cam-D.avi\n",
      "D:\\3DBHVR\\FacialExpression_20210414\\DLC-Guillermo-2021-04-14\\new-videos  already exists!\n",
      "Loading  D:/3DBHVR/FacialExpression_20210414/DLC-Guillermo-2021-04-14/new-videos/subject2_cam-D.avi\n",
      "Duration of video [s]:  25.29 , recorded with  100.0 fps!\n",
      "Overall # of frames:  2529  found with (before cropping) frame dimensions:  1440 1080\n",
      "Starting to extract posture\n"
     ]
    },
    {
     "name": "stderr",
     "output_type": "stream",
     "text": [
      "2550it [03:05, 13.73it/s]                                                                                           \n"
     ]
    },
    {
     "name": "stdout",
     "output_type": "stream",
     "text": [
      "Saving results in D:\\3DBHVR\\FacialExpression_20210414\\DLC-Guillermo-2021-04-14\\new-videos...\n",
      "Saving csv poses!\n"
     ]
    },
    {
     "name": "stderr",
     "output_type": "stream",
     "text": [
      "\r",
      "  0%|                                                                                      | 0/2521 [00:00<?, ?it/s]"
     ]
    },
    {
     "name": "stdout",
     "output_type": "stream",
     "text": [
      "Starting to analyze %  D:/3DBHVR/FacialExpression_20210414/DLC-Guillermo-2021-04-14/new-videos/subject2_cam-E.avi\n",
      "D:\\3DBHVR\\FacialExpression_20210414\\DLC-Guillermo-2021-04-14\\new-videos  already exists!\n",
      "Loading  D:/3DBHVR/FacialExpression_20210414/DLC-Guillermo-2021-04-14/new-videos/subject2_cam-E.avi\n",
      "Duration of video [s]:  25.21 , recorded with  100.0 fps!\n",
      "Overall # of frames:  2521  found with (before cropping) frame dimensions:  1440 1080\n",
      "Starting to extract posture\n"
     ]
    },
    {
     "name": "stderr",
     "output_type": "stream",
     "text": [
      "2525it [02:50, 14.84it/s]                                                                                           \n"
     ]
    },
    {
     "name": "stdout",
     "output_type": "stream",
     "text": [
      "Saving results in D:\\3DBHVR\\FacialExpression_20210414\\DLC-Guillermo-2021-04-14\\new-videos...\n",
      "Saving csv poses!\n"
     ]
    },
    {
     "name": "stderr",
     "output_type": "stream",
     "text": [
      "\r",
      "  0%|                                                                                      | 0/2529 [00:00<?, ?it/s]"
     ]
    },
    {
     "name": "stdout",
     "output_type": "stream",
     "text": [
      "Starting to analyze %  D:/3DBHVR/FacialExpression_20210414/DLC-Guillermo-2021-04-14/new-videos/subject2_cam-F.avi\n",
      "D:\\3DBHVR\\FacialExpression_20210414\\DLC-Guillermo-2021-04-14\\new-videos  already exists!\n",
      "Loading  D:/3DBHVR/FacialExpression_20210414/DLC-Guillermo-2021-04-14/new-videos/subject2_cam-F.avi\n",
      "Duration of video [s]:  25.29 , recorded with  100.0 fps!\n",
      "Overall # of frames:  2529  found with (before cropping) frame dimensions:  1440 1080\n",
      "Starting to extract posture\n"
     ]
    },
    {
     "name": "stderr",
     "output_type": "stream",
     "text": [
      "2550it [03:09, 13.47it/s]                                                                                           \n"
     ]
    },
    {
     "name": "stdout",
     "output_type": "stream",
     "text": [
      "Saving results in D:\\3DBHVR\\FacialExpression_20210414\\DLC-Guillermo-2021-04-14\\new-videos...\n",
      "Saving csv poses!\n"
     ]
    },
    {
     "name": "stderr",
     "output_type": "stream",
     "text": [
      "\r",
      "  0%|                                                                                      | 0/1649 [00:00<?, ?it/s]"
     ]
    },
    {
     "name": "stdout",
     "output_type": "stream",
     "text": [
      "Starting to analyze %  D:/3DBHVR/FacialExpression_20210414/DLC-Guillermo-2021-04-14/new-videos/subject3.2_cam-A.avi\n",
      "D:\\3DBHVR\\FacialExpression_20210414\\DLC-Guillermo-2021-04-14\\new-videos  already exists!\n",
      "Loading  D:/3DBHVR/FacialExpression_20210414/DLC-Guillermo-2021-04-14/new-videos/subject3.2_cam-A.avi\n",
      "Duration of video [s]:  16.49 , recorded with  100.0 fps!\n",
      "Overall # of frames:  1649  found with (before cropping) frame dimensions:  1440 1080\n",
      "Starting to extract posture\n"
     ]
    },
    {
     "name": "stderr",
     "output_type": "stream",
     "text": [
      "1664it [01:57, 14.13it/s]                                                                                           \n"
     ]
    },
    {
     "name": "stdout",
     "output_type": "stream",
     "text": [
      "Saving results in D:\\3DBHVR\\FacialExpression_20210414\\DLC-Guillermo-2021-04-14\\new-videos...\n",
      "Saving csv poses!\n",
      "Starting to analyze %  D:/3DBHVR/FacialExpression_20210414/DLC-Guillermo-2021-04-14/new-videos/subject3.2_cam-B.avi\n"
     ]
    },
    {
     "name": "stderr",
     "output_type": "stream",
     "text": [
      "\r",
      "  0%|                                                                                      | 0/1645 [00:00<?, ?it/s]"
     ]
    },
    {
     "name": "stdout",
     "output_type": "stream",
     "text": [
      "D:\\3DBHVR\\FacialExpression_20210414\\DLC-Guillermo-2021-04-14\\new-videos  already exists!\n",
      "Loading  D:/3DBHVR/FacialExpression_20210414/DLC-Guillermo-2021-04-14/new-videos/subject3.2_cam-B.avi\n",
      "Duration of video [s]:  16.45 , recorded with  100.0 fps!\n",
      "Overall # of frames:  1645  found with (before cropping) frame dimensions:  1440 1080\n",
      "Starting to extract posture\n"
     ]
    },
    {
     "name": "stderr",
     "output_type": "stream",
     "text": [
      "1648it [02:00, 13.67it/s]                                                                                           \n"
     ]
    },
    {
     "name": "stdout",
     "output_type": "stream",
     "text": [
      "Saving results in D:\\3DBHVR\\FacialExpression_20210414\\DLC-Guillermo-2021-04-14\\new-videos...\n",
      "Saving csv poses!\n"
     ]
    },
    {
     "name": "stderr",
     "output_type": "stream",
     "text": [
      "\r",
      "  0%|                                                                                      | 0/1651 [00:00<?, ?it/s]"
     ]
    },
    {
     "name": "stdout",
     "output_type": "stream",
     "text": [
      "Starting to analyze %  D:/3DBHVR/FacialExpression_20210414/DLC-Guillermo-2021-04-14/new-videos/subject3.2_cam-C.avi\n",
      "D:\\3DBHVR\\FacialExpression_20210414\\DLC-Guillermo-2021-04-14\\new-videos  already exists!\n",
      "Loading  D:/3DBHVR/FacialExpression_20210414/DLC-Guillermo-2021-04-14/new-videos/subject3.2_cam-C.avi\n",
      "Duration of video [s]:  16.51 , recorded with  100.0 fps!\n",
      "Overall # of frames:  1651  found with (before cropping) frame dimensions:  1440 1080\n",
      "Starting to extract posture\n"
     ]
    },
    {
     "name": "stderr",
     "output_type": "stream",
     "text": [
      "1664it [01:55, 14.42it/s]                                                                                           \n"
     ]
    },
    {
     "name": "stdout",
     "output_type": "stream",
     "text": [
      "Saving results in D:\\3DBHVR\\FacialExpression_20210414\\DLC-Guillermo-2021-04-14\\new-videos...\n",
      "Saving csv poses!\n"
     ]
    },
    {
     "name": "stderr",
     "output_type": "stream",
     "text": [
      "\r",
      "  0%|                                                                                      | 0/1651 [00:00<?, ?it/s]"
     ]
    },
    {
     "name": "stdout",
     "output_type": "stream",
     "text": [
      "Starting to analyze %  D:/3DBHVR/FacialExpression_20210414/DLC-Guillermo-2021-04-14/new-videos/subject3.2_cam-D.avi\n",
      "D:\\3DBHVR\\FacialExpression_20210414\\DLC-Guillermo-2021-04-14\\new-videos  already exists!\n",
      "Loading  D:/3DBHVR/FacialExpression_20210414/DLC-Guillermo-2021-04-14/new-videos/subject3.2_cam-D.avi\n",
      "Duration of video [s]:  16.51 , recorded with  100.0 fps!\n",
      "Overall # of frames:  1651  found with (before cropping) frame dimensions:  1440 1080\n",
      "Starting to extract posture\n"
     ]
    },
    {
     "name": "stderr",
     "output_type": "stream",
     "text": [
      "1664it [02:02, 13.58it/s]                                                                                           \n"
     ]
    },
    {
     "name": "stdout",
     "output_type": "stream",
     "text": [
      "Saving results in D:\\3DBHVR\\FacialExpression_20210414\\DLC-Guillermo-2021-04-14\\new-videos...\n",
      "Saving csv poses!\n"
     ]
    },
    {
     "name": "stderr",
     "output_type": "stream",
     "text": [
      "\r",
      "  0%|                                                                                      | 0/1643 [00:00<?, ?it/s]"
     ]
    },
    {
     "name": "stdout",
     "output_type": "stream",
     "text": [
      "Starting to analyze %  D:/3DBHVR/FacialExpression_20210414/DLC-Guillermo-2021-04-14/new-videos/subject3.2_cam-E.avi\n",
      "D:\\3DBHVR\\FacialExpression_20210414\\DLC-Guillermo-2021-04-14\\new-videos  already exists!\n",
      "Loading  D:/3DBHVR/FacialExpression_20210414/DLC-Guillermo-2021-04-14/new-videos/subject3.2_cam-E.avi\n",
      "Duration of video [s]:  16.43 , recorded with  100.0 fps!\n",
      "Overall # of frames:  1643  found with (before cropping) frame dimensions:  1440 1080\n",
      "Starting to extract posture\n"
     ]
    },
    {
     "name": "stderr",
     "output_type": "stream",
     "text": [
      "1648it [01:53, 14.48it/s]                                                                                           \n"
     ]
    },
    {
     "name": "stdout",
     "output_type": "stream",
     "text": [
      "Saving results in D:\\3DBHVR\\FacialExpression_20210414\\DLC-Guillermo-2021-04-14\\new-videos...\n",
      "Saving csv poses!\n",
      "Starting to analyze %  D:/3DBHVR/FacialExpression_20210414/DLC-Guillermo-2021-04-14/new-videos/subject3.2_cam-F.avi\n"
     ]
    },
    {
     "name": "stderr",
     "output_type": "stream",
     "text": [
      "\r",
      "  0%|                                                                                      | 0/1651 [00:00<?, ?it/s]"
     ]
    },
    {
     "name": "stdout",
     "output_type": "stream",
     "text": [
      "D:\\3DBHVR\\FacialExpression_20210414\\DLC-Guillermo-2021-04-14\\new-videos  already exists!\n",
      "Loading  D:/3DBHVR/FacialExpression_20210414/DLC-Guillermo-2021-04-14/new-videos/subject3.2_cam-F.avi\n",
      "Duration of video [s]:  16.51 , recorded with  100.0 fps!\n",
      "Overall # of frames:  1651  found with (before cropping) frame dimensions:  1440 1080\n",
      "Starting to extract posture\n"
     ]
    },
    {
     "name": "stderr",
     "output_type": "stream",
     "text": [
      "1664it [02:03, 13.52it/s]                                                                                           \n"
     ]
    },
    {
     "name": "stdout",
     "output_type": "stream",
     "text": [
      "Saving results in D:\\3DBHVR\\FacialExpression_20210414\\DLC-Guillermo-2021-04-14\\new-videos...\n",
      "Saving csv poses!\n"
     ]
    },
    {
     "name": "stderr",
     "output_type": "stream",
     "text": [
      "\r",
      "  0%|                                                                                      | 0/2395 [00:00<?, ?it/s]"
     ]
    },
    {
     "name": "stdout",
     "output_type": "stream",
     "text": [
      "Starting to analyze %  D:/3DBHVR/FacialExpression_20210414/DLC-Guillermo-2021-04-14/new-videos/subject3.3_cam-A.avi\n",
      "D:\\3DBHVR\\FacialExpression_20210414\\DLC-Guillermo-2021-04-14\\new-videos  already exists!\n",
      "Loading  D:/3DBHVR/FacialExpression_20210414/DLC-Guillermo-2021-04-14/new-videos/subject3.3_cam-A.avi\n",
      "Duration of video [s]:  23.95 , recorded with  100.0 fps!\n",
      "Overall # of frames:  2395  found with (before cropping) frame dimensions:  1440 1080\n",
      "Starting to extract posture\n"
     ]
    },
    {
     "name": "stderr",
     "output_type": "stream",
     "text": [
      "2415it [02:50, 14.17it/s]                                                                                           \n"
     ]
    },
    {
     "name": "stdout",
     "output_type": "stream",
     "text": [
      "Saving results in D:\\3DBHVR\\FacialExpression_20210414\\DLC-Guillermo-2021-04-14\\new-videos...\n",
      "Saving csv poses!\n"
     ]
    },
    {
     "name": "stderr",
     "output_type": "stream",
     "text": [
      "\r",
      "  0%|                                                                                      | 0/2391 [00:00<?, ?it/s]"
     ]
    },
    {
     "name": "stdout",
     "output_type": "stream",
     "text": [
      "Starting to analyze %  D:/3DBHVR/FacialExpression_20210414/DLC-Guillermo-2021-04-14/new-videos/subject3.3_cam-B.avi\n",
      "D:\\3DBHVR\\FacialExpression_20210414\\DLC-Guillermo-2021-04-14\\new-videos  already exists!\n",
      "Loading  D:/3DBHVR/FacialExpression_20210414/DLC-Guillermo-2021-04-14/new-videos/subject3.3_cam-B.avi\n",
      "Duration of video [s]:  23.91 , recorded with  100.0 fps!\n",
      "Overall # of frames:  2391  found with (before cropping) frame dimensions:  1440 1080\n",
      "Starting to extract posture\n"
     ]
    },
    {
     "name": "stderr",
     "output_type": "stream",
     "text": [
      "2392it [02:54, 13.67it/s]                                                                                           \n"
     ]
    },
    {
     "name": "stdout",
     "output_type": "stream",
     "text": [
      "Saving results in D:\\3DBHVR\\FacialExpression_20210414\\DLC-Guillermo-2021-04-14\\new-videos...\n",
      "Saving csv poses!\n"
     ]
    },
    {
     "name": "stderr",
     "output_type": "stream",
     "text": [
      "\r",
      "  0%|                                                                                      | 0/2397 [00:00<?, ?it/s]"
     ]
    },
    {
     "name": "stdout",
     "output_type": "stream",
     "text": [
      "Starting to analyze %  D:/3DBHVR/FacialExpression_20210414/DLC-Guillermo-2021-04-14/new-videos/subject3.3_cam-C.avi\n",
      "D:\\3DBHVR\\FacialExpression_20210414\\DLC-Guillermo-2021-04-14\\new-videos  already exists!\n",
      "Loading  D:/3DBHVR/FacialExpression_20210414/DLC-Guillermo-2021-04-14/new-videos/subject3.3_cam-C.avi\n",
      "Duration of video [s]:  23.97 , recorded with  100.0 fps!\n",
      "Overall # of frames:  2397  found with (before cropping) frame dimensions:  1440 1080\n",
      "Starting to extract posture\n"
     ]
    },
    {
     "name": "stderr",
     "output_type": "stream",
     "text": [
      "2415it [02:46, 14.53it/s]                                                                                           \n"
     ]
    },
    {
     "name": "stdout",
     "output_type": "stream",
     "text": [
      "Saving results in D:\\3DBHVR\\FacialExpression_20210414\\DLC-Guillermo-2021-04-14\\new-videos...\n",
      "Saving csv poses!\n"
     ]
    },
    {
     "name": "stderr",
     "output_type": "stream",
     "text": [
      "\r",
      "  0%|                                                                                      | 0/2397 [00:00<?, ?it/s]"
     ]
    },
    {
     "name": "stdout",
     "output_type": "stream",
     "text": [
      "Starting to analyze %  D:/3DBHVR/FacialExpression_20210414/DLC-Guillermo-2021-04-14/new-videos/subject3.3_cam-D.avi\n",
      "D:\\3DBHVR\\FacialExpression_20210414\\DLC-Guillermo-2021-04-14\\new-videos  already exists!\n",
      "Loading  D:/3DBHVR/FacialExpression_20210414/DLC-Guillermo-2021-04-14/new-videos/subject3.3_cam-D.avi\n",
      "Duration of video [s]:  23.97 , recorded with  100.0 fps!\n",
      "Overall # of frames:  2397  found with (before cropping) frame dimensions:  1440 1080\n",
      "Starting to extract posture\n"
     ]
    },
    {
     "name": "stderr",
     "output_type": "stream",
     "text": [
      "2415it [02:57, 13.58it/s]                                                                                           \n"
     ]
    },
    {
     "name": "stdout",
     "output_type": "stream",
     "text": [
      "Saving results in D:\\3DBHVR\\FacialExpression_20210414\\DLC-Guillermo-2021-04-14\\new-videos...\n",
      "Saving csv poses!\n"
     ]
    },
    {
     "name": "stderr",
     "output_type": "stream",
     "text": [
      "\r",
      "  0%|                                                                                      | 0/2390 [00:00<?, ?it/s]"
     ]
    },
    {
     "name": "stdout",
     "output_type": "stream",
     "text": [
      "Starting to analyze %  D:/3DBHVR/FacialExpression_20210414/DLC-Guillermo-2021-04-14/new-videos/subject3.3_cam-E.avi\n",
      "D:\\3DBHVR\\FacialExpression_20210414\\DLC-Guillermo-2021-04-14\\new-videos  already exists!\n",
      "Loading  D:/3DBHVR/FacialExpression_20210414/DLC-Guillermo-2021-04-14/new-videos/subject3.3_cam-E.avi\n",
      "Duration of video [s]:  23.9 , recorded with  100.0 fps!\n",
      "Overall # of frames:  2390  found with (before cropping) frame dimensions:  1440 1080\n",
      "Starting to extract posture\n"
     ]
    },
    {
     "name": "stderr",
     "output_type": "stream",
     "text": [
      "2392it [02:46, 14.37it/s]                                                                                           \n"
     ]
    },
    {
     "name": "stdout",
     "output_type": "stream",
     "text": [
      "Saving results in D:\\3DBHVR\\FacialExpression_20210414\\DLC-Guillermo-2021-04-14\\new-videos...\n",
      "Saving csv poses!\n"
     ]
    },
    {
     "name": "stderr",
     "output_type": "stream",
     "text": [
      "\r",
      "  0%|                                                                                      | 0/2397 [00:00<?, ?it/s]"
     ]
    },
    {
     "name": "stdout",
     "output_type": "stream",
     "text": [
      "Starting to analyze %  D:/3DBHVR/FacialExpression_20210414/DLC-Guillermo-2021-04-14/new-videos/subject3.3_cam-F.avi\n",
      "D:\\3DBHVR\\FacialExpression_20210414\\DLC-Guillermo-2021-04-14\\new-videos  already exists!\n",
      "Loading  D:/3DBHVR/FacialExpression_20210414/DLC-Guillermo-2021-04-14/new-videos/subject3.3_cam-F.avi\n",
      "Duration of video [s]:  23.97 , recorded with  100.0 fps!\n",
      "Overall # of frames:  2397  found with (before cropping) frame dimensions:  1440 1080\n",
      "Starting to extract posture\n"
     ]
    },
    {
     "name": "stderr",
     "output_type": "stream",
     "text": [
      "2415it [03:01, 13.33it/s]                                                                                           \n"
     ]
    },
    {
     "name": "stdout",
     "output_type": "stream",
     "text": [
      "Saving results in D:\\3DBHVR\\FacialExpression_20210414\\DLC-Guillermo-2021-04-14\\new-videos...\n",
      "Saving csv poses!\n"
     ]
    },
    {
     "name": "stderr",
     "output_type": "stream",
     "text": [
      "\r",
      "  0%|                                                                                      | 0/1834 [00:00<?, ?it/s]"
     ]
    },
    {
     "name": "stdout",
     "output_type": "stream",
     "text": [
      "Starting to analyze %  D:/3DBHVR/FacialExpression_20210414/DLC-Guillermo-2021-04-14/new-videos/subject3_cam-A.avi\n",
      "D:\\3DBHVR\\FacialExpression_20210414\\DLC-Guillermo-2021-04-14\\new-videos  already exists!\n",
      "Loading  D:/3DBHVR/FacialExpression_20210414/DLC-Guillermo-2021-04-14/new-videos/subject3_cam-A.avi\n",
      "Duration of video [s]:  18.34 , recorded with  100.0 fps!\n",
      "Overall # of frames:  1834  found with (before cropping) frame dimensions:  1440 1080\n",
      "Starting to extract posture\n"
     ]
    },
    {
     "name": "stderr",
     "output_type": "stream",
     "text": [
      "1836it [02:11, 13.99it/s]                                                                                           \n"
     ]
    },
    {
     "name": "stdout",
     "output_type": "stream",
     "text": [
      "Saving results in D:\\3DBHVR\\FacialExpression_20210414\\DLC-Guillermo-2021-04-14\\new-videos...\n",
      "Saving csv poses!\n"
     ]
    },
    {
     "name": "stderr",
     "output_type": "stream",
     "text": [
      "\r",
      "  0%|                                                                                      | 0/1834 [00:00<?, ?it/s]"
     ]
    },
    {
     "name": "stdout",
     "output_type": "stream",
     "text": [
      "Starting to analyze %  D:/3DBHVR/FacialExpression_20210414/DLC-Guillermo-2021-04-14/new-videos/subject3_cam-B.avi\n",
      "D:\\3DBHVR\\FacialExpression_20210414\\DLC-Guillermo-2021-04-14\\new-videos  already exists!\n",
      "Loading  D:/3DBHVR/FacialExpression_20210414/DLC-Guillermo-2021-04-14/new-videos/subject3_cam-B.avi\n",
      "Duration of video [s]:  18.34 , recorded with  100.0 fps!\n",
      "Overall # of frames:  1834  found with (before cropping) frame dimensions:  1440 1080\n",
      "Starting to extract posture\n"
     ]
    },
    {
     "name": "stderr",
     "output_type": "stream",
     "text": [
      "1836it [02:15, 13.54it/s]                                                                                           \n"
     ]
    },
    {
     "name": "stdout",
     "output_type": "stream",
     "text": [
      "Saving results in D:\\3DBHVR\\FacialExpression_20210414\\DLC-Guillermo-2021-04-14\\new-videos...\n",
      "Saving csv poses!\n"
     ]
    },
    {
     "name": "stderr",
     "output_type": "stream",
     "text": [
      "\r",
      "  0%|                                                                                      | 0/1835 [00:00<?, ?it/s]"
     ]
    },
    {
     "name": "stdout",
     "output_type": "stream",
     "text": [
      "Starting to analyze %  D:/3DBHVR/FacialExpression_20210414/DLC-Guillermo-2021-04-14/new-videos/subject3_cam-C.avi\n",
      "D:\\3DBHVR\\FacialExpression_20210414\\DLC-Guillermo-2021-04-14\\new-videos  already exists!\n",
      "Loading  D:/3DBHVR/FacialExpression_20210414/DLC-Guillermo-2021-04-14/new-videos/subject3_cam-C.avi\n",
      "Duration of video [s]:  18.35 , recorded with  100.0 fps!\n",
      "Overall # of frames:  1835  found with (before cropping) frame dimensions:  1440 1080\n",
      "Starting to extract posture\n"
     ]
    },
    {
     "name": "stderr",
     "output_type": "stream",
     "text": [
      "1836it [02:09, 14.13it/s]                                                                                           \n"
     ]
    },
    {
     "name": "stdout",
     "output_type": "stream",
     "text": [
      "Saving results in D:\\3DBHVR\\FacialExpression_20210414\\DLC-Guillermo-2021-04-14\\new-videos...\n",
      "Saving csv poses!\n"
     ]
    },
    {
     "name": "stderr",
     "output_type": "stream",
     "text": [
      "\r",
      "  0%|                                                                                      | 0/1835 [00:00<?, ?it/s]"
     ]
    },
    {
     "name": "stdout",
     "output_type": "stream",
     "text": [
      "Starting to analyze %  D:/3DBHVR/FacialExpression_20210414/DLC-Guillermo-2021-04-14/new-videos/subject3_cam-D.avi\n",
      "D:\\3DBHVR\\FacialExpression_20210414\\DLC-Guillermo-2021-04-14\\new-videos  already exists!\n",
      "Loading  D:/3DBHVR/FacialExpression_20210414/DLC-Guillermo-2021-04-14/new-videos/subject3_cam-D.avi\n",
      "Duration of video [s]:  18.35 , recorded with  100.0 fps!\n",
      "Overall # of frames:  1835  found with (before cropping) frame dimensions:  1440 1080\n",
      "Starting to extract posture\n"
     ]
    },
    {
     "name": "stderr",
     "output_type": "stream",
     "text": [
      "1836it [02:16, 13.42it/s]                                                                                           \n"
     ]
    },
    {
     "name": "stdout",
     "output_type": "stream",
     "text": [
      "Saving results in D:\\3DBHVR\\FacialExpression_20210414\\DLC-Guillermo-2021-04-14\\new-videos...\n",
      "Saving csv poses!\n"
     ]
    },
    {
     "name": "stderr",
     "output_type": "stream",
     "text": [
      "\r",
      "  0%|                                                                                      | 0/1835 [00:00<?, ?it/s]"
     ]
    },
    {
     "name": "stdout",
     "output_type": "stream",
     "text": [
      "Starting to analyze %  D:/3DBHVR/FacialExpression_20210414/DLC-Guillermo-2021-04-14/new-videos/subject3_cam-E.avi\n",
      "D:\\3DBHVR\\FacialExpression_20210414\\DLC-Guillermo-2021-04-14\\new-videos  already exists!\n",
      "Loading  D:/3DBHVR/FacialExpression_20210414/DLC-Guillermo-2021-04-14/new-videos/subject3_cam-E.avi\n",
      "Duration of video [s]:  18.35 , recorded with  100.0 fps!\n",
      "Overall # of frames:  1835  found with (before cropping) frame dimensions:  1440 1080\n",
      "Starting to extract posture\n"
     ]
    },
    {
     "name": "stderr",
     "output_type": "stream",
     "text": [
      "1836it [02:07, 14.35it/s]                                                                                           \n"
     ]
    },
    {
     "name": "stdout",
     "output_type": "stream",
     "text": [
      "Saving results in D:\\3DBHVR\\FacialExpression_20210414\\DLC-Guillermo-2021-04-14\\new-videos...\n",
      "Saving csv poses!\n"
     ]
    },
    {
     "name": "stderr",
     "output_type": "stream",
     "text": [
      "\r",
      "  0%|                                                                                      | 0/1835 [00:00<?, ?it/s]"
     ]
    },
    {
     "name": "stdout",
     "output_type": "stream",
     "text": [
      "Starting to analyze %  D:/3DBHVR/FacialExpression_20210414/DLC-Guillermo-2021-04-14/new-videos/subject3_cam-F.avi\n",
      "D:\\3DBHVR\\FacialExpression_20210414\\DLC-Guillermo-2021-04-14\\new-videos  already exists!\n",
      "Loading  D:/3DBHVR/FacialExpression_20210414/DLC-Guillermo-2021-04-14/new-videos/subject3_cam-F.avi\n",
      "Duration of video [s]:  18.35 , recorded with  100.0 fps!\n",
      "Overall # of frames:  1835  found with (before cropping) frame dimensions:  1440 1080\n",
      "Starting to extract posture\n"
     ]
    },
    {
     "name": "stderr",
     "output_type": "stream",
     "text": [
      "1836it [02:17, 13.38it/s]                                                                                           \n"
     ]
    },
    {
     "name": "stdout",
     "output_type": "stream",
     "text": [
      "Saving results in D:\\3DBHVR\\FacialExpression_20210414\\DLC-Guillermo-2021-04-14\\new-videos...\n",
      "Saving csv poses!\n"
     ]
    },
    {
     "name": "stderr",
     "output_type": "stream",
     "text": [
      "\r",
      "  0%|                                                                                      | 0/1655 [00:00<?, ?it/s]"
     ]
    },
    {
     "name": "stdout",
     "output_type": "stream",
     "text": [
      "Starting to analyze %  D:/3DBHVR/FacialExpression_20210414/DLC-Guillermo-2021-04-14/new-videos/subject4.2_cam-A.avi\n",
      "D:\\3DBHVR\\FacialExpression_20210414\\DLC-Guillermo-2021-04-14\\new-videos  already exists!\n",
      "Loading  D:/3DBHVR/FacialExpression_20210414/DLC-Guillermo-2021-04-14/new-videos/subject4.2_cam-A.avi\n",
      "Duration of video [s]:  16.55 , recorded with  100.0 fps!\n",
      "Overall # of frames:  1655  found with (before cropping) frame dimensions:  1440 1080\n",
      "Starting to extract posture\n"
     ]
    },
    {
     "name": "stderr",
     "output_type": "stream",
     "text": [
      "1664it [01:57, 14.18it/s]                                                                                           \n"
     ]
    },
    {
     "name": "stdout",
     "output_type": "stream",
     "text": [
      "Saving results in D:\\3DBHVR\\FacialExpression_20210414\\DLC-Guillermo-2021-04-14\\new-videos...\n",
      "Saving csv poses!\n"
     ]
    },
    {
     "name": "stderr",
     "output_type": "stream",
     "text": [
      "\r",
      "  0%|                                                                                      | 0/1649 [00:00<?, ?it/s]"
     ]
    },
    {
     "name": "stdout",
     "output_type": "stream",
     "text": [
      "Starting to analyze %  D:/3DBHVR/FacialExpression_20210414/DLC-Guillermo-2021-04-14/new-videos/subject4.2_cam-B.avi\n",
      "D:\\3DBHVR\\FacialExpression_20210414\\DLC-Guillermo-2021-04-14\\new-videos  already exists!\n",
      "Loading  D:/3DBHVR/FacialExpression_20210414/DLC-Guillermo-2021-04-14/new-videos/subject4.2_cam-B.avi\n",
      "Duration of video [s]:  16.49 , recorded with  100.0 fps!\n",
      "Overall # of frames:  1649  found with (before cropping) frame dimensions:  1440 1080\n",
      "Starting to extract posture\n"
     ]
    },
    {
     "name": "stderr",
     "output_type": "stream",
     "text": [
      "1664it [02:00, 13.83it/s]                                                                                           \n"
     ]
    },
    {
     "name": "stdout",
     "output_type": "stream",
     "text": [
      "Saving results in D:\\3DBHVR\\FacialExpression_20210414\\DLC-Guillermo-2021-04-14\\new-videos...\n",
      "Saving csv poses!\n",
      "Starting to analyze %  D:/3DBHVR/FacialExpression_20210414/DLC-Guillermo-2021-04-14/new-videos/subject4.2_cam-C.avi\n"
     ]
    },
    {
     "name": "stderr",
     "output_type": "stream",
     "text": [
      "\r",
      "  0%|                                                                                      | 0/1657 [00:00<?, ?it/s]"
     ]
    },
    {
     "name": "stdout",
     "output_type": "stream",
     "text": [
      "D:\\3DBHVR\\FacialExpression_20210414\\DLC-Guillermo-2021-04-14\\new-videos  already exists!\n",
      "Loading  D:/3DBHVR/FacialExpression_20210414/DLC-Guillermo-2021-04-14/new-videos/subject4.2_cam-C.avi\n",
      "Duration of video [s]:  16.57 , recorded with  100.0 fps!\n",
      "Overall # of frames:  1657  found with (before cropping) frame dimensions:  1440 1080\n",
      "Starting to extract posture\n"
     ]
    },
    {
     "name": "stderr",
     "output_type": "stream",
     "text": [
      "1664it [01:55, 14.45it/s]                                                                                           \n"
     ]
    },
    {
     "name": "stdout",
     "output_type": "stream",
     "text": [
      "Saving results in D:\\3DBHVR\\FacialExpression_20210414\\DLC-Guillermo-2021-04-14\\new-videos...\n",
      "Saving csv poses!\n"
     ]
    },
    {
     "name": "stderr",
     "output_type": "stream",
     "text": [
      "\r",
      "  0%|                                                                                      | 0/1657 [00:00<?, ?it/s]"
     ]
    },
    {
     "name": "stdout",
     "output_type": "stream",
     "text": [
      "Starting to analyze %  D:/3DBHVR/FacialExpression_20210414/DLC-Guillermo-2021-04-14/new-videos/subject4.2_cam-D.avi\n",
      "D:\\3DBHVR\\FacialExpression_20210414\\DLC-Guillermo-2021-04-14\\new-videos  already exists!\n",
      "Loading  D:/3DBHVR/FacialExpression_20210414/DLC-Guillermo-2021-04-14/new-videos/subject4.2_cam-D.avi\n",
      "Duration of video [s]:  16.57 , recorded with  100.0 fps!\n",
      "Overall # of frames:  1657  found with (before cropping) frame dimensions:  1440 1080\n",
      "Starting to extract posture\n"
     ]
    },
    {
     "name": "stderr",
     "output_type": "stream",
     "text": [
      "1664it [02:01, 13.71it/s]                                                                                           \n"
     ]
    },
    {
     "name": "stdout",
     "output_type": "stream",
     "text": [
      "Saving results in D:\\3DBHVR\\FacialExpression_20210414\\DLC-Guillermo-2021-04-14\\new-videos...\n",
      "Saving csv poses!\n",
      "Starting to analyze %  D:/3DBHVR/FacialExpression_20210414/DLC-Guillermo-2021-04-14/new-videos/subject4.2_cam-E.avi\n"
     ]
    },
    {
     "name": "stderr",
     "output_type": "stream",
     "text": [
      "\r",
      "  0%|                                                                                      | 0/1651 [00:00<?, ?it/s]"
     ]
    },
    {
     "name": "stdout",
     "output_type": "stream",
     "text": [
      "D:\\3DBHVR\\FacialExpression_20210414\\DLC-Guillermo-2021-04-14\\new-videos  already exists!\n",
      "Loading  D:/3DBHVR/FacialExpression_20210414/DLC-Guillermo-2021-04-14/new-videos/subject4.2_cam-E.avi\n",
      "Duration of video [s]:  16.51 , recorded with  100.0 fps!\n",
      "Overall # of frames:  1651  found with (before cropping) frame dimensions:  1440 1080\n",
      "Starting to extract posture\n"
     ]
    },
    {
     "name": "stderr",
     "output_type": "stream",
     "text": [
      "1664it [01:55, 14.43it/s]                                                                                           \n"
     ]
    },
    {
     "name": "stdout",
     "output_type": "stream",
     "text": [
      "Saving results in D:\\3DBHVR\\FacialExpression_20210414\\DLC-Guillermo-2021-04-14\\new-videos...\n",
      "Saving csv poses!\n"
     ]
    },
    {
     "name": "stderr",
     "output_type": "stream",
     "text": [
      "\r",
      "  0%|                                                                                      | 0/1657 [00:00<?, ?it/s]"
     ]
    },
    {
     "name": "stdout",
     "output_type": "stream",
     "text": [
      "Starting to analyze %  D:/3DBHVR/FacialExpression_20210414/DLC-Guillermo-2021-04-14/new-videos/subject4.2_cam-F.avi\n",
      "D:\\3DBHVR\\FacialExpression_20210414\\DLC-Guillermo-2021-04-14\\new-videos  already exists!\n",
      "Loading  D:/3DBHVR/FacialExpression_20210414/DLC-Guillermo-2021-04-14/new-videos/subject4.2_cam-F.avi\n",
      "Duration of video [s]:  16.57 , recorded with  100.0 fps!\n",
      "Overall # of frames:  1657  found with (before cropping) frame dimensions:  1440 1080\n",
      "Starting to extract posture\n"
     ]
    },
    {
     "name": "stderr",
     "output_type": "stream",
     "text": [
      "1664it [02:03, 13.51it/s]                                                                                           \n"
     ]
    },
    {
     "name": "stdout",
     "output_type": "stream",
     "text": [
      "Saving results in D:\\3DBHVR\\FacialExpression_20210414\\DLC-Guillermo-2021-04-14\\new-videos...\n",
      "Saving csv poses!\n"
     ]
    },
    {
     "name": "stderr",
     "output_type": "stream",
     "text": [
      "\r",
      "  0%|                                                                                      | 0/1673 [00:00<?, ?it/s]"
     ]
    },
    {
     "name": "stdout",
     "output_type": "stream",
     "text": [
      "Starting to analyze %  D:/3DBHVR/FacialExpression_20210414/DLC-Guillermo-2021-04-14/new-videos/subject4.3_cam-A.avi\n",
      "D:\\3DBHVR\\FacialExpression_20210414\\DLC-Guillermo-2021-04-14\\new-videos  already exists!\n",
      "Loading  D:/3DBHVR/FacialExpression_20210414/DLC-Guillermo-2021-04-14/new-videos/subject4.3_cam-A.avi\n",
      "Duration of video [s]:  16.73 , recorded with  100.0 fps!\n",
      "Overall # of frames:  1673  found with (before cropping) frame dimensions:  1440 1080\n",
      "Starting to extract posture\n"
     ]
    },
    {
     "name": "stderr",
     "output_type": "stream",
     "text": [
      "1680it [01:59, 14.09it/s]                                                                                           \n"
     ]
    },
    {
     "name": "stdout",
     "output_type": "stream",
     "text": [
      "Saving results in D:\\3DBHVR\\FacialExpression_20210414\\DLC-Guillermo-2021-04-14\\new-videos...\n",
      "Saving csv poses!\n",
      "Starting to analyze %  D:/3DBHVR/FacialExpression_20210414/DLC-Guillermo-2021-04-14/new-videos/subject4.3_cam-B.avi\n"
     ]
    },
    {
     "name": "stderr",
     "output_type": "stream",
     "text": [
      "\r",
      "  0%|                                                                                      | 0/1666 [00:00<?, ?it/s]"
     ]
    },
    {
     "name": "stdout",
     "output_type": "stream",
     "text": [
      "D:\\3DBHVR\\FacialExpression_20210414\\DLC-Guillermo-2021-04-14\\new-videos  already exists!\n",
      "Loading  D:/3DBHVR/FacialExpression_20210414/DLC-Guillermo-2021-04-14/new-videos/subject4.3_cam-B.avi\n",
      "Duration of video [s]:  16.66 , recorded with  100.0 fps!\n",
      "Overall # of frames:  1666  found with (before cropping) frame dimensions:  1440 1080\n",
      "Starting to extract posture\n"
     ]
    },
    {
     "name": "stderr",
     "output_type": "stream",
     "text": [
      "1680it [02:01, 13.83it/s]                                                                                           \n"
     ]
    },
    {
     "name": "stdout",
     "output_type": "stream",
     "text": [
      "Saving results in D:\\3DBHVR\\FacialExpression_20210414\\DLC-Guillermo-2021-04-14\\new-videos...\n",
      "Saving csv poses!\n"
     ]
    },
    {
     "name": "stderr",
     "output_type": "stream",
     "text": [
      "\r",
      "  0%|                                                                                      | 0/1673 [00:00<?, ?it/s]"
     ]
    },
    {
     "name": "stdout",
     "output_type": "stream",
     "text": [
      "Starting to analyze %  D:/3DBHVR/FacialExpression_20210414/DLC-Guillermo-2021-04-14/new-videos/subject4.3_cam-C.avi\n",
      "D:\\3DBHVR\\FacialExpression_20210414\\DLC-Guillermo-2021-04-14\\new-videos  already exists!\n",
      "Loading  D:/3DBHVR/FacialExpression_20210414/DLC-Guillermo-2021-04-14/new-videos/subject4.3_cam-C.avi\n",
      "Duration of video [s]:  16.73 , recorded with  100.0 fps!\n",
      "Overall # of frames:  1673  found with (before cropping) frame dimensions:  1440 1080\n",
      "Starting to extract posture\n"
     ]
    },
    {
     "name": "stderr",
     "output_type": "stream",
     "text": [
      "1680it [01:57, 14.34it/s]                                                                                           \n"
     ]
    },
    {
     "name": "stdout",
     "output_type": "stream",
     "text": [
      "Saving results in D:\\3DBHVR\\FacialExpression_20210414\\DLC-Guillermo-2021-04-14\\new-videos...\n",
      "Saving csv poses!\n"
     ]
    },
    {
     "name": "stderr",
     "output_type": "stream",
     "text": [
      "\r",
      "  0%|                                                                                      | 0/1673 [00:00<?, ?it/s]"
     ]
    },
    {
     "name": "stdout",
     "output_type": "stream",
     "text": [
      "Starting to analyze %  D:/3DBHVR/FacialExpression_20210414/DLC-Guillermo-2021-04-14/new-videos/subject4.3_cam-D.avi\n",
      "D:\\3DBHVR\\FacialExpression_20210414\\DLC-Guillermo-2021-04-14\\new-videos  already exists!\n",
      "Loading  D:/3DBHVR/FacialExpression_20210414/DLC-Guillermo-2021-04-14/new-videos/subject4.3_cam-D.avi\n",
      "Duration of video [s]:  16.73 , recorded with  100.0 fps!\n",
      "Overall # of frames:  1673  found with (before cropping) frame dimensions:  1440 1080\n",
      "Starting to extract posture\n"
     ]
    },
    {
     "name": "stderr",
     "output_type": "stream",
     "text": [
      "1680it [02:02, 13.70it/s]                                                                                           \n"
     ]
    },
    {
     "name": "stdout",
     "output_type": "stream",
     "text": [
      "Saving results in D:\\3DBHVR\\FacialExpression_20210414\\DLC-Guillermo-2021-04-14\\new-videos...\n",
      "Saving csv poses!\n"
     ]
    },
    {
     "name": "stderr",
     "output_type": "stream",
     "text": [
      "\r",
      "  0%|                                                                                      | 0/1666 [00:00<?, ?it/s]"
     ]
    },
    {
     "name": "stdout",
     "output_type": "stream",
     "text": [
      "Starting to analyze %  D:/3DBHVR/FacialExpression_20210414/DLC-Guillermo-2021-04-14/new-videos/subject4.3_cam-E.avi\n",
      "D:\\3DBHVR\\FacialExpression_20210414\\DLC-Guillermo-2021-04-14\\new-videos  already exists!\n",
      "Loading  D:/3DBHVR/FacialExpression_20210414/DLC-Guillermo-2021-04-14/new-videos/subject4.3_cam-E.avi\n",
      "Duration of video [s]:  16.66 , recorded with  100.0 fps!\n",
      "Overall # of frames:  1666  found with (before cropping) frame dimensions:  1440 1080\n",
      "Starting to extract posture\n"
     ]
    },
    {
     "name": "stderr",
     "output_type": "stream",
     "text": [
      "1680it [01:56, 14.46it/s]                                                                                           \n"
     ]
    },
    {
     "name": "stdout",
     "output_type": "stream",
     "text": [
      "Saving results in D:\\3DBHVR\\FacialExpression_20210414\\DLC-Guillermo-2021-04-14\\new-videos...\n",
      "Saving csv poses!\n"
     ]
    },
    {
     "name": "stderr",
     "output_type": "stream",
     "text": [
      "\r",
      "  0%|                                                                                      | 0/1673 [00:00<?, ?it/s]"
     ]
    },
    {
     "name": "stdout",
     "output_type": "stream",
     "text": [
      "Starting to analyze %  D:/3DBHVR/FacialExpression_20210414/DLC-Guillermo-2021-04-14/new-videos/subject4.3_F.avi\n",
      "D:\\3DBHVR\\FacialExpression_20210414\\DLC-Guillermo-2021-04-14\\new-videos  already exists!\n",
      "Loading  D:/3DBHVR/FacialExpression_20210414/DLC-Guillermo-2021-04-14/new-videos/subject4.3_F.avi\n",
      "Duration of video [s]:  16.73 , recorded with  100.0 fps!\n",
      "Overall # of frames:  1673  found with (before cropping) frame dimensions:  1440 1080\n",
      "Starting to extract posture\n"
     ]
    },
    {
     "name": "stderr",
     "output_type": "stream",
     "text": [
      "1680it [02:03, 13.61it/s]                                                                                           \n"
     ]
    },
    {
     "name": "stdout",
     "output_type": "stream",
     "text": [
      "Saving results in D:\\3DBHVR\\FacialExpression_20210414\\DLC-Guillermo-2021-04-14\\new-videos...\n",
      "Saving csv poses!\n"
     ]
    },
    {
     "name": "stderr",
     "output_type": "stream",
     "text": [
      "\r",
      "  0%|                                                                                      | 0/1845 [00:00<?, ?it/s]"
     ]
    },
    {
     "name": "stdout",
     "output_type": "stream",
     "text": [
      "Starting to analyze %  D:/3DBHVR/FacialExpression_20210414/DLC-Guillermo-2021-04-14/new-videos/subject4_cam-A.avi\n",
      "D:\\3DBHVR\\FacialExpression_20210414\\DLC-Guillermo-2021-04-14\\new-videos  already exists!\n",
      "Loading  D:/3DBHVR/FacialExpression_20210414/DLC-Guillermo-2021-04-14/new-videos/subject4_cam-A.avi\n",
      "Duration of video [s]:  18.45 , recorded with  100.0 fps!\n",
      "Overall # of frames:  1845  found with (before cropping) frame dimensions:  1440 1080\n",
      "Starting to extract posture\n"
     ]
    },
    {
     "name": "stderr",
     "output_type": "stream",
     "text": [
      "1854it [02:09, 14.31it/s]                                                                                           \n"
     ]
    },
    {
     "name": "stdout",
     "output_type": "stream",
     "text": [
      "Saving results in D:\\3DBHVR\\FacialExpression_20210414\\DLC-Guillermo-2021-04-14\\new-videos...\n",
      "Saving csv poses!\n"
     ]
    },
    {
     "name": "stderr",
     "output_type": "stream",
     "text": [
      "\r",
      "  0%|                                                                                      | 0/1846 [00:00<?, ?it/s]"
     ]
    },
    {
     "name": "stdout",
     "output_type": "stream",
     "text": [
      "Starting to analyze %  D:/3DBHVR/FacialExpression_20210414/DLC-Guillermo-2021-04-14/new-videos/subject4_cam-B.avi\n",
      "D:\\3DBHVR\\FacialExpression_20210414\\DLC-Guillermo-2021-04-14\\new-videos  already exists!\n",
      "Loading  D:/3DBHVR/FacialExpression_20210414/DLC-Guillermo-2021-04-14/new-videos/subject4_cam-B.avi\n",
      "Duration of video [s]:  18.46 , recorded with  100.0 fps!\n",
      "Overall # of frames:  1846  found with (before cropping) frame dimensions:  1440 1080\n",
      "Starting to extract posture\n"
     ]
    },
    {
     "name": "stderr",
     "output_type": "stream",
     "text": [
      "1854it [02:14, 13.76it/s]                                                                                           \n"
     ]
    },
    {
     "name": "stdout",
     "output_type": "stream",
     "text": [
      "Saving results in D:\\3DBHVR\\FacialExpression_20210414\\DLC-Guillermo-2021-04-14\\new-videos...\n",
      "Saving csv poses!\n"
     ]
    },
    {
     "name": "stderr",
     "output_type": "stream",
     "text": [
      "\r",
      "  0%|                                                                                      | 0/1847 [00:00<?, ?it/s]"
     ]
    },
    {
     "name": "stdout",
     "output_type": "stream",
     "text": [
      "Starting to analyze %  D:/3DBHVR/FacialExpression_20210414/DLC-Guillermo-2021-04-14/new-videos/subject4_cam-C.avi\n",
      "D:\\3DBHVR\\FacialExpression_20210414\\DLC-Guillermo-2021-04-14\\new-videos  already exists!\n",
      "Loading  D:/3DBHVR/FacialExpression_20210414/DLC-Guillermo-2021-04-14/new-videos/subject4_cam-C.avi\n",
      "Duration of video [s]:  18.47 , recorded with  100.0 fps!\n",
      "Overall # of frames:  1847  found with (before cropping) frame dimensions:  1440 1080\n",
      "Starting to extract posture\n"
     ]
    },
    {
     "name": "stderr",
     "output_type": "stream",
     "text": [
      "1854it [02:07, 14.53it/s]                                                                                           \n"
     ]
    },
    {
     "name": "stdout",
     "output_type": "stream",
     "text": [
      "Saving results in D:\\3DBHVR\\FacialExpression_20210414\\DLC-Guillermo-2021-04-14\\new-videos...\n",
      "Saving csv poses!\n"
     ]
    },
    {
     "name": "stderr",
     "output_type": "stream",
     "text": [
      "\r",
      "  0%|                                                                                      | 0/1847 [00:00<?, ?it/s]"
     ]
    },
    {
     "name": "stdout",
     "output_type": "stream",
     "text": [
      "Starting to analyze %  D:/3DBHVR/FacialExpression_20210414/DLC-Guillermo-2021-04-14/new-videos/subject4_cam-D.avi\n",
      "D:\\3DBHVR\\FacialExpression_20210414\\DLC-Guillermo-2021-04-14\\new-videos  already exists!\n",
      "Loading  D:/3DBHVR/FacialExpression_20210414/DLC-Guillermo-2021-04-14/new-videos/subject4_cam-D.avi\n",
      "Duration of video [s]:  18.47 , recorded with  100.0 fps!\n",
      "Overall # of frames:  1847  found with (before cropping) frame dimensions:  1440 1080\n",
      "Starting to extract posture\n"
     ]
    },
    {
     "name": "stderr",
     "output_type": "stream",
     "text": [
      "1854it [02:15, 13.72it/s]                                                                                           \n"
     ]
    },
    {
     "name": "stdout",
     "output_type": "stream",
     "text": [
      "Saving results in D:\\3DBHVR\\FacialExpression_20210414\\DLC-Guillermo-2021-04-14\\new-videos...\n",
      "Saving csv poses!\n"
     ]
    },
    {
     "name": "stderr",
     "output_type": "stream",
     "text": [
      "\r",
      "  0%|                                                                                      | 0/1846 [00:00<?, ?it/s]"
     ]
    },
    {
     "name": "stdout",
     "output_type": "stream",
     "text": [
      "Starting to analyze %  D:/3DBHVR/FacialExpression_20210414/DLC-Guillermo-2021-04-14/new-videos/subject4_cam-E.avi\n",
      "D:\\3DBHVR\\FacialExpression_20210414\\DLC-Guillermo-2021-04-14\\new-videos  already exists!\n",
      "Loading  D:/3DBHVR/FacialExpression_20210414/DLC-Guillermo-2021-04-14/new-videos/subject4_cam-E.avi\n",
      "Duration of video [s]:  18.46 , recorded with  100.0 fps!\n",
      "Overall # of frames:  1846  found with (before cropping) frame dimensions:  1440 1080\n",
      "Starting to extract posture\n"
     ]
    },
    {
     "name": "stderr",
     "output_type": "stream",
     "text": [
      "1854it [02:06, 14.68it/s]                                                                                           \n"
     ]
    },
    {
     "name": "stdout",
     "output_type": "stream",
     "text": [
      "Saving results in D:\\3DBHVR\\FacialExpression_20210414\\DLC-Guillermo-2021-04-14\\new-videos...\n",
      "Saving csv poses!\n"
     ]
    },
    {
     "name": "stderr",
     "output_type": "stream",
     "text": [
      "\r",
      "  0%|                                                                                      | 0/1847 [00:00<?, ?it/s]"
     ]
    },
    {
     "name": "stdout",
     "output_type": "stream",
     "text": [
      "Starting to analyze %  D:/3DBHVR/FacialExpression_20210414/DLC-Guillermo-2021-04-14/new-videos/subject4_cam-F.avi\n",
      "D:\\3DBHVR\\FacialExpression_20210414\\DLC-Guillermo-2021-04-14\\new-videos  already exists!\n",
      "Loading  D:/3DBHVR/FacialExpression_20210414/DLC-Guillermo-2021-04-14/new-videos/subject4_cam-F.avi\n",
      "Duration of video [s]:  18.47 , recorded with  100.0 fps!\n",
      "Overall # of frames:  1847  found with (before cropping) frame dimensions:  1440 1080\n",
      "Starting to extract posture\n"
     ]
    },
    {
     "name": "stderr",
     "output_type": "stream",
     "text": [
      "1854it [02:15, 13.64it/s]                                                                                           \n"
     ]
    },
    {
     "name": "stdout",
     "output_type": "stream",
     "text": [
      "Saving results in D:\\3DBHVR\\FacialExpression_20210414\\DLC-Guillermo-2021-04-14\\new-videos...\n",
      "Saving csv poses!\n"
     ]
    },
    {
     "name": "stderr",
     "output_type": "stream",
     "text": [
      "\r",
      "  0%|                                                                                       | 0/891 [00:00<?, ?it/s]"
     ]
    },
    {
     "name": "stdout",
     "output_type": "stream",
     "text": [
      "Starting to analyze %  D:/3DBHVR/FacialExpression_20210414/DLC-Guillermo-2021-04-14/new-videos/subject5.2_cam-A.avi\n",
      "D:\\3DBHVR\\FacialExpression_20210414\\DLC-Guillermo-2021-04-14\\new-videos  already exists!\n",
      "Loading  D:/3DBHVR/FacialExpression_20210414/DLC-Guillermo-2021-04-14/new-videos/subject5.2_cam-A.avi\n",
      "Duration of video [s]:  8.91 , recorded with  100.0 fps!\n",
      "Overall # of frames:  891  found with (before cropping) frame dimensions:  1440 1080\n",
      "Starting to extract posture\n"
     ]
    },
    {
     "name": "stderr",
     "output_type": "stream",
     "text": [
      "900it [01:02, 14.41it/s]                                                                                            \n",
      "  0%|                                                                                       | 0/891 [00:00<?, ?it/s]"
     ]
    },
    {
     "name": "stdout",
     "output_type": "stream",
     "text": [
      "Saving results in D:\\3DBHVR\\FacialExpression_20210414\\DLC-Guillermo-2021-04-14\\new-videos...\n",
      "Saving csv poses!\n",
      "Starting to analyze %  D:/3DBHVR/FacialExpression_20210414/DLC-Guillermo-2021-04-14/new-videos/subject5.2_cam-B.avi\n",
      "D:\\3DBHVR\\FacialExpression_20210414\\DLC-Guillermo-2021-04-14\\new-videos  already exists!\n",
      "Loading  D:/3DBHVR/FacialExpression_20210414/DLC-Guillermo-2021-04-14/new-videos/subject5.2_cam-B.avi\n",
      "Duration of video [s]:  8.91 , recorded with  100.0 fps!\n",
      "Overall # of frames:  891  found with (before cropping) frame dimensions:  1440 1080\n",
      "Starting to extract posture\n"
     ]
    },
    {
     "name": "stderr",
     "output_type": "stream",
     "text": [
      "900it [01:04, 13.86it/s]                                                                                            \n",
      "  0%|                                                                                      | 0/1836 [00:00<?, ?it/s]"
     ]
    },
    {
     "name": "stdout",
     "output_type": "stream",
     "text": [
      "Saving results in D:\\3DBHVR\\FacialExpression_20210414\\DLC-Guillermo-2021-04-14\\new-videos...\n",
      "Saving csv poses!\n",
      "Starting to analyze %  D:/3DBHVR/FacialExpression_20210414/DLC-Guillermo-2021-04-14/new-videos/subject5.2_cam-C.avi\n",
      "D:\\3DBHVR\\FacialExpression_20210414\\DLC-Guillermo-2021-04-14\\new-videos  already exists!\n",
      "Loading  D:/3DBHVR/FacialExpression_20210414/DLC-Guillermo-2021-04-14/new-videos/subject5.2_cam-C.avi\n",
      "Duration of video [s]:  18.36 , recorded with  100.0 fps!\n",
      "Overall # of frames:  1836  found with (before cropping) frame dimensions:  1440 1080\n",
      "Starting to extract posture\n"
     ]
    },
    {
     "name": "stderr",
     "output_type": "stream",
     "text": [
      "1854it [02:07, 14.50it/s]                                                                                           \n"
     ]
    },
    {
     "name": "stdout",
     "output_type": "stream",
     "text": [
      "Saving results in D:\\3DBHVR\\FacialExpression_20210414\\DLC-Guillermo-2021-04-14\\new-videos...\n",
      "Saving csv poses!\n"
     ]
    },
    {
     "name": "stderr",
     "output_type": "stream",
     "text": [
      "\r",
      "  0%|                                                                                      | 0/1836 [00:00<?, ?it/s]"
     ]
    },
    {
     "name": "stdout",
     "output_type": "stream",
     "text": [
      "Starting to analyze %  D:/3DBHVR/FacialExpression_20210414/DLC-Guillermo-2021-04-14/new-videos/subject5.2_cam-D.avi\n",
      "D:\\3DBHVR\\FacialExpression_20210414\\DLC-Guillermo-2021-04-14\\new-videos  already exists!\n",
      "Loading  D:/3DBHVR/FacialExpression_20210414/DLC-Guillermo-2021-04-14/new-videos/subject5.2_cam-D.avi\n",
      "Duration of video [s]:  18.36 , recorded with  100.0 fps!\n",
      "Overall # of frames:  1836  found with (before cropping) frame dimensions:  1440 1080\n",
      "Starting to extract posture\n"
     ]
    },
    {
     "name": "stderr",
     "output_type": "stream",
     "text": [
      "1854it [02:12, 14.00it/s]                                                                                           \n"
     ]
    },
    {
     "name": "stdout",
     "output_type": "stream",
     "text": [
      "Saving results in D:\\3DBHVR\\FacialExpression_20210414\\DLC-Guillermo-2021-04-14\\new-videos...\n",
      "Saving csv poses!\n"
     ]
    },
    {
     "name": "stderr",
     "output_type": "stream",
     "text": [
      "\r",
      "  0%|                                                                                       | 0/355 [00:00<?, ?it/s]"
     ]
    },
    {
     "name": "stdout",
     "output_type": "stream",
     "text": [
      "Starting to analyze %  D:/3DBHVR/FacialExpression_20210414/DLC-Guillermo-2021-04-14/new-videos/subject5.2_cam-E.avi\n",
      "D:\\3DBHVR\\FacialExpression_20210414\\DLC-Guillermo-2021-04-14\\new-videos  already exists!\n",
      "Loading  D:/3DBHVR/FacialExpression_20210414/DLC-Guillermo-2021-04-14/new-videos/subject5.2_cam-E.avi\n",
      "Duration of video [s]:  3.55 , recorded with  100.0 fps!\n",
      "Overall # of frames:  355  found with (before cropping) frame dimensions:  1440 1080\n",
      "Starting to extract posture\n"
     ]
    },
    {
     "name": "stderr",
     "output_type": "stream",
     "text": [
      "360it [00:24, 14.54it/s]                                                                                            \n",
      "  0%|                                                                                      | 0/1836 [00:00<?, ?it/s]"
     ]
    },
    {
     "name": "stdout",
     "output_type": "stream",
     "text": [
      "Saving results in D:\\3DBHVR\\FacialExpression_20210414\\DLC-Guillermo-2021-04-14\\new-videos...\n",
      "Saving csv poses!\n",
      "Starting to analyze %  D:/3DBHVR/FacialExpression_20210414/DLC-Guillermo-2021-04-14/new-videos/subject5.2_cam-F.avi\n",
      "D:\\3DBHVR\\FacialExpression_20210414\\DLC-Guillermo-2021-04-14\\new-videos  already exists!\n",
      "Loading  D:/3DBHVR/FacialExpression_20210414/DLC-Guillermo-2021-04-14/new-videos/subject5.2_cam-F.avi\n",
      "Duration of video [s]:  18.36 , recorded with  100.0 fps!\n",
      "Overall # of frames:  1836  found with (before cropping) frame dimensions:  1440 1080\n",
      "Starting to extract posture\n"
     ]
    },
    {
     "name": "stderr",
     "output_type": "stream",
     "text": [
      "1854it [02:14, 13.83it/s]                                                                                           \n"
     ]
    },
    {
     "name": "stdout",
     "output_type": "stream",
     "text": [
      "Saving results in D:\\3DBHVR\\FacialExpression_20210414\\DLC-Guillermo-2021-04-14\\new-videos...\n",
      "Saving csv poses!\n"
     ]
    },
    {
     "name": "stderr",
     "output_type": "stream",
     "text": [
      "\r",
      "  0%|                                                                                       | 0/963 [00:00<?, ?it/s]"
     ]
    },
    {
     "name": "stdout",
     "output_type": "stream",
     "text": [
      "Starting to analyze %  D:/3DBHVR/FacialExpression_20210414/DLC-Guillermo-2021-04-14/new-videos/subject5.3_cam-A.avi\n",
      "D:\\3DBHVR\\FacialExpression_20210414\\DLC-Guillermo-2021-04-14\\new-videos  already exists!\n",
      "Loading  D:/3DBHVR/FacialExpression_20210414/DLC-Guillermo-2021-04-14/new-videos/subject5.3_cam-A.avi\n",
      "Duration of video [s]:  9.63 , recorded with  100.0 fps!\n",
      "Overall # of frames:  963  found with (before cropping) frame dimensions:  1440 1080\n",
      "Starting to extract posture\n"
     ]
    },
    {
     "name": "stderr",
     "output_type": "stream",
     "text": [
      "970it [01:07, 14.41it/s]                                                                                            \n",
      "  0%|                                                                                       | 0/963 [00:00<?, ?it/s]"
     ]
    },
    {
     "name": "stdout",
     "output_type": "stream",
     "text": [
      "Saving results in D:\\3DBHVR\\FacialExpression_20210414\\DLC-Guillermo-2021-04-14\\new-videos...\n",
      "Saving csv poses!\n",
      "Starting to analyze %  D:/3DBHVR/FacialExpression_20210414/DLC-Guillermo-2021-04-14/new-videos/subject5.3_cam-B.avi\n",
      "D:\\3DBHVR\\FacialExpression_20210414\\DLC-Guillermo-2021-04-14\\new-videos  already exists!\n",
      "Loading  D:/3DBHVR/FacialExpression_20210414/DLC-Guillermo-2021-04-14/new-videos/subject5.3_cam-B.avi\n",
      "Duration of video [s]:  9.63 , recorded with  100.0 fps!\n",
      "Overall # of frames:  963  found with (before cropping) frame dimensions:  1440 1080\n",
      "Starting to extract posture\n"
     ]
    },
    {
     "name": "stderr",
     "output_type": "stream",
     "text": [
      "970it [01:09, 13.97it/s]                                                                                            \n"
     ]
    },
    {
     "name": "stdout",
     "output_type": "stream",
     "text": [
      "Saving results in D:\\3DBHVR\\FacialExpression_20210414\\DLC-Guillermo-2021-04-14\\new-videos...\n",
      "Saving csv poses!\n",
      "Starting to analyze %  D:/3DBHVR/FacialExpression_20210414/DLC-Guillermo-2021-04-14/new-videos/subject5.3_cam-C.avi\n",
      "D:\\3DBHVR\\FacialExpression_20210414\\DLC-Guillermo-2021-04-14\\new-videos  already exists!\n",
      "Loading  D:/3DBHVR/FacialExpression_20210414/DLC-Guillermo-2021-04-14/new-videos/subject5.3_cam-C.avi\n",
      "Duration of video [s]:  21.07 , recorded with  100.0 fps!\n"
     ]
    },
    {
     "name": "stderr",
     "output_type": "stream",
     "text": [
      "\r",
      "  0%|                                                                                      | 0/2107 [00:00<?, ?it/s]"
     ]
    },
    {
     "name": "stdout",
     "output_type": "stream",
     "text": [
      "Overall # of frames:  2107  found with (before cropping) frame dimensions:  1440 1080\n",
      "Starting to extract posture\n"
     ]
    },
    {
     "name": "stderr",
     "output_type": "stream",
     "text": [
      "2121it [02:26, 14.46it/s]                                                                                           \n"
     ]
    },
    {
     "name": "stdout",
     "output_type": "stream",
     "text": [
      "Saving results in D:\\3DBHVR\\FacialExpression_20210414\\DLC-Guillermo-2021-04-14\\new-videos...\n",
      "Saving csv poses!\n"
     ]
    },
    {
     "name": "stderr",
     "output_type": "stream",
     "text": [
      "\r",
      "  0%|                                                                                      | 0/2107 [00:00<?, ?it/s]"
     ]
    },
    {
     "name": "stdout",
     "output_type": "stream",
     "text": [
      "Starting to analyze %  D:/3DBHVR/FacialExpression_20210414/DLC-Guillermo-2021-04-14/new-videos/subject5.3_cam-D.avi\n",
      "D:\\3DBHVR\\FacialExpression_20210414\\DLC-Guillermo-2021-04-14\\new-videos  already exists!\n",
      "Loading  D:/3DBHVR/FacialExpression_20210414/DLC-Guillermo-2021-04-14/new-videos/subject5.3_cam-D.avi\n",
      "Duration of video [s]:  21.07 , recorded with  100.0 fps!\n",
      "Overall # of frames:  2107  found with (before cropping) frame dimensions:  1440 1080\n",
      "Starting to extract posture\n"
     ]
    },
    {
     "name": "stderr",
     "output_type": "stream",
     "text": [
      "2121it [02:31, 13.97it/s]                                                                                           \n"
     ]
    },
    {
     "name": "stdout",
     "output_type": "stream",
     "text": [
      "Saving results in D:\\3DBHVR\\FacialExpression_20210414\\DLC-Guillermo-2021-04-14\\new-videos...\n",
      "Saving csv poses!\n"
     ]
    },
    {
     "name": "stderr",
     "output_type": "stream",
     "text": [
      "\r",
      "  0%|                                                                                       | 0/429 [00:00<?, ?it/s]"
     ]
    },
    {
     "name": "stdout",
     "output_type": "stream",
     "text": [
      "Starting to analyze %  D:/3DBHVR/FacialExpression_20210414/DLC-Guillermo-2021-04-14/new-videos/subject5.3_cam-E.avi\n",
      "D:\\3DBHVR\\FacialExpression_20210414\\DLC-Guillermo-2021-04-14\\new-videos  already exists!\n",
      "Loading  D:/3DBHVR/FacialExpression_20210414/DLC-Guillermo-2021-04-14/new-videos/subject5.3_cam-E.avi\n",
      "Duration of video [s]:  4.29 , recorded with  100.0 fps!\n",
      "Overall # of frames:  429  found with (before cropping) frame dimensions:  1440 1080\n",
      "Starting to extract posture\n"
     ]
    },
    {
     "name": "stderr",
     "output_type": "stream",
     "text": [
      "430it [00:29, 14.60it/s]                                                                                            \n",
      "  0%|                                                                                      | 0/2107 [00:00<?, ?it/s]"
     ]
    },
    {
     "name": "stdout",
     "output_type": "stream",
     "text": [
      "Saving results in D:\\3DBHVR\\FacialExpression_20210414\\DLC-Guillermo-2021-04-14\\new-videos...\n",
      "Saving csv poses!\n",
      "Starting to analyze %  D:/3DBHVR/FacialExpression_20210414/DLC-Guillermo-2021-04-14/new-videos/subject5.3_cam-F.avi\n",
      "D:\\3DBHVR\\FacialExpression_20210414\\DLC-Guillermo-2021-04-14\\new-videos  already exists!\n",
      "Loading  D:/3DBHVR/FacialExpression_20210414/DLC-Guillermo-2021-04-14/new-videos/subject5.3_cam-F.avi\n",
      "Duration of video [s]:  21.07 , recorded with  100.0 fps!\n",
      "Overall # of frames:  2107  found with (before cropping) frame dimensions:  1440 1080\n",
      "Starting to extract posture\n"
     ]
    },
    {
     "name": "stderr",
     "output_type": "stream",
     "text": [
      "2121it [02:33, 13.84it/s]                                                                                           \n"
     ]
    },
    {
     "name": "stdout",
     "output_type": "stream",
     "text": [
      "Saving results in D:\\3DBHVR\\FacialExpression_20210414\\DLC-Guillermo-2021-04-14\\new-videos...\n",
      "Saving csv poses!\n"
     ]
    },
    {
     "name": "stderr",
     "output_type": "stream",
     "text": [
      "\r",
      "  0%|                                                                                       | 0/817 [00:00<?, ?it/s]"
     ]
    },
    {
     "name": "stdout",
     "output_type": "stream",
     "text": [
      "Starting to analyze %  D:/3DBHVR/FacialExpression_20210414/DLC-Guillermo-2021-04-14/new-videos/subject5_cam-A.avi\n",
      "D:\\3DBHVR\\FacialExpression_20210414\\DLC-Guillermo-2021-04-14\\new-videos  already exists!\n",
      "Loading  D:/3DBHVR/FacialExpression_20210414/DLC-Guillermo-2021-04-14/new-videos/subject5_cam-A.avi\n",
      "Duration of video [s]:  8.17 , recorded with  100.0 fps!\n",
      "Overall # of frames:  817  found with (before cropping) frame dimensions:  1440 1080\n",
      "Starting to extract posture\n"
     ]
    },
    {
     "name": "stderr",
     "output_type": "stream",
     "text": [
      "820it [00:59, 13.74it/s]                                                                                            \n",
      "  0%|                                                                                       | 0/814 [00:00<?, ?it/s]"
     ]
    },
    {
     "name": "stdout",
     "output_type": "stream",
     "text": [
      "Saving results in D:\\3DBHVR\\FacialExpression_20210414\\DLC-Guillermo-2021-04-14\\new-videos...\n",
      "Saving csv poses!\n",
      "Starting to analyze %  D:/3DBHVR/FacialExpression_20210414/DLC-Guillermo-2021-04-14/new-videos/subject5_cam-B.avi\n",
      "D:\\3DBHVR\\FacialExpression_20210414\\DLC-Guillermo-2021-04-14\\new-videos  already exists!\n",
      "Loading  D:/3DBHVR/FacialExpression_20210414/DLC-Guillermo-2021-04-14/new-videos/subject5_cam-B.avi\n",
      "Duration of video [s]:  8.14 , recorded with  100.0 fps!\n",
      "Overall # of frames:  814  found with (before cropping) frame dimensions:  1440 1080\n",
      "Starting to extract posture\n"
     ]
    },
    {
     "name": "stderr",
     "output_type": "stream",
     "text": [
      "820it [01:01, 13.25it/s]                                                                                            \n",
      "  0%|                                                                                      | 0/1560 [00:00<?, ?it/s]"
     ]
    },
    {
     "name": "stdout",
     "output_type": "stream",
     "text": [
      "Saving results in D:\\3DBHVR\\FacialExpression_20210414\\DLC-Guillermo-2021-04-14\\new-videos...\n",
      "Saving csv poses!\n",
      "Starting to analyze %  D:/3DBHVR/FacialExpression_20210414/DLC-Guillermo-2021-04-14/new-videos/subject5_cam-C.avi\n",
      "D:\\3DBHVR\\FacialExpression_20210414\\DLC-Guillermo-2021-04-14\\new-videos  already exists!\n",
      "Loading  D:/3DBHVR/FacialExpression_20210414/DLC-Guillermo-2021-04-14/new-videos/subject5_cam-C.avi\n",
      "Duration of video [s]:  15.6 , recorded with  100.0 fps!\n",
      "Overall # of frames:  1560  found with (before cropping) frame dimensions:  1440 1080\n",
      "Starting to extract posture\n"
     ]
    },
    {
     "name": "stderr",
     "output_type": "stream",
     "text": [
      "1575it [01:49, 14.32it/s]                                                                                           \n"
     ]
    },
    {
     "name": "stdout",
     "output_type": "stream",
     "text": [
      "Saving results in D:\\3DBHVR\\FacialExpression_20210414\\DLC-Guillermo-2021-04-14\\new-videos...\n",
      "Saving csv poses!\n",
      "Starting to analyze %  D:/3DBHVR/FacialExpression_20210414/DLC-Guillermo-2021-04-14/new-videos/subject5_cam-D.avi\n"
     ]
    },
    {
     "name": "stderr",
     "output_type": "stream",
     "text": [
      "\r",
      "  0%|                                                                                      | 0/1560 [00:00<?, ?it/s]"
     ]
    },
    {
     "name": "stdout",
     "output_type": "stream",
     "text": [
      "D:\\3DBHVR\\FacialExpression_20210414\\DLC-Guillermo-2021-04-14\\new-videos  already exists!\n",
      "Loading  D:/3DBHVR/FacialExpression_20210414/DLC-Guillermo-2021-04-14/new-videos/subject5_cam-D.avi\n",
      "Duration of video [s]:  15.6 , recorded with  100.0 fps!\n",
      "Overall # of frames:  1560  found with (before cropping) frame dimensions:  1440 1080\n",
      "Starting to extract posture\n"
     ]
    },
    {
     "name": "stderr",
     "output_type": "stream",
     "text": [
      "1575it [01:58, 13.27it/s]                                                                                           \n"
     ]
    },
    {
     "name": "stdout",
     "output_type": "stream",
     "text": [
      "Saving results in D:\\3DBHVR\\FacialExpression_20210414\\DLC-Guillermo-2021-04-14\\new-videos...\n",
      "Saving csv poses!\n"
     ]
    },
    {
     "name": "stderr",
     "output_type": "stream",
     "text": [
      "\r",
      "  0%|                                                                                       | 0/280 [00:00<?, ?it/s]"
     ]
    },
    {
     "name": "stdout",
     "output_type": "stream",
     "text": [
      "Starting to analyze %  D:/3DBHVR/FacialExpression_20210414/DLC-Guillermo-2021-04-14/new-videos/subject5_cam-E.avi\n",
      "D:\\3DBHVR\\FacialExpression_20210414\\DLC-Guillermo-2021-04-14\\new-videos  already exists!\n",
      "Loading  D:/3DBHVR/FacialExpression_20210414/DLC-Guillermo-2021-04-14/new-videos/subject5_cam-E.avi\n",
      "Duration of video [s]:  2.8 , recorded with  100.0 fps!\n",
      "Overall # of frames:  280  found with (before cropping) frame dimensions:  1440 1080\n",
      "Starting to extract posture\n"
     ]
    },
    {
     "name": "stderr",
     "output_type": "stream",
     "text": [
      "290it [00:20, 14.27it/s]                                                                                            \n",
      "  0%|                                                                                      | 0/1560 [00:00<?, ?it/s]"
     ]
    },
    {
     "name": "stdout",
     "output_type": "stream",
     "text": [
      "Saving results in D:\\3DBHVR\\FacialExpression_20210414\\DLC-Guillermo-2021-04-14\\new-videos...\n",
      "Saving csv poses!\n",
      "Starting to analyze %  D:/3DBHVR/FacialExpression_20210414/DLC-Guillermo-2021-04-14/new-videos/subject5_cam-F.avi\n",
      "D:\\3DBHVR\\FacialExpression_20210414\\DLC-Guillermo-2021-04-14\\new-videos  already exists!\n",
      "Loading  D:/3DBHVR/FacialExpression_20210414/DLC-Guillermo-2021-04-14/new-videos/subject5_cam-F.avi\n",
      "Duration of video [s]:  15.6 , recorded with  100.0 fps!\n",
      "Overall # of frames:  1560  found with (before cropping) frame dimensions:  1440 1080\n",
      "Starting to extract posture\n"
     ]
    },
    {
     "name": "stderr",
     "output_type": "stream",
     "text": [
      "1575it [02:01, 13.00it/s]                                                                                           \n"
     ]
    },
    {
     "name": "stdout",
     "output_type": "stream",
     "text": [
      "Saving results in D:\\3DBHVR\\FacialExpression_20210414\\DLC-Guillermo-2021-04-14\\new-videos...\n",
      "Saving csv poses!\n"
     ]
    },
    {
     "name": "stderr",
     "output_type": "stream",
     "text": [
      "\r",
      "  0%|                                                                                      | 0/1288 [00:00<?, ?it/s]"
     ]
    },
    {
     "name": "stdout",
     "output_type": "stream",
     "text": [
      "Starting to analyze %  D:/3DBHVR/FacialExpression_20210414/DLC-Guillermo-2021-04-14/new-videos/subject6.2_cam-A.avi\n",
      "D:\\3DBHVR\\FacialExpression_20210414\\DLC-Guillermo-2021-04-14\\new-videos  already exists!\n",
      "Loading  D:/3DBHVR/FacialExpression_20210414/DLC-Guillermo-2021-04-14/new-videos/subject6.2_cam-A.avi\n",
      "Duration of video [s]:  12.88 , recorded with  100.0 fps!\n",
      "Overall # of frames:  1288  found with (before cropping) frame dimensions:  1440 1080\n",
      "Starting to extract posture\n"
     ]
    },
    {
     "name": "stderr",
     "output_type": "stream",
     "text": [
      "1296it [01:34, 13.76it/s]                                                                                           \n"
     ]
    },
    {
     "name": "stdout",
     "output_type": "stream",
     "text": [
      "Saving results in D:\\3DBHVR\\FacialExpression_20210414\\DLC-Guillermo-2021-04-14\\new-videos...\n",
      "Saving csv poses!\n",
      "Starting to analyze %  D:/3DBHVR/FacialExpression_20210414/DLC-Guillermo-2021-04-14/new-videos/subject6.2_cam-B.avi\n",
      "D:\\3DBHVR\\FacialExpression_20210414\\DLC-Guillermo-2021-04-14\\new-videos  already exists!\n",
      "Loading  D:/3DBHVR/FacialExpression_20210414/DLC-Guillermo-2021-04-14/new-videos/subject6.2_cam-B.avi\n"
     ]
    },
    {
     "name": "stderr",
     "output_type": "stream",
     "text": [
      "\r",
      "  0%|                                                                                      | 0/1282 [00:00<?, ?it/s]"
     ]
    },
    {
     "name": "stdout",
     "output_type": "stream",
     "text": [
      "Duration of video [s]:  12.82 , recorded with  100.0 fps!\n",
      "Overall # of frames:  1282  found with (before cropping) frame dimensions:  1440 1080\n",
      "Starting to extract posture\n"
     ]
    },
    {
     "name": "stderr",
     "output_type": "stream",
     "text": [
      "1284it [01:41, 12.66it/s]                                                                                           \n"
     ]
    },
    {
     "name": "stdout",
     "output_type": "stream",
     "text": [
      "Saving results in D:\\3DBHVR\\FacialExpression_20210414\\DLC-Guillermo-2021-04-14\\new-videos...\n",
      "Saving csv poses!\n",
      "Starting to analyze %  D:/3DBHVR/FacialExpression_20210414/DLC-Guillermo-2021-04-14/new-videos/subject6.2_cam-C.avi\n",
      "D:\\3DBHVR\\FacialExpression_20210414\\DLC-Guillermo-2021-04-14\\new-videos  already exists!\n",
      "Loading  D:/3DBHVR/FacialExpression_20210414/DLC-Guillermo-2021-04-14/new-videos/subject6.2_cam-C.avi\n"
     ]
    },
    {
     "name": "stderr",
     "output_type": "stream",
     "text": [
      "\r",
      "  0%|                                                                                      | 0/1290 [00:00<?, ?it/s]"
     ]
    },
    {
     "name": "stdout",
     "output_type": "stream",
     "text": [
      "Duration of video [s]:  12.9 , recorded with  100.0 fps!\n",
      "Overall # of frames:  1290  found with (before cropping) frame dimensions:  1440 1080\n",
      "Starting to extract posture\n"
     ]
    },
    {
     "name": "stderr",
     "output_type": "stream",
     "text": [
      "1296it [01:34, 13.66it/s]                                                                                           \n"
     ]
    },
    {
     "name": "stdout",
     "output_type": "stream",
     "text": [
      "Saving results in D:\\3DBHVR\\FacialExpression_20210414\\DLC-Guillermo-2021-04-14\\new-videos...\n",
      "Saving csv poses!\n",
      "Starting to analyze %  D:/3DBHVR/FacialExpression_20210414/DLC-Guillermo-2021-04-14/new-videos/subject6.2_cam-D.avi\n",
      "D:\\3DBHVR\\FacialExpression_20210414\\DLC-Guillermo-2021-04-14\\new-videos  already exists!\n",
      "Loading  D:/3DBHVR/FacialExpression_20210414/DLC-Guillermo-2021-04-14/new-videos/subject6.2_cam-D.avi\n"
     ]
    },
    {
     "name": "stderr",
     "output_type": "stream",
     "text": [
      "\r",
      "  0%|                                                                                      | 0/1290 [00:00<?, ?it/s]"
     ]
    },
    {
     "name": "stdout",
     "output_type": "stream",
     "text": [
      "Duration of video [s]:  12.9 , recorded with  100.0 fps!\n",
      "Overall # of frames:  1290  found with (before cropping) frame dimensions:  1440 1080\n",
      "Starting to extract posture\n"
     ]
    },
    {
     "name": "stderr",
     "output_type": "stream",
     "text": [
      "1296it [01:43, 12.56it/s]                                                                                           \n"
     ]
    },
    {
     "name": "stdout",
     "output_type": "stream",
     "text": [
      "Saving results in D:\\3DBHVR\\FacialExpression_20210414\\DLC-Guillermo-2021-04-14\\new-videos...\n",
      "Saving csv poses!\n",
      "Starting to analyze %  "
     ]
    },
    {
     "name": "stderr",
     "output_type": "stream",
     "text": [
      "\r",
      "  0%|                                                                                      | 0/1282 [00:00<?, ?it/s]"
     ]
    },
    {
     "name": "stdout",
     "output_type": "stream",
     "text": [
      "D:/3DBHVR/FacialExpression_20210414/DLC-Guillermo-2021-04-14/new-videos/subject6.2_cam-E.avi\n",
      "D:\\3DBHVR\\FacialExpression_20210414\\DLC-Guillermo-2021-04-14\\new-videos  already exists!\n",
      "Loading  D:/3DBHVR/FacialExpression_20210414/DLC-Guillermo-2021-04-14/new-videos/subject6.2_cam-E.avi\n",
      "Duration of video [s]:  12.82 , recorded with  100.0 fps!\n",
      "Overall # of frames:  1282  found with (before cropping) frame dimensions:  1440 1080\n",
      "Starting to extract posture\n"
     ]
    },
    {
     "name": "stderr",
     "output_type": "stream",
     "text": [
      "1284it [01:28, 14.56it/s]                                                                                           \n"
     ]
    },
    {
     "name": "stdout",
     "output_type": "stream",
     "text": [
      "Saving results in D:\\3DBHVR\\FacialExpression_20210414\\DLC-Guillermo-2021-04-14\\new-videos...\n",
      "Saving csv poses!\n",
      "Starting to analyze %  D:/3DBHVR/FacialExpression_20210414/DLC-Guillermo-2021-04-14/new-videos/subject6.2_cam-F.avi\n",
      "D:\\3DBHVR\\FacialExpression_20210414\\DLC-Guillermo-2021-04-14\\new-videos  already exists!\n",
      "Loading  D:/3DBHVR/FacialExpression_20210414/DLC-Guillermo-2021-04-14/new-videos/subject6.2_cam-F.avi\n",
      "Duration of video [s]:  12.9 , recorded with  100.0 fps!\n",
      "Overall # of frames:  1290  found with (before cropping) frame dimensions:  1440 1080\n",
      "Starting to extract posture\n"
     ]
    },
    {
     "name": "stderr",
     "output_type": "stream",
     "text": [
      "1296it [01:32, 13.95it/s]                                                                                           \n"
     ]
    },
    {
     "name": "stdout",
     "output_type": "stream",
     "text": [
      "Saving results in D:\\3DBHVR\\FacialExpression_20210414\\DLC-Guillermo-2021-04-14\\new-videos...\n",
      "Saving csv poses!\n",
      "Starting to analyze %  D:/3DBHVR/FacialExpression_20210414/DLC-Guillermo-2021-04-14/new-videos/subject6_cam-A.avi\n",
      "D:\\3DBHVR\\FacialExpression_20210414\\DLC-Guillermo-2021-04-14\\new-videos  already exists!\n",
      "Loading  D:/3DBHVR/FacialExpression_20210414/DLC-Guillermo-2021-04-14/new-videos/subject6_cam-A.avi\n"
     ]
    },
    {
     "name": "stderr",
     "output_type": "stream",
     "text": [
      "\r",
      "  0%|                                                                                      | 0/1763 [00:00<?, ?it/s]"
     ]
    },
    {
     "name": "stdout",
     "output_type": "stream",
     "text": [
      "Duration of video [s]:  17.63 , recorded with  100.0 fps!\n",
      "Overall # of frames:  1763  found with (before cropping) frame dimensions:  1440 1080\n",
      "Starting to extract posture\n"
     ]
    },
    {
     "name": "stderr",
     "output_type": "stream",
     "text": [
      "1768it [02:01, 14.53it/s]                                                                                           \n"
     ]
    },
    {
     "name": "stdout",
     "output_type": "stream",
     "text": [
      "Saving results in D:\\3DBHVR\\FacialExpression_20210414\\DLC-Guillermo-2021-04-14\\new-videos...\n",
      "Saving csv poses!\n"
     ]
    },
    {
     "name": "stderr",
     "output_type": "stream",
     "text": [
      "\r",
      "  0%|                                                                                      | 0/1757 [00:00<?, ?it/s]"
     ]
    },
    {
     "name": "stdout",
     "output_type": "stream",
     "text": [
      "Starting to analyze %  D:/3DBHVR/FacialExpression_20210414/DLC-Guillermo-2021-04-14/new-videos/subject6_cam-B.avi\n",
      "D:\\3DBHVR\\FacialExpression_20210414\\DLC-Guillermo-2021-04-14\\new-videos  already exists!\n",
      "Loading  D:/3DBHVR/FacialExpression_20210414/DLC-Guillermo-2021-04-14/new-videos/subject6_cam-B.avi\n",
      "Duration of video [s]:  17.57 , recorded with  100.0 fps!\n",
      "Overall # of frames:  1757  found with (before cropping) frame dimensions:  1440 1080\n",
      "Starting to extract posture\n"
     ]
    },
    {
     "name": "stderr",
     "output_type": "stream",
     "text": [
      "1768it [02:07, 13.90it/s]                                                                                           \n"
     ]
    },
    {
     "name": "stdout",
     "output_type": "stream",
     "text": [
      "Saving results in D:\\3DBHVR\\FacialExpression_20210414\\DLC-Guillermo-2021-04-14\\new-videos...\n",
      "Saving csv poses!\n"
     ]
    },
    {
     "name": "stderr",
     "output_type": "stream",
     "text": [
      "\r",
      "  0%|                                                                                      | 0/1764 [00:00<?, ?it/s]"
     ]
    },
    {
     "name": "stdout",
     "output_type": "stream",
     "text": [
      "Starting to analyze %  D:/3DBHVR/FacialExpression_20210414/DLC-Guillermo-2021-04-14/new-videos/subject6_cam-C.avi\n",
      "D:\\3DBHVR\\FacialExpression_20210414\\DLC-Guillermo-2021-04-14\\new-videos  already exists!\n",
      "Loading  D:/3DBHVR/FacialExpression_20210414/DLC-Guillermo-2021-04-14/new-videos/subject6_cam-C.avi\n",
      "Duration of video [s]:  17.64 , recorded with  100.0 fps!\n",
      "Overall # of frames:  1764  found with (before cropping) frame dimensions:  1440 1080\n",
      "Starting to extract posture\n"
     ]
    },
    {
     "name": "stderr",
     "output_type": "stream",
     "text": [
      "1768it [02:03, 14.29it/s]                                                                                           \n"
     ]
    },
    {
     "name": "stdout",
     "output_type": "stream",
     "text": [
      "Saving results in D:\\3DBHVR\\FacialExpression_20210414\\DLC-Guillermo-2021-04-14\\new-videos...\n",
      "Saving csv poses!\n"
     ]
    },
    {
     "name": "stderr",
     "output_type": "stream",
     "text": [
      "\r",
      "  0%|                                                                                      | 0/1764 [00:00<?, ?it/s]"
     ]
    },
    {
     "name": "stdout",
     "output_type": "stream",
     "text": [
      "Starting to analyze %  D:/3DBHVR/FacialExpression_20210414/DLC-Guillermo-2021-04-14/new-videos/subject6_cam-D.avi\n",
      "D:\\3DBHVR\\FacialExpression_20210414\\DLC-Guillermo-2021-04-14\\new-videos  already exists!\n",
      "Loading  D:/3DBHVR/FacialExpression_20210414/DLC-Guillermo-2021-04-14/new-videos/subject6_cam-D.avi\n",
      "Duration of video [s]:  17.64 , recorded with  100.0 fps!\n",
      "Overall # of frames:  1764  found with (before cropping) frame dimensions:  1440 1080\n",
      "Starting to extract posture\n"
     ]
    },
    {
     "name": "stderr",
     "output_type": "stream",
     "text": [
      "1768it [02:07, 13.89it/s]                                                                                           \n"
     ]
    },
    {
     "name": "stdout",
     "output_type": "stream",
     "text": [
      "Saving results in D:\\3DBHVR\\FacialExpression_20210414\\DLC-Guillermo-2021-04-14\\new-videos...\n",
      "Saving csv poses!\n"
     ]
    },
    {
     "name": "stderr",
     "output_type": "stream",
     "text": [
      "\r",
      "  0%|                                                                                      | 0/1756 [00:00<?, ?it/s]"
     ]
    },
    {
     "name": "stdout",
     "output_type": "stream",
     "text": [
      "Starting to analyze %  D:/3DBHVR/FacialExpression_20210414/DLC-Guillermo-2021-04-14/new-videos/subject6_cam-E.avi\n",
      "D:\\3DBHVR\\FacialExpression_20210414\\DLC-Guillermo-2021-04-14\\new-videos  already exists!\n",
      "Loading  D:/3DBHVR/FacialExpression_20210414/DLC-Guillermo-2021-04-14/new-videos/subject6_cam-E.avi\n",
      "Duration of video [s]:  17.56 , recorded with  100.0 fps!\n",
      "Overall # of frames:  1756  found with (before cropping) frame dimensions:  1440 1080\n",
      "Starting to extract posture\n"
     ]
    },
    {
     "name": "stderr",
     "output_type": "stream",
     "text": [
      "1768it [02:02, 14.39it/s]                                                                                           \n"
     ]
    },
    {
     "name": "stdout",
     "output_type": "stream",
     "text": [
      "Saving results in D:\\3DBHVR\\FacialExpression_20210414\\DLC-Guillermo-2021-04-14\\new-videos...\n",
      "Saving csv poses!\n"
     ]
    },
    {
     "name": "stderr",
     "output_type": "stream",
     "text": [
      "\r",
      "  0%|                                                                                      | 0/1764 [00:00<?, ?it/s]"
     ]
    },
    {
     "name": "stdout",
     "output_type": "stream",
     "text": [
      "Starting to analyze %  D:/3DBHVR/FacialExpression_20210414/DLC-Guillermo-2021-04-14/new-videos/subject6_cam-F.avi\n",
      "D:\\3DBHVR\\FacialExpression_20210414\\DLC-Guillermo-2021-04-14\\new-videos  already exists!\n",
      "Loading  D:/3DBHVR/FacialExpression_20210414/DLC-Guillermo-2021-04-14/new-videos/subject6_cam-F.avi\n",
      "Duration of video [s]:  17.64 , recorded with  100.0 fps!\n",
      "Overall # of frames:  1764  found with (before cropping) frame dimensions:  1440 1080\n",
      "Starting to extract posture\n"
     ]
    },
    {
     "name": "stderr",
     "output_type": "stream",
     "text": [
      "1768it [02:09, 13.63it/s]                                                                                           \n"
     ]
    },
    {
     "name": "stdout",
     "output_type": "stream",
     "text": [
      "Saving results in D:\\3DBHVR\\FacialExpression_20210414\\DLC-Guillermo-2021-04-14\\new-videos...\n",
      "Saving csv poses!\n",
      "The videos are analyzed. Now your research can truly start! \n",
      " You can create labeled videos with 'create_labeled_video'\n",
      "If the tracking is not satisfactory for some videos, consider expanding the training set. You can use the function 'extract_outlier_frames' to extract a few representative outlier frames.\n"
     ]
    },
    {
     "data": {
      "text/plain": [
       "'DLC_resnet50_DLCApr14shuffle1_1030000'"
      ]
     },
     "execution_count": 23,
     "metadata": {},
     "output_type": "execute_result"
    }
   ],
   "source": [
    "deeplabcut.analyze_videos(path_config_file, new_videos, shuffle=1, save_as_csv=True, videotype='mp4' )"
   ]
  },
  {
   "cell_type": "markdown",
   "id": "ece7c05e",
   "metadata": {},
   "source": [
    "Create labeled videos to check the model accuracy on your new data."
   ]
  },
  {
   "cell_type": "code",
   "execution_count": null,
   "id": "d3a23a8a",
   "metadata": {},
   "outputs": [],
   "source": [
    "deeplabcut.create_labeled_video(path_config_file, new_videos, videotype = 'mp4', save_frames=False)"
   ]
  },
  {
   "cell_type": "markdown",
   "id": "71020cea",
   "metadata": {},
   "source": [
    "Step 14: Extract outlier frames"
   ]
  },
  {
   "cell_type": "code",
   "execution_count": null,
   "id": "4d02cd72",
   "metadata": {},
   "outputs": [
    {
     "name": "stdout",
     "output_type": "stream",
     "text": [
      "Method  jump  found  2318  putative outlier frames.\n",
      "Do you want to proceed with extracting  5  of those?\n",
      "If this list is very large, perhaps consider changing the parameters (start, stop, p_bound, comparisonbodyparts) or use a different method.\n",
      "yes/non\n",
      "Nothing extracted, please change the parameters and start again...\n",
      "Method  jump  found  2015  putative outlier frames.\n",
      "Do you want to proceed with extracting  5  of those?\n",
      "If this list is very large, perhaps consider changing the parameters (start, stop, p_bound, comparisonbodyparts) or use a different method.\n",
      "yes/noy\n"
     ]
    },
    {
     "name": "stderr",
     "output_type": "stream",
     "text": [
      "\r",
      "0it [00:00, ?it/s]"
     ]
    },
    {
     "name": "stdout",
     "output_type": "stream",
     "text": [
      "Loading video...\n",
      "Duration of video [s]:  23.91 , recorded @  100.0 fps!\n",
      "Overall # of frames:  2391 with (cropped) frame dimensions: \n",
      "Kmeans-quantization based extracting of frames from 0.0  seconds to 23.91  seconds.\n",
      "Extracting and downsampling... 2015  frames from the video.\n"
     ]
    },
    {
     "name": "stderr",
     "output_type": "stream",
     "text": [
      "2015it [10:40,  3.15it/s]\n"
     ]
    },
    {
     "name": "stdout",
     "output_type": "stream",
     "text": [
      "Kmeans clustering ... (this might take a while)\n",
      "Let's select frames indices: [2280, 1680, 1162, 1128, 1883]\n",
      "Creating the symbolic link of the video\n",
      "AUTOMATIC ADDING OF VIDEO TO CONFIG FILE FAILED! You need to do this manually for including it in the config.yaml file!\n",
      "Videopath: D:/3DBHVR/FacialExpression_20210414/DLC-Guillermo-2021-04-14/new-videos/subject3.3_cam-B.avi Coordinates for cropping: None\n",
      "The outlier frames are extracted. They are stored in the subdirectory labeled-data\\subject3.3_cam-B.\n",
      "Once you extracted frames for all videos, use 'refine_labels' to manually correct the labels.\n",
      "Method  jump  found  2227  putative outlier frames.\n",
      "Do you want to proceed with extracting  5  of those?\n",
      "If this list is very large, perhaps consider changing the parameters (start, stop, p_bound, comparisonbodyparts) or use a different method.\n",
      "yes/noy\n"
     ]
    },
    {
     "name": "stderr",
     "output_type": "stream",
     "text": [
      "2it [00:00, 16.53it/s]"
     ]
    },
    {
     "name": "stdout",
     "output_type": "stream",
     "text": [
      "Loading video...\n",
      "Duration of video [s]:  23.97 , recorded @  100.0 fps!\n",
      "Overall # of frames:  2397 with (cropped) frame dimensions: \n",
      "Kmeans-quantization based extracting of frames from 0.0  seconds to 23.97  seconds.\n",
      "Extracting and downsampling... 2227  frames from the video.\n"
     ]
    },
    {
     "name": "stderr",
     "output_type": "stream",
     "text": [
      "2227it [08:54,  4.17it/s]\n"
     ]
    },
    {
     "name": "stdout",
     "output_type": "stream",
     "text": [
      "Kmeans clustering ... (this might take a while)\n",
      "Let's select frames indices: [1015, 14, 2057, 1122, 1298]\n",
      "Creating the symbolic link of the video\n",
      "AUTOMATIC ADDING OF VIDEO TO CONFIG FILE FAILED! You need to do this manually for including it in the config.yaml file!\n",
      "Videopath: D:/3DBHVR/FacialExpression_20210414/DLC-Guillermo-2021-04-14/new-videos/subject3.3_cam-C.avi Coordinates for cropping: None\n",
      "The outlier frames are extracted. They are stored in the subdirectory labeled-data\\subject3.3_cam-C.\n",
      "Once you extracted frames for all videos, use 'refine_labels' to manually correct the labels.\n",
      "Method  jump  found  1998  putative outlier frames.\n",
      "Do you want to proceed with extracting  5  of those?\n",
      "If this list is very large, perhaps consider changing the parameters (start, stop, p_bound, comparisonbodyparts) or use a different method.\n",
      "yes/noy\n"
     ]
    },
    {
     "name": "stderr",
     "output_type": "stream",
     "text": [
      "2it [00:00, 13.51it/s]"
     ]
    },
    {
     "name": "stdout",
     "output_type": "stream",
     "text": [
      "Loading video...\n",
      "Duration of video [s]:  23.97 , recorded @  100.0 fps!\n",
      "Overall # of frames:  2397 with (cropped) frame dimensions: \n",
      "Kmeans-quantization based extracting of frames from 0.0  seconds to 23.97  seconds.\n",
      "Extracting and downsampling... 1998  frames from the video.\n"
     ]
    },
    {
     "name": "stderr",
     "output_type": "stream",
     "text": [
      "1998it [10:57,  3.04it/s]\n"
     ]
    },
    {
     "name": "stdout",
     "output_type": "stream",
     "text": [
      "Kmeans clustering ... (this might take a while)\n",
      "Let's select frames indices: [762, 572, 694, 1553, 465]\n",
      "Creating the symbolic link of the video\n",
      "AUTOMATIC ADDING OF VIDEO TO CONFIG FILE FAILED! You need to do this manually for including it in the config.yaml file!\n",
      "Videopath: D:/3DBHVR/FacialExpression_20210414/DLC-Guillermo-2021-04-14/new-videos/subject3.3_cam-D.avi Coordinates for cropping: None\n",
      "The outlier frames are extracted. They are stored in the subdirectory labeled-data\\subject3.3_cam-D.\n",
      "Once you extracted frames for all videos, use 'refine_labels' to manually correct the labels.\n",
      "Method  jump  found  1859  putative outlier frames.\n",
      "Do you want to proceed with extracting  5  of those?\n",
      "If this list is very large, perhaps consider changing the parameters (start, stop, p_bound, comparisonbodyparts) or use a different method.\n",
      "yes/noy\n"
     ]
    },
    {
     "name": "stderr",
     "output_type": "stream",
     "text": [
      "2it [00:00, 14.48it/s]"
     ]
    },
    {
     "name": "stdout",
     "output_type": "stream",
     "text": [
      "Loading video...\n",
      "Duration of video [s]:  23.9 , recorded @  100.0 fps!\n",
      "Overall # of frames:  2390 with (cropped) frame dimensions: \n",
      "Kmeans-quantization based extracting of frames from 0.0  seconds to 23.9  seconds.\n",
      "Extracting and downsampling... 1859  frames from the video.\n"
     ]
    },
    {
     "name": "stderr",
     "output_type": "stream",
     "text": [
      "1859it [07:23,  4.19it/s]\n"
     ]
    },
    {
     "name": "stdout",
     "output_type": "stream",
     "text": [
      "Kmeans clustering ... (this might take a while)\n",
      "Let's select frames indices: [1348, 1980, 1706, 355, 1486]\n",
      "Creating the symbolic link of the video\n",
      "AUTOMATIC ADDING OF VIDEO TO CONFIG FILE FAILED! You need to do this manually for including it in the config.yaml file!\n",
      "Videopath: D:/3DBHVR/FacialExpression_20210414/DLC-Guillermo-2021-04-14/new-videos/subject3.3_cam-E.avi Coordinates for cropping: None\n",
      "The outlier frames are extracted. They are stored in the subdirectory labeled-data\\subject3.3_cam-E.\n",
      "Once you extracted frames for all videos, use 'refine_labels' to manually correct the labels.\n",
      "Method  jump  found  1858  putative outlier frames.\n",
      "Do you want to proceed with extracting  5  of those?\n",
      "If this list is very large, perhaps consider changing the parameters (start, stop, p_bound, comparisonbodyparts) or use a different method.\n",
      "yes/noy\n"
     ]
    },
    {
     "name": "stderr",
     "output_type": "stream",
     "text": [
      "\r",
      "0it [00:00, ?it/s]"
     ]
    },
    {
     "name": "stdout",
     "output_type": "stream",
     "text": [
      "Loading video...\n",
      "Duration of video [s]:  23.97 , recorded @  100.0 fps!\n",
      "Overall # of frames:  2397 with (cropped) frame dimensions: \n",
      "Kmeans-quantization based extracting of frames from 0.0  seconds to 23.97  seconds.\n",
      "Extracting and downsampling... 1858  frames from the video.\n"
     ]
    },
    {
     "name": "stderr",
     "output_type": "stream",
     "text": [
      "1858it [10:22,  2.99it/s]\n"
     ]
    },
    {
     "name": "stdout",
     "output_type": "stream",
     "text": [
      "Kmeans clustering ... (this might take a while)\n",
      "Let's select frames indices: [1539, 75, 1143, 487, 2246]\n",
      "Creating the symbolic link of the video\n",
      "AUTOMATIC ADDING OF VIDEO TO CONFIG FILE FAILED! You need to do this manually for including it in the config.yaml file!\n",
      "Videopath: D:/3DBHVR/FacialExpression_20210414/DLC-Guillermo-2021-04-14/new-videos/subject3.3_cam-F.avi Coordinates for cropping: None\n",
      "The outlier frames are extracted. They are stored in the subdirectory labeled-data\\subject3.3_cam-F.\n",
      "Once you extracted frames for all videos, use 'refine_labels' to manually correct the labels.\n",
      "Method  jump  found  1725  putative outlier frames.\n",
      "Do you want to proceed with extracting  5  of those?\n",
      "If this list is very large, perhaps consider changing the parameters (start, stop, p_bound, comparisonbodyparts) or use a different method.\n",
      "yes/noy\n"
     ]
    },
    {
     "name": "stderr",
     "output_type": "stream",
     "text": [
      "2it [00:00, 15.94it/s]"
     ]
    },
    {
     "name": "stdout",
     "output_type": "stream",
     "text": [
      "Loading video...\n",
      "Duration of video [s]:  18.34 , recorded @  100.0 fps!\n",
      "Overall # of frames:  1834 with (cropped) frame dimensions: \n",
      "Kmeans-quantization based extracting of frames from 0.0  seconds to 18.34  seconds.\n",
      "Extracting and downsampling... 1725  frames from the video.\n"
     ]
    },
    {
     "name": "stderr",
     "output_type": "stream",
     "text": [
      "1725it [07:48,  3.68it/s]\n"
     ]
    },
    {
     "name": "stdout",
     "output_type": "stream",
     "text": [
      "Kmeans clustering ... (this might take a while)\n",
      "Let's select frames indices: [586, 1768, 1339, 933, 1473]\n",
      "Creating the symbolic link of the video\n",
      "AUTOMATIC ADDING OF VIDEO TO CONFIG FILE FAILED! You need to do this manually for including it in the config.yaml file!\n",
      "Videopath: D:/3DBHVR/FacialExpression_20210414/DLC-Guillermo-2021-04-14/new-videos/subject3_cam-A.avi Coordinates for cropping: None\n",
      "The outlier frames are extracted. They are stored in the subdirectory labeled-data\\subject3_cam-A.\n",
      "Once you extracted frames for all videos, use 'refine_labels' to manually correct the labels.\n",
      "Method  jump  found  1506  putative outlier frames.\n",
      "Do you want to proceed with extracting  5  of those?\n",
      "If this list is very large, perhaps consider changing the parameters (start, stop, p_bound, comparisonbodyparts) or use a different method.\n",
      "yes/noy\n"
     ]
    },
    {
     "name": "stderr",
     "output_type": "stream",
     "text": [
      "2it [00:00, 13.89it/s]"
     ]
    },
    {
     "name": "stdout",
     "output_type": "stream",
     "text": [
      "Loading video...\n",
      "Duration of video [s]:  18.34 , recorded @  100.0 fps!\n",
      "Overall # of frames:  1834 with (cropped) frame dimensions: \n",
      "Kmeans-quantization based extracting of frames from 0.0  seconds to 18.34  seconds.\n",
      "Extracting and downsampling... 1506  frames from the video.\n"
     ]
    },
    {
     "name": "stderr",
     "output_type": "stream",
     "text": [
      "1506it [08:28,  2.96it/s]\n"
     ]
    },
    {
     "name": "stdout",
     "output_type": "stream",
     "text": [
      "Kmeans clustering ... (this might take a while)\n",
      "Let's select frames indices: [261, 971, 640, 1761, 103]\n",
      "Creating the symbolic link of the video\n",
      "AUTOMATIC ADDING OF VIDEO TO CONFIG FILE FAILED! You need to do this manually for including it in the config.yaml file!\n",
      "Videopath: D:/3DBHVR/FacialExpression_20210414/DLC-Guillermo-2021-04-14/new-videos/subject3_cam-B.avi Coordinates for cropping: None\n",
      "The outlier frames are extracted. They are stored in the subdirectory labeled-data\\subject3_cam-B.\n",
      "Once you extracted frames for all videos, use 'refine_labels' to manually correct the labels.\n",
      "Method  jump  found  1564  putative outlier frames.\n",
      "Do you want to proceed with extracting  5  of those?\n",
      "If this list is very large, perhaps consider changing the parameters (start, stop, p_bound, comparisonbodyparts) or use a different method.\n",
      "yes/noy\n"
     ]
    },
    {
     "name": "stderr",
     "output_type": "stream",
     "text": [
      "2it [00:00, 16.26it/s]"
     ]
    },
    {
     "name": "stdout",
     "output_type": "stream",
     "text": [
      "Loading video...\n",
      "Duration of video [s]:  18.35 , recorded @  100.0 fps!\n",
      "Overall # of frames:  1835 with (cropped) frame dimensions: \n",
      "Kmeans-quantization based extracting of frames from 0.0  seconds to 18.35  seconds.\n",
      "Extracting and downsampling... 1564  frames from the video.\n"
     ]
    },
    {
     "name": "stderr",
     "output_type": "stream",
     "text": [
      "1564it [06:36,  3.95it/s]\n"
     ]
    },
    {
     "name": "stdout",
     "output_type": "stream",
     "text": [
      "Kmeans clustering ... (this might take a while)\n",
      "Let's select frames indices: [446, 831, 982, 1089, 465]\n",
      "Creating the symbolic link of the video\n",
      "AUTOMATIC ADDING OF VIDEO TO CONFIG FILE FAILED! You need to do this manually for including it in the config.yaml file!\n",
      "Videopath: D:/3DBHVR/FacialExpression_20210414/DLC-Guillermo-2021-04-14/new-videos/subject3_cam-C.avi Coordinates for cropping: None\n",
      "The outlier frames are extracted. They are stored in the subdirectory labeled-data\\subject3_cam-C.\n",
      "Once you extracted frames for all videos, use 'refine_labels' to manually correct the labels.\n",
      "Method  jump  found  1542  putative outlier frames.\n",
      "Do you want to proceed with extracting  5  of those?\n",
      "If this list is very large, perhaps consider changing the parameters (start, stop, p_bound, comparisonbodyparts) or use a different method.\n",
      "yes/noy\n"
     ]
    },
    {
     "name": "stderr",
     "output_type": "stream",
     "text": [
      "2it [00:00, 12.66it/s]"
     ]
    },
    {
     "name": "stdout",
     "output_type": "stream",
     "text": [
      "Loading video...\n",
      "Duration of video [s]:  18.35 , recorded @  100.0 fps!\n",
      "Overall # of frames:  1835 with (cropped) frame dimensions: \n",
      "Kmeans-quantization based extracting of frames from 0.0  seconds to 18.35  seconds.\n",
      "Extracting and downsampling... 1542  frames from the video.\n"
     ]
    },
    {
     "name": "stderr",
     "output_type": "stream",
     "text": [
      "1542it [08:36,  2.98it/s]\n"
     ]
    },
    {
     "name": "stdout",
     "output_type": "stream",
     "text": [
      "Kmeans clustering ... (this might take a while)\n",
      "Let's select frames indices: [1233, 233, 726, 917, 872]\n",
      "Creating the symbolic link of the video\n",
      "AUTOMATIC ADDING OF VIDEO TO CONFIG FILE FAILED! You need to do this manually for including it in the config.yaml file!\n",
      "Videopath: D:/3DBHVR/FacialExpression_20210414/DLC-Guillermo-2021-04-14/new-videos/subject3_cam-D.avi Coordinates for cropping: None\n",
      "The outlier frames are extracted. They are stored in the subdirectory labeled-data\\subject3_cam-D.\n",
      "Once you extracted frames for all videos, use 'refine_labels' to manually correct the labels.\n",
      "Method  jump  found  1083  putative outlier frames.\n",
      "Do you want to proceed with extracting  5  of those?\n",
      "If this list is very large, perhaps consider changing the parameters (start, stop, p_bound, comparisonbodyparts) or use a different method.\n",
      "yes/noy\n"
     ]
    },
    {
     "name": "stderr",
     "output_type": "stream",
     "text": [
      "2it [00:00, 12.27it/s]"
     ]
    },
    {
     "name": "stdout",
     "output_type": "stream",
     "text": [
      "Loading video...\n",
      "Duration of video [s]:  18.35 , recorded @  100.0 fps!\n",
      "Overall # of frames:  1835 with (cropped) frame dimensions: \n",
      "Kmeans-quantization based extracting of frames from 0.0  seconds to 18.35  seconds.\n",
      "Extracting and downsampling... 1083  frames from the video.\n"
     ]
    },
    {
     "name": "stderr",
     "output_type": "stream",
     "text": [
      "1083it [04:30,  4.01it/s]\n"
     ]
    },
    {
     "name": "stdout",
     "output_type": "stream",
     "text": [
      "Kmeans clustering ... (this might take a while)\n",
      "Let's select frames indices: [140, 1368, 1760, 994, 1484]\n",
      "Creating the symbolic link of the video\n",
      "AUTOMATIC ADDING OF VIDEO TO CONFIG FILE FAILED! You need to do this manually for including it in the config.yaml file!\n",
      "Videopath: D:/3DBHVR/FacialExpression_20210414/DLC-Guillermo-2021-04-14/new-videos/subject3_cam-E.avi Coordinates for cropping: None\n",
      "The outlier frames are extracted. They are stored in the subdirectory labeled-data\\subject3_cam-E.\n",
      "Once you extracted frames for all videos, use 'refine_labels' to manually correct the labels.\n",
      "Method  jump  found  1414  putative outlier frames.\n",
      "Do you want to proceed with extracting  5  of those?\n",
      "If this list is very large, perhaps consider changing the parameters (start, stop, p_bound, comparisonbodyparts) or use a different method.\n",
      "yes/noy\n"
     ]
    },
    {
     "name": "stderr",
     "output_type": "stream",
     "text": [
      "\r",
      "0it [00:00, ?it/s]"
     ]
    },
    {
     "name": "stdout",
     "output_type": "stream",
     "text": [
      "Loading video...\n",
      "Duration of video [s]:  18.35 , recorded @  100.0 fps!\n",
      "Overall # of frames:  1835 with (cropped) frame dimensions: \n",
      "Kmeans-quantization based extracting of frames from 0.0  seconds to 18.35  seconds.\n",
      "Extracting and downsampling... 1414  frames from the video.\n"
     ]
    },
    {
     "name": "stderr",
     "output_type": "stream",
     "text": [
      "1414it [08:12,  2.87it/s]\n"
     ]
    },
    {
     "name": "stdout",
     "output_type": "stream",
     "text": [
      "Kmeans clustering ... (this might take a while)\n",
      "Let's select frames indices: [83, 1047, 912, 1385, 863]\n",
      "Creating the symbolic link of the video\n",
      "AUTOMATIC ADDING OF VIDEO TO CONFIG FILE FAILED! You need to do this manually for including it in the config.yaml file!\n",
      "Videopath: D:/3DBHVR/FacialExpression_20210414/DLC-Guillermo-2021-04-14/new-videos/subject3_cam-F.avi Coordinates for cropping: None\n",
      "The outlier frames are extracted. They are stored in the subdirectory labeled-data\\subject3_cam-F.\n",
      "Once you extracted frames for all videos, use 'refine_labels' to manually correct the labels.\n",
      "Method  jump  found  1084  putative outlier frames.\n",
      "Do you want to proceed with extracting  5  of those?\n",
      "If this list is very large, perhaps consider changing the parameters (start, stop, p_bound, comparisonbodyparts) or use a different method.\n",
      "yes/noy\n"
     ]
    },
    {
     "name": "stderr",
     "output_type": "stream",
     "text": [
      "2it [00:00, 16.13it/s]"
     ]
    },
    {
     "name": "stdout",
     "output_type": "stream",
     "text": [
      "Loading video...\n",
      "Duration of video [s]:  16.55 , recorded @  100.0 fps!\n",
      "Overall # of frames:  1655 with (cropped) frame dimensions: \n",
      "Kmeans-quantization based extracting of frames from 0.0  seconds to 16.55  seconds.\n",
      "Extracting and downsampling... 1084  frames from the video.\n"
     ]
    },
    {
     "name": "stderr",
     "output_type": "stream",
     "text": [
      "1084it [05:25,  3.33it/s]\n"
     ]
    },
    {
     "name": "stdout",
     "output_type": "stream",
     "text": [
      "Kmeans clustering ... (this might take a while)\n",
      "Let's select frames indices: [282, 1233, 667, 257, 130]\n",
      "Creating the symbolic link of the video\n",
      "AUTOMATIC ADDING OF VIDEO TO CONFIG FILE FAILED! You need to do this manually for including it in the config.yaml file!\n",
      "Videopath: D:/3DBHVR/FacialExpression_20210414/DLC-Guillermo-2021-04-14/new-videos/subject4.2_cam-A.avi Coordinates for cropping: None\n",
      "The outlier frames are extracted. They are stored in the subdirectory labeled-data\\subject4.2_cam-A.\n",
      "Once you extracted frames for all videos, use 'refine_labels' to manually correct the labels.\n",
      "Method  jump  found  153  putative outlier frames.\n",
      "Do you want to proceed with extracting  5  of those?\n",
      "If this list is very large, perhaps consider changing the parameters (start, stop, p_bound, comparisonbodyparts) or use a different method.\n",
      "yes/noy\n",
      "Loading video...\n"
     ]
    },
    {
     "name": "stderr",
     "output_type": "stream",
     "text": [
      "\r",
      "0it [00:00, ?it/s]"
     ]
    },
    {
     "name": "stdout",
     "output_type": "stream",
     "text": [
      "Duration of video [s]:  16.49 , recorded @  100.0 fps!\n",
      "Overall # of frames:  1649 with (cropped) frame dimensions: \n",
      "Kmeans-quantization based extracting of frames from 0.0  seconds to 16.49  seconds.\n",
      "Extracting and downsampling... 153  frames from the video.\n"
     ]
    },
    {
     "name": "stderr",
     "output_type": "stream",
     "text": [
      "153it [01:13,  2.07it/s]\n"
     ]
    },
    {
     "name": "stdout",
     "output_type": "stream",
     "text": [
      "Kmeans clustering ... (this might take a while)\n",
      "Let's select frames indices: [217, 1627, 1648, 1632, 291]\n"
     ]
    },
    {
     "name": "stderr",
     "output_type": "stream",
     "text": [
      "C:\\Users\\hidalggc\\Anaconda3\\envs\\DLC-GPU\\lib\\site-packages\\deeplabcut\\refine_training_dataset\\outlier_frames.py:681: UserWarning: D:/3DBHVR/FacialExpression_20210414/DLC-Guillermo-2021-04-14\\labeled-data\\subject4.2_cam-B\\img1648.png is a low contrast image\n",
      "  io.imsave(imagename1, image)\n"
     ]
    },
    {
     "name": "stdout",
     "output_type": "stream",
     "text": [
      "Creating the symbolic link of the video\n",
      "AUTOMATIC ADDING OF VIDEO TO CONFIG FILE FAILED! You need to do this manually for including it in the config.yaml file!\n",
      "Videopath: D:/3DBHVR/FacialExpression_20210414/DLC-Guillermo-2021-04-14/new-videos/subject4.2_cam-B.avi Coordinates for cropping: None\n",
      "The outlier frames are extracted. They are stored in the subdirectory labeled-data\\subject4.2_cam-B.\n",
      "Once you extracted frames for all videos, use 'refine_labels' to manually correct the labels.\n",
      "Method  jump  found  1229  putative outlier frames.\n",
      "Do you want to proceed with extracting  5  of those?\n",
      "If this list is very large, perhaps consider changing the parameters (start, stop, p_bound, comparisonbodyparts) or use a different method.\n",
      "yes/noy\n",
      "Loading video...\n"
     ]
    },
    {
     "name": "stderr",
     "output_type": "stream",
     "text": [
      "\r",
      "0it [00:00, ?it/s]"
     ]
    },
    {
     "name": "stdout",
     "output_type": "stream",
     "text": [
      "Duration of video [s]:  16.57 , recorded @  100.0 fps!\n",
      "Overall # of frames:  1657 with (cropped) frame dimensions: \n",
      "Kmeans-quantization based extracting of frames from 0.0  seconds to 16.57  seconds.\n",
      "Extracting and downsampling... 1229  frames from the video.\n"
     ]
    },
    {
     "name": "stderr",
     "output_type": "stream",
     "text": [
      "1229it [05:40,  3.60it/s]\n"
     ]
    },
    {
     "name": "stdout",
     "output_type": "stream",
     "text": [
      "Kmeans clustering ... (this might take a while)\n",
      "Let's select frames indices: [951, 505, 1652, 1566, 61]\n",
      "Creating the symbolic link of the video\n",
      "AUTOMATIC ADDING OF VIDEO TO CONFIG FILE FAILED! You need to do this manually for including it in the config.yaml file!\n",
      "Videopath: D:/3DBHVR/FacialExpression_20210414/DLC-Guillermo-2021-04-14/new-videos/subject4.2_cam-C.avi Coordinates for cropping: None\n",
      "The outlier frames are extracted. They are stored in the subdirectory labeled-data\\subject4.2_cam-C.\n",
      "Once you extracted frames for all videos, use 'refine_labels' to manually correct the labels.\n",
      "Method  jump  found  419  putative outlier frames.\n",
      "Do you want to proceed with extracting  5  of those?\n",
      "If this list is very large, perhaps consider changing the parameters (start, stop, p_bound, comparisonbodyparts) or use a different method.\n",
      "yes/noy\n"
     ]
    },
    {
     "name": "stderr",
     "output_type": "stream",
     "text": [
      "\r",
      "0it [00:00, ?it/s]"
     ]
    },
    {
     "name": "stdout",
     "output_type": "stream",
     "text": [
      "Loading video...\n",
      "Duration of video [s]:  16.57 , recorded @  100.0 fps!\n",
      "Overall # of frames:  1657 with (cropped) frame dimensions: \n",
      "Kmeans-quantization based extracting of frames from 0.0  seconds to 16.57  seconds.\n",
      "Extracting and downsampling... 419  frames from the video.\n"
     ]
    },
    {
     "name": "stderr",
     "output_type": "stream",
     "text": [
      "419it [02:27,  2.84it/s]\n"
     ]
    },
    {
     "name": "stdout",
     "output_type": "stream",
     "text": [
      "Kmeans clustering ... (this might take a while)\n",
      "Let's select frames indices: [1315, 332, 558, 1623, 725]\n",
      "Creating the symbolic link of the video\n",
      "AUTOMATIC ADDING OF VIDEO TO CONFIG FILE FAILED! You need to do this manually for including it in the config.yaml file!\n",
      "Videopath: D:/3DBHVR/FacialExpression_20210414/DLC-Guillermo-2021-04-14/new-videos/subject4.2_cam-D.avi Coordinates for cropping: None\n",
      "The outlier frames are extracted. They are stored in the subdirectory labeled-data\\subject4.2_cam-D.\n",
      "Once you extracted frames for all videos, use 'refine_labels' to manually correct the labels.\n",
      "Method  jump  found  473  putative outlier frames.\n",
      "Do you want to proceed with extracting  5  of those?\n",
      "If this list is very large, perhaps consider changing the parameters (start, stop, p_bound, comparisonbodyparts) or use a different method.\n",
      "yes/noy\n"
     ]
    },
    {
     "name": "stderr",
     "output_type": "stream",
     "text": [
      "\r",
      "0it [00:00, ?it/s]"
     ]
    },
    {
     "name": "stdout",
     "output_type": "stream",
     "text": [
      "Loading video...\n",
      "Duration of video [s]:  16.51 , recorded @  100.0 fps!\n",
      "Overall # of frames:  1651 with (cropped) frame dimensions: \n",
      "Kmeans-quantization based extracting of frames from 0.0  seconds to 16.51  seconds.\n",
      "Extracting and downsampling... 473  frames from the video.\n"
     ]
    },
    {
     "name": "stderr",
     "output_type": "stream",
     "text": [
      "473it [02:14,  3.52it/s]\n"
     ]
    },
    {
     "name": "stdout",
     "output_type": "stream",
     "text": [
      "Kmeans clustering ... (this might take a while)\n",
      "Let's select frames indices: [1288, 1152, 39, 663, 227]\n",
      "Creating the symbolic link of the video\n",
      "AUTOMATIC ADDING OF VIDEO TO CONFIG FILE FAILED! You need to do this manually for including it in the config.yaml file!\n",
      "Videopath: D:/3DBHVR/FacialExpression_20210414/DLC-Guillermo-2021-04-14/new-videos/subject4.2_cam-E.avi Coordinates for cropping: None\n",
      "The outlier frames are extracted. They are stored in the subdirectory labeled-data\\subject4.2_cam-E.\n",
      "Once you extracted frames for all videos, use 'refine_labels' to manually correct the labels.\n",
      "Method  jump  found  664  putative outlier frames.\n",
      "Do you want to proceed with extracting  5  of those?\n",
      "If this list is very large, perhaps consider changing the parameters (start, stop, p_bound, comparisonbodyparts) or use a different method.\n",
      "yes/noy\n"
     ]
    },
    {
     "name": "stderr",
     "output_type": "stream",
     "text": [
      "\r",
      "0it [00:00, ?it/s]"
     ]
    },
    {
     "name": "stdout",
     "output_type": "stream",
     "text": [
      "Loading video...\n",
      "Duration of video [s]:  16.57 , recorded @  100.0 fps!\n",
      "Overall # of frames:  1657 with (cropped) frame dimensions: \n",
      "Kmeans-quantization based extracting of frames from 0.0  seconds to 16.57  seconds.\n",
      "Extracting and downsampling... 664  frames from the video.\n"
     ]
    },
    {
     "name": "stderr",
     "output_type": "stream",
     "text": [
      "664it [04:09,  2.66it/s]\n"
     ]
    },
    {
     "name": "stdout",
     "output_type": "stream",
     "text": [
      "Kmeans clustering ... (this might take a while)\n",
      "Let's select frames indices: [1135, 570, 221, 1453, 1639]\n",
      "Creating the symbolic link of the video\n",
      "AUTOMATIC ADDING OF VIDEO TO CONFIG FILE FAILED! You need to do this manually for including it in the config.yaml file!\n",
      "Videopath: D:/3DBHVR/FacialExpression_20210414/DLC-Guillermo-2021-04-14/new-videos/subject4.2_cam-F.avi Coordinates for cropping: None\n",
      "The outlier frames are extracted. They are stored in the subdirectory labeled-data\\subject4.2_cam-F.\n",
      "Once you extracted frames for all videos, use 'refine_labels' to manually correct the labels.\n",
      "Method  jump  found  1349  putative outlier frames.\n",
      "Do you want to proceed with extracting  5  of those?\n",
      "If this list is very large, perhaps consider changing the parameters (start, stop, p_bound, comparisonbodyparts) or use a different method.\n",
      "yes/noy\n"
     ]
    },
    {
     "name": "stderr",
     "output_type": "stream",
     "text": [
      "1it [00:00,  6.85it/s]"
     ]
    },
    {
     "name": "stdout",
     "output_type": "stream",
     "text": [
      "Loading video...\n",
      "Duration of video [s]:  16.73 , recorded @  100.0 fps!\n",
      "Overall # of frames:  1673 with (cropped) frame dimensions: \n",
      "Kmeans-quantization based extracting of frames from 0.0  seconds to 16.73  seconds.\n",
      "Extracting and downsampling... 1349  frames from the video.\n"
     ]
    },
    {
     "name": "stderr",
     "output_type": "stream",
     "text": [
      "1349it [06:46,  3.32it/s]\n"
     ]
    },
    {
     "name": "stdout",
     "output_type": "stream",
     "text": [
      "Kmeans clustering ... (this might take a while)\n",
      "Let's select frames indices: [507, 763, 450, 1182, 1614]\n",
      "Creating the symbolic link of the video\n",
      "AUTOMATIC ADDING OF VIDEO TO CONFIG FILE FAILED! You need to do this manually for including it in the config.yaml file!\n",
      "Videopath: D:/3DBHVR/FacialExpression_20210414/DLC-Guillermo-2021-04-14/new-videos/subject4.3_cam-A.avi Coordinates for cropping: None\n",
      "The outlier frames are extracted. They are stored in the subdirectory labeled-data\\subject4.3_cam-A.\n",
      "Once you extracted frames for all videos, use 'refine_labels' to manually correct the labels.\n",
      "Method  jump  found  428  putative outlier frames.\n",
      "Do you want to proceed with extracting  5  of those?\n",
      "If this list is very large, perhaps consider changing the parameters (start, stop, p_bound, comparisonbodyparts) or use a different method.\n",
      "yes/noy\n"
     ]
    },
    {
     "name": "stderr",
     "output_type": "stream",
     "text": [
      "\r",
      "0it [00:00, ?it/s]"
     ]
    },
    {
     "name": "stdout",
     "output_type": "stream",
     "text": [
      "Loading video...\n",
      "Duration of video [s]:  16.66 , recorded @  100.0 fps!\n",
      "Overall # of frames:  1666 with (cropped) frame dimensions: \n",
      "Kmeans-quantization based extracting of frames from 0.0  seconds to 16.66  seconds.\n",
      "Extracting and downsampling... 428  frames from the video.\n"
     ]
    },
    {
     "name": "stderr",
     "output_type": "stream",
     "text": [
      "428it [02:25,  2.94it/s]\n"
     ]
    },
    {
     "name": "stdout",
     "output_type": "stream",
     "text": [
      "Kmeans clustering ... (this might take a while)\n",
      "Let's select frames indices: [1611, 198, 446, 1641, 1142]\n",
      "Creating the symbolic link of the video\n",
      "AUTOMATIC ADDING OF VIDEO TO CONFIG FILE FAILED! You need to do this manually for including it in the config.yaml file!\n",
      "Videopath: D:/3DBHVR/FacialExpression_20210414/DLC-Guillermo-2021-04-14/new-videos/subject4.3_cam-B.avi Coordinates for cropping: None\n",
      "The outlier frames are extracted. They are stored in the subdirectory labeled-data\\subject4.3_cam-B.\n",
      "Once you extracted frames for all videos, use 'refine_labels' to manually correct the labels.\n",
      "Method  jump  found  1180  putative outlier frames.\n",
      "Do you want to proceed with extracting  5  of those?\n",
      "If this list is very large, perhaps consider changing the parameters (start, stop, p_bound, comparisonbodyparts) or use a different method.\n",
      "yes/noy\n"
     ]
    },
    {
     "name": "stderr",
     "output_type": "stream",
     "text": [
      "2it [00:00, 16.81it/s]"
     ]
    },
    {
     "name": "stdout",
     "output_type": "stream",
     "text": [
      "Loading video...\n",
      "Duration of video [s]:  16.73 , recorded @  100.0 fps!\n",
      "Overall # of frames:  1673 with (cropped) frame dimensions: \n",
      "Kmeans-quantization based extracting of frames from 0.0  seconds to 16.73  seconds.\n",
      "Extracting and downsampling... 1180  frames from the video.\n"
     ]
    },
    {
     "name": "stderr",
     "output_type": "stream",
     "text": [
      "1180it [05:19,  3.69it/s]\n"
     ]
    },
    {
     "name": "stdout",
     "output_type": "stream",
     "text": [
      "Kmeans clustering ... (this might take a while)\n",
      "Let's select frames indices: [1305, 205, 1655, 1536, 776]\n",
      "Creating the symbolic link of the video\n",
      "AUTOMATIC ADDING OF VIDEO TO CONFIG FILE FAILED! You need to do this manually for including it in the config.yaml file!\n",
      "Videopath: D:/3DBHVR/FacialExpression_20210414/DLC-Guillermo-2021-04-14/new-videos/subject4.3_cam-C.avi Coordinates for cropping: None\n",
      "The outlier frames are extracted. They are stored in the subdirectory labeled-data\\subject4.3_cam-C.\n",
      "Once you extracted frames for all videos, use 'refine_labels' to manually correct the labels.\n",
      "Method  jump  found  658  putative outlier frames.\n",
      "Do you want to proceed with extracting  5  of those?\n",
      "If this list is very large, perhaps consider changing the parameters (start, stop, p_bound, comparisonbodyparts) or use a different method.\n",
      "yes/noy\n"
     ]
    },
    {
     "name": "stderr",
     "output_type": "stream",
     "text": [
      "1it [00:00,  6.99it/s]"
     ]
    },
    {
     "name": "stdout",
     "output_type": "stream",
     "text": [
      "Loading video...\n",
      "Duration of video [s]:  16.73 , recorded @  100.0 fps!\n",
      "Overall # of frames:  1673 with (cropped) frame dimensions: \n",
      "Kmeans-quantization based extracting of frames from 0.0  seconds to 16.73  seconds.\n",
      "Extracting and downsampling... 658  frames from the video.\n"
     ]
    },
    {
     "name": "stderr",
     "output_type": "stream",
     "text": [
      "658it [03:32,  3.10it/s]\n"
     ]
    },
    {
     "name": "stdout",
     "output_type": "stream",
     "text": [
      "Kmeans clustering ... (this might take a while)\n",
      "Let's select frames indices: [757, 1478, 420, 1634, 1585]\n",
      "Creating the symbolic link of the video\n",
      "AUTOMATIC ADDING OF VIDEO TO CONFIG FILE FAILED! You need to do this manually for including it in the config.yaml file!\n",
      "Videopath: D:/3DBHVR/FacialExpression_20210414/DLC-Guillermo-2021-04-14/new-videos/subject4.3_cam-D.avi Coordinates for cropping: None\n",
      "The outlier frames are extracted. They are stored in the subdirectory labeled-data\\subject4.3_cam-D.\n",
      "Once you extracted frames for all videos, use 'refine_labels' to manually correct the labels.\n",
      "Method  jump  found  457  putative outlier frames.\n",
      "Do you want to proceed with extracting  5  of those?\n",
      "If this list is very large, perhaps consider changing the parameters (start, stop, p_bound, comparisonbodyparts) or use a different method.\n",
      "yes/noy\n"
     ]
    },
    {
     "name": "stderr",
     "output_type": "stream",
     "text": [
      "\r",
      "0it [00:00, ?it/s]"
     ]
    },
    {
     "name": "stdout",
     "output_type": "stream",
     "text": [
      "Loading video...\n",
      "Duration of video [s]:  16.66 , recorded @  100.0 fps!\n",
      "Overall # of frames:  1666 with (cropped) frame dimensions: \n",
      "Kmeans-quantization based extracting of frames from 0.0  seconds to 16.66  seconds.\n",
      "Extracting and downsampling... 457  frames from the video.\n"
     ]
    },
    {
     "name": "stderr",
     "output_type": "stream",
     "text": [
      "457it [01:56,  3.91it/s]\n"
     ]
    },
    {
     "name": "stdout",
     "output_type": "stream",
     "text": [
      "Kmeans clustering ... (this might take a while)\n",
      "Let's select frames indices: [372, 1072, 1568, 1662, 467]\n",
      "Creating the symbolic link of the video\n",
      "AUTOMATIC ADDING OF VIDEO TO CONFIG FILE FAILED! You need to do this manually for including it in the config.yaml file!\n",
      "Videopath: D:/3DBHVR/FacialExpression_20210414/DLC-Guillermo-2021-04-14/new-videos/subject4.3_cam-E.avi Coordinates for cropping: None\n",
      "The outlier frames are extracted. They are stored in the subdirectory labeled-data\\subject4.3_cam-E.\n",
      "Once you extracted frames for all videos, use 'refine_labels' to manually correct the labels.\n",
      "Method  jump  found  589  putative outlier frames.\n",
      "Do you want to proceed with extracting  5  of those?\n",
      "If this list is very large, perhaps consider changing the parameters (start, stop, p_bound, comparisonbodyparts) or use a different method.\n",
      "yes/noy\n"
     ]
    },
    {
     "name": "stderr",
     "output_type": "stream",
     "text": [
      "1it [00:00,  9.62it/s]"
     ]
    },
    {
     "name": "stdout",
     "output_type": "stream",
     "text": [
      "Loading video...\n",
      "Duration of video [s]:  16.73 , recorded @  100.0 fps!\n",
      "Overall # of frames:  1673 with (cropped) frame dimensions: \n",
      "Kmeans-quantization based extracting of frames from 0.0  seconds to 16.73  seconds.\n",
      "Extracting and downsampling... 589  frames from the video.\n"
     ]
    },
    {
     "name": "stderr",
     "output_type": "stream",
     "text": [
      "589it [03:30,  2.79it/s]\n"
     ]
    },
    {
     "name": "stdout",
     "output_type": "stream",
     "text": [
      "Kmeans clustering ... (this might take a while)\n",
      "Let's select frames indices: [312, 644, 1474, 1269, 1620]\n",
      "Creating the symbolic link of the video\n",
      "AUTOMATIC ADDING OF VIDEO TO CONFIG FILE FAILED! You need to do this manually for including it in the config.yaml file!\n",
      "Videopath: D:/3DBHVR/FacialExpression_20210414/DLC-Guillermo-2021-04-14/new-videos/subject4.3_F.avi Coordinates for cropping: None\n",
      "The outlier frames are extracted. They are stored in the subdirectory labeled-data\\subject4.3_F.\n",
      "Once you extracted frames for all videos, use 'refine_labels' to manually correct the labels.\n",
      "Method  jump  found  1319  putative outlier frames.\n",
      "Do you want to proceed with extracting  5  of those?\n",
      "If this list is very large, perhaps consider changing the parameters (start, stop, p_bound, comparisonbodyparts) or use a different method.\n",
      "yes/noy\n"
     ]
    },
    {
     "name": "stderr",
     "output_type": "stream",
     "text": [
      "\r",
      "0it [00:00, ?it/s]"
     ]
    },
    {
     "name": "stdout",
     "output_type": "stream",
     "text": [
      "Loading video...\n",
      "Duration of video [s]:  18.45 , recorded @  100.0 fps!\n",
      "Overall # of frames:  1845 with (cropped) frame dimensions: \n",
      "Kmeans-quantization based extracting of frames from 0.0  seconds to 18.45  seconds.\n",
      "Extracting and downsampling... 1319  frames from the video.\n"
     ]
    },
    {
     "name": "stderr",
     "output_type": "stream",
     "text": [
      "1319it [06:22,  3.44it/s]\n"
     ]
    },
    {
     "name": "stdout",
     "output_type": "stream",
     "text": [
      "Kmeans clustering ... (this might take a while)\n",
      "Let's select frames indices: [908, 1824, 591, 1114, 1785]\n",
      "Creating the symbolic link of the video\n",
      "AUTOMATIC ADDING OF VIDEO TO CONFIG FILE FAILED! You need to do this manually for including it in the config.yaml file!\n",
      "Videopath: D:/3DBHVR/FacialExpression_20210414/DLC-Guillermo-2021-04-14/new-videos/subject4_cam-A.avi Coordinates for cropping: None\n",
      "The outlier frames are extracted. They are stored in the subdirectory labeled-data\\subject4_cam-A.\n",
      "Once you extracted frames for all videos, use 'refine_labels' to manually correct the labels.\n",
      "Method  jump  found  113  putative outlier frames.\n",
      "Do you want to proceed with extracting  5  of those?\n",
      "If this list is very large, perhaps consider changing the parameters (start, stop, p_bound, comparisonbodyparts) or use a different method.\n",
      "yes/noy\n"
     ]
    },
    {
     "name": "stderr",
     "output_type": "stream",
     "text": [
      "\r",
      "0it [00:00, ?it/s]"
     ]
    },
    {
     "name": "stdout",
     "output_type": "stream",
     "text": [
      "Loading video...\n",
      "Duration of video [s]:  18.46 , recorded @  100.0 fps!\n",
      "Overall # of frames:  1846 with (cropped) frame dimensions: \n",
      "Kmeans-quantization based extracting of frames from 0.0  seconds to 18.46  seconds.\n",
      "Extracting and downsampling... 113  frames from the video.\n"
     ]
    },
    {
     "name": "stderr",
     "output_type": "stream",
     "text": [
      "113it [00:37,  3.01it/s]\n"
     ]
    },
    {
     "name": "stdout",
     "output_type": "stream",
     "text": [
      "Kmeans clustering ... (this might take a while)\n",
      "Let's select frames indices: [1101, 1787, 1799, 1845, 1820]\n"
     ]
    },
    {
     "name": "stderr",
     "output_type": "stream",
     "text": [
      "C:\\Users\\hidalggc\\Anaconda3\\envs\\DLC-GPU\\lib\\site-packages\\deeplabcut\\refine_training_dataset\\outlier_frames.py:681: UserWarning: D:/3DBHVR/FacialExpression_20210414/DLC-Guillermo-2021-04-14\\labeled-data\\subject4_cam-B\\img1845.png is a low contrast image\n",
      "  io.imsave(imagename1, image)\n"
     ]
    },
    {
     "name": "stdout",
     "output_type": "stream",
     "text": [
      "Creating the symbolic link of the video\n",
      "AUTOMATIC ADDING OF VIDEO TO CONFIG FILE FAILED! You need to do this manually for including it in the config.yaml file!\n",
      "Videopath: D:/3DBHVR/FacialExpression_20210414/DLC-Guillermo-2021-04-14/new-videos/subject4_cam-B.avi Coordinates for cropping: None\n",
      "The outlier frames are extracted. They are stored in the subdirectory labeled-data\\subject4_cam-B.\n",
      "Once you extracted frames for all videos, use 'refine_labels' to manually correct the labels.\n",
      "Method  jump  found  1369  putative outlier frames.\n",
      "Do you want to proceed with extracting  5  of those?\n",
      "If this list is very large, perhaps consider changing the parameters (start, stop, p_bound, comparisonbodyparts) or use a different method.\n",
      "yes/noy\n"
     ]
    },
    {
     "name": "stderr",
     "output_type": "stream",
     "text": [
      "2it [00:00, 12.99it/s]"
     ]
    },
    {
     "name": "stdout",
     "output_type": "stream",
     "text": [
      "Loading video...\n",
      "Duration of video [s]:  18.47 , recorded @  100.0 fps!\n",
      "Overall # of frames:  1847 with (cropped) frame dimensions: \n",
      "Kmeans-quantization based extracting of frames from 0.0  seconds to 18.47  seconds.\n",
      "Extracting and downsampling... 1369  frames from the video.\n"
     ]
    },
    {
     "name": "stderr",
     "output_type": "stream",
     "text": [
      "1369it [05:55,  3.85it/s]\n"
     ]
    },
    {
     "name": "stdout",
     "output_type": "stream",
     "text": [
      "Kmeans clustering ... (this might take a while)\n",
      "Let's select frames indices: [1509, 1837, 1744, 138, 1104]\n",
      "Creating the symbolic link of the video\n",
      "AUTOMATIC ADDING OF VIDEO TO CONFIG FILE FAILED! You need to do this manually for including it in the config.yaml file!\n",
      "Videopath: D:/3DBHVR/FacialExpression_20210414/DLC-Guillermo-2021-04-14/new-videos/subject4_cam-C.avi Coordinates for cropping: None\n",
      "The outlier frames are extracted. They are stored in the subdirectory labeled-data\\subject4_cam-C.\n",
      "Once you extracted frames for all videos, use 'refine_labels' to manually correct the labels.\n",
      "Method  jump  found  358  putative outlier frames.\n",
      "Do you want to proceed with extracting  5  of those?\n",
      "If this list is very large, perhaps consider changing the parameters (start, stop, p_bound, comparisonbodyparts) or use a different method.\n",
      "yes/noy\n"
     ]
    },
    {
     "name": "stderr",
     "output_type": "stream",
     "text": [
      "\r",
      "0it [00:00, ?it/s]"
     ]
    },
    {
     "name": "stdout",
     "output_type": "stream",
     "text": [
      "Loading video...\n",
      "Duration of video [s]:  18.47 , recorded @  100.0 fps!\n",
      "Overall # of frames:  1847 with (cropped) frame dimensions: \n",
      "Kmeans-quantization based extracting of frames from 0.0  seconds to 18.47  seconds.\n",
      "Extracting and downsampling... 358  frames from the video.\n"
     ]
    },
    {
     "name": "stderr",
     "output_type": "stream",
     "text": [
      "358it [01:56,  3.08it/s]\n"
     ]
    },
    {
     "name": "stdout",
     "output_type": "stream",
     "text": [
      "Kmeans clustering ... (this might take a while)\n",
      "Let's select frames indices: [775, 1801, 1348, 1151, 1792]\n",
      "Creating the symbolic link of the video\n",
      "AUTOMATIC ADDING OF VIDEO TO CONFIG FILE FAILED! You need to do this manually for including it in the config.yaml file!\n",
      "Videopath: D:/3DBHVR/FacialExpression_20210414/DLC-Guillermo-2021-04-14/new-videos/subject4_cam-D.avi Coordinates for cropping: None\n",
      "The outlier frames are extracted. They are stored in the subdirectory labeled-data\\subject4_cam-D.\n",
      "Once you extracted frames for all videos, use 'refine_labels' to manually correct the labels.\n",
      "Method  jump  found  494  putative outlier frames.\n",
      "Do you want to proceed with extracting  5  of those?\n",
      "If this list is very large, perhaps consider changing the parameters (start, stop, p_bound, comparisonbodyparts) or use a different method.\n",
      "yes/noy\n"
     ]
    },
    {
     "name": "stderr",
     "output_type": "stream",
     "text": [
      "1it [00:00,  8.40it/s]"
     ]
    },
    {
     "name": "stdout",
     "output_type": "stream",
     "text": [
      "Loading video...\n",
      "Duration of video [s]:  18.46 , recorded @  100.0 fps!\n",
      "Overall # of frames:  1846 with (cropped) frame dimensions: \n",
      "Kmeans-quantization based extracting of frames from 0.0  seconds to 18.46  seconds.\n",
      "Extracting and downsampling... 494  frames from the video.\n"
     ]
    },
    {
     "name": "stderr",
     "output_type": "stream",
     "text": [
      "494it [02:04,  3.98it/s]\n"
     ]
    },
    {
     "name": "stdout",
     "output_type": "stream",
     "text": [
      "Kmeans clustering ... (this might take a while)\n",
      "Let's select frames indices: [757, 1822, 180, 1233, 1763]\n",
      "Creating the symbolic link of the video\n",
      "AUTOMATIC ADDING OF VIDEO TO CONFIG FILE FAILED! You need to do this manually for including it in the config.yaml file!\n",
      "Videopath: D:/3DBHVR/FacialExpression_20210414/DLC-Guillermo-2021-04-14/new-videos/subject4_cam-E.avi Coordinates for cropping: None\n",
      "The outlier frames are extracted. They are stored in the subdirectory labeled-data\\subject4_cam-E.\n",
      "Once you extracted frames for all videos, use 'refine_labels' to manually correct the labels.\n",
      "Method  jump  found  382  putative outlier frames.\n",
      "Do you want to proceed with extracting  5  of those?\n",
      "If this list is very large, perhaps consider changing the parameters (start, stop, p_bound, comparisonbodyparts) or use a different method.\n",
      "yes/noy\n"
     ]
    },
    {
     "name": "stderr",
     "output_type": "stream",
     "text": [
      "\r",
      "0it [00:00, ?it/s]"
     ]
    },
    {
     "name": "stdout",
     "output_type": "stream",
     "text": [
      "Loading video...\n",
      "Duration of video [s]:  18.47 , recorded @  100.0 fps!\n",
      "Overall # of frames:  1847 with (cropped) frame dimensions: \n",
      "Kmeans-quantization based extracting of frames from 0.0  seconds to 18.47  seconds.\n",
      "Extracting and downsampling... 382  frames from the video.\n"
     ]
    },
    {
     "name": "stderr",
     "output_type": "stream",
     "text": [
      "382it [02:02,  3.13it/s]\n"
     ]
    },
    {
     "name": "stdout",
     "output_type": "stream",
     "text": [
      "Kmeans clustering ... (this might take a while)\n",
      "Let's select frames indices: [124, 1816, 1654, 1836, 1771]\n",
      "Creating the symbolic link of the video\n",
      "AUTOMATIC ADDING OF VIDEO TO CONFIG FILE FAILED! You need to do this manually for including it in the config.yaml file!\n",
      "Videopath: D:/3DBHVR/FacialExpression_20210414/DLC-Guillermo-2021-04-14/new-videos/subject4_cam-F.avi Coordinates for cropping: None\n",
      "The outlier frames are extracted. They are stored in the subdirectory labeled-data\\subject4_cam-F.\n",
      "Once you extracted frames for all videos, use 'refine_labels' to manually correct the labels.\n",
      "Method  jump  found  642  putative outlier frames.\n",
      "Do you want to proceed with extracting  5  of those?\n",
      "If this list is very large, perhaps consider changing the parameters (start, stop, p_bound, comparisonbodyparts) or use a different method.\n",
      "yes/noy\n"
     ]
    },
    {
     "name": "stderr",
     "output_type": "stream",
     "text": [
      "2it [00:00, 16.53it/s]"
     ]
    },
    {
     "name": "stdout",
     "output_type": "stream",
     "text": [
      "Loading video...\n",
      "Duration of video [s]:  8.91 , recorded @  100.0 fps!\n",
      "Overall # of frames:  891 with (cropped) frame dimensions: \n",
      "Kmeans-quantization based extracting of frames from 0.0  seconds to 8.91  seconds.\n",
      "Extracting and downsampling... 642  frames from the video.\n"
     ]
    },
    {
     "name": "stderr",
     "output_type": "stream",
     "text": [
      "642it [02:50,  3.77it/s]\n"
     ]
    },
    {
     "name": "stdout",
     "output_type": "stream",
     "text": [
      "Kmeans clustering ... (this might take a while)\n",
      "Let's select frames indices: [108, 644, 558, 169, 56]\n",
      "Creating the symbolic link of the video\n",
      "AUTOMATIC ADDING OF VIDEO TO CONFIG FILE FAILED! You need to do this manually for including it in the config.yaml file!\n",
      "Videopath: D:/3DBHVR/FacialExpression_20210414/DLC-Guillermo-2021-04-14/new-videos/subject5.2_cam-A.avi Coordinates for cropping: None\n",
      "The outlier frames are extracted. They are stored in the subdirectory labeled-data\\subject5.2_cam-A.\n",
      "Once you extracted frames for all videos, use 'refine_labels' to manually correct the labels.\n",
      "Method  jump  found  379  putative outlier frames.\n",
      "Do you want to proceed with extracting  5  of those?\n",
      "If this list is very large, perhaps consider changing the parameters (start, stop, p_bound, comparisonbodyparts) or use a different method.\n",
      "yes/noy\n"
     ]
    },
    {
     "name": "stderr",
     "output_type": "stream",
     "text": [
      "2it [00:00, 14.81it/s]"
     ]
    },
    {
     "name": "stdout",
     "output_type": "stream",
     "text": [
      "Loading video...\n",
      "Duration of video [s]:  8.91 , recorded @  100.0 fps!\n",
      "Overall # of frames:  891 with (cropped) frame dimensions: \n",
      "Kmeans-quantization based extracting of frames from 0.0  seconds to 8.91  seconds.\n",
      "Extracting and downsampling... 379  frames from the video.\n"
     ]
    },
    {
     "name": "stderr",
     "output_type": "stream",
     "text": [
      "379it [01:51,  3.39it/s]\n"
     ]
    },
    {
     "name": "stdout",
     "output_type": "stream",
     "text": [
      "Kmeans clustering ... (this might take a while)\n",
      "Let's select frames indices: [395, 235, 844, 815, 843]\n",
      "Creating the symbolic link of the video\n",
      "AUTOMATIC ADDING OF VIDEO TO CONFIG FILE FAILED! You need to do this manually for including it in the config.yaml file!\n",
      "Videopath: D:/3DBHVR/FacialExpression_20210414/DLC-Guillermo-2021-04-14/new-videos/subject5.2_cam-B.avi Coordinates for cropping: None\n",
      "The outlier frames are extracted. They are stored in the subdirectory labeled-data\\subject5.2_cam-B.\n",
      "Once you extracted frames for all videos, use 'refine_labels' to manually correct the labels.\n",
      "Method  jump  found  979  putative outlier frames.\n",
      "Do you want to proceed with extracting  5  of those?\n",
      "If this list is very large, perhaps consider changing the parameters (start, stop, p_bound, comparisonbodyparts) or use a different method.\n",
      "yes/noy\n"
     ]
    },
    {
     "name": "stderr",
     "output_type": "stream",
     "text": [
      "1it [00:00,  7.87it/s]"
     ]
    },
    {
     "name": "stdout",
     "output_type": "stream",
     "text": [
      "Loading video...\n",
      "Duration of video [s]:  18.36 , recorded @  100.0 fps!\n",
      "Overall # of frames:  1836 with (cropped) frame dimensions: \n",
      "Kmeans-quantization based extracting of frames from 0.0  seconds to 18.36  seconds.\n",
      "Extracting and downsampling... 979  frames from the video.\n"
     ]
    },
    {
     "name": "stderr",
     "output_type": "stream",
     "text": [
      "979it [04:01,  4.05it/s]\n"
     ]
    },
    {
     "name": "stdout",
     "output_type": "stream",
     "text": [
      "Kmeans clustering ... (this might take a while)\n",
      "Let's select frames indices: [1658, 1038, 598, 816, 207]\n",
      "Creating the symbolic link of the video\n",
      "AUTOMATIC ADDING OF VIDEO TO CONFIG FILE FAILED! You need to do this manually for including it in the config.yaml file!\n",
      "Videopath: D:/3DBHVR/FacialExpression_20210414/DLC-Guillermo-2021-04-14/new-videos/subject5.2_cam-C.avi Coordinates for cropping: None\n",
      "The outlier frames are extracted. They are stored in the subdirectory labeled-data\\subject5.2_cam-C.\n",
      "Once you extracted frames for all videos, use 'refine_labels' to manually correct the labels.\n",
      "Method  jump  found  692  putative outlier frames.\n",
      "Do you want to proceed with extracting  5  of those?\n",
      "If this list is very large, perhaps consider changing the parameters (start, stop, p_bound, comparisonbodyparts) or use a different method.\n",
      "yes/noy\n"
     ]
    },
    {
     "name": "stderr",
     "output_type": "stream",
     "text": [
      "2it [00:00, 15.27it/s]"
     ]
    },
    {
     "name": "stdout",
     "output_type": "stream",
     "text": [
      "Loading video...\n",
      "Duration of video [s]:  18.36 , recorded @  100.0 fps!\n",
      "Overall # of frames:  1836 with (cropped) frame dimensions: \n",
      "Kmeans-quantization based extracting of frames from 0.0  seconds to 18.36  seconds.\n",
      "Extracting and downsampling... 692  frames from the video.\n"
     ]
    },
    {
     "name": "stderr",
     "output_type": "stream",
     "text": [
      "692it [03:21,  3.44it/s]\n"
     ]
    },
    {
     "name": "stdout",
     "output_type": "stream",
     "text": [
      "Kmeans clustering ... (this might take a while)\n",
      "Let's select frames indices: [447, 157, 1677, 1513, 478]\n",
      "Creating the symbolic link of the video\n",
      "AUTOMATIC ADDING OF VIDEO TO CONFIG FILE FAILED! You need to do this manually for including it in the config.yaml file!\n",
      "Videopath: D:/3DBHVR/FacialExpression_20210414/DLC-Guillermo-2021-04-14/new-videos/subject5.2_cam-D.avi Coordinates for cropping: None\n",
      "The outlier frames are extracted. They are stored in the subdirectory labeled-data\\subject5.2_cam-D.\n",
      "Once you extracted frames for all videos, use 'refine_labels' to manually correct the labels.\n",
      "Method  jump  found  173  putative outlier frames.\n",
      "Do you want to proceed with extracting  5  of those?\n",
      "If this list is very large, perhaps consider changing the parameters (start, stop, p_bound, comparisonbodyparts) or use a different method.\n",
      "yes/noy\n"
     ]
    },
    {
     "name": "stderr",
     "output_type": "stream",
     "text": [
      "2it [00:00, 16.26it/s]"
     ]
    },
    {
     "name": "stdout",
     "output_type": "stream",
     "text": [
      "Loading video...\n",
      "Duration of video [s]:  3.55 , recorded @  100.0 fps!\n",
      "Overall # of frames:  355 with (cropped) frame dimensions: \n",
      "Kmeans-quantization based extracting of frames from 0.0  seconds to 3.55  seconds.\n",
      "Extracting and downsampling... 173  frames from the video.\n"
     ]
    },
    {
     "name": "stderr",
     "output_type": "stream",
     "text": [
      "173it [00:39,  4.39it/s]\n"
     ]
    },
    {
     "name": "stdout",
     "output_type": "stream",
     "text": [
      "Kmeans clustering ... (this might take a while)\n",
      "Let's select frames indices: [271, 23, 196, 32, 354]\n"
     ]
    },
    {
     "name": "stderr",
     "output_type": "stream",
     "text": [
      "C:\\Users\\hidalggc\\Anaconda3\\envs\\DLC-GPU\\lib\\site-packages\\deeplabcut\\refine_training_dataset\\outlier_frames.py:681: UserWarning: D:/3DBHVR/FacialExpression_20210414/DLC-Guillermo-2021-04-14\\labeled-data\\subject5.2_cam-E\\img354.png is a low contrast image\n",
      "  io.imsave(imagename1, image)\n"
     ]
    },
    {
     "name": "stdout",
     "output_type": "stream",
     "text": [
      "Creating the symbolic link of the video\n",
      "AUTOMATIC ADDING OF VIDEO TO CONFIG FILE FAILED! You need to do this manually for including it in the config.yaml file!\n",
      "Videopath: D:/3DBHVR/FacialExpression_20210414/DLC-Guillermo-2021-04-14/new-videos/subject5.2_cam-E.avi Coordinates for cropping: None\n",
      "The outlier frames are extracted. They are stored in the subdirectory labeled-data\\subject5.2_cam-E.\n",
      "Once you extracted frames for all videos, use 'refine_labels' to manually correct the labels.\n",
      "Method  jump  found  477  putative outlier frames.\n",
      "Do you want to proceed with extracting  5  of those?\n",
      "If this list is very large, perhaps consider changing the parameters (start, stop, p_bound, comparisonbodyparts) or use a different method.\n",
      "yes/noy\n"
     ]
    },
    {
     "name": "stderr",
     "output_type": "stream",
     "text": [
      "\r",
      "0it [00:00, ?it/s]"
     ]
    },
    {
     "name": "stdout",
     "output_type": "stream",
     "text": [
      "Loading video...\n",
      "Duration of video [s]:  18.36 , recorded @  100.0 fps!\n",
      "Overall # of frames:  1836 with (cropped) frame dimensions: \n",
      "Kmeans-quantization based extracting of frames from 0.0  seconds to 18.36  seconds.\n",
      "Extracting and downsampling... 477  frames from the video.\n"
     ]
    },
    {
     "name": "stderr",
     "output_type": "stream",
     "text": [
      "477it [02:20,  3.39it/s]\n"
     ]
    },
    {
     "name": "stdout",
     "output_type": "stream",
     "text": [
      "Kmeans clustering ... (this might take a while)\n",
      "Let's select frames indices: [365, 1667, 254, 52, 1552]\n",
      "Creating the symbolic link of the video\n",
      "AUTOMATIC ADDING OF VIDEO TO CONFIG FILE FAILED! You need to do this manually for including it in the config.yaml file!\n",
      "Videopath: D:/3DBHVR/FacialExpression_20210414/DLC-Guillermo-2021-04-14/new-videos/subject5.2_cam-F.avi Coordinates for cropping: None\n",
      "The outlier frames are extracted. They are stored in the subdirectory labeled-data\\subject5.2_cam-F.\n",
      "Once you extracted frames for all videos, use 'refine_labels' to manually correct the labels.\n",
      "Method  jump  found  759  putative outlier frames.\n",
      "Do you want to proceed with extracting  5  of those?\n",
      "If this list is very large, perhaps consider changing the parameters (start, stop, p_bound, comparisonbodyparts) or use a different method.\n",
      "yes/noy\n"
     ]
    },
    {
     "name": "stderr",
     "output_type": "stream",
     "text": [
      "2it [00:00, 16.81it/s]"
     ]
    },
    {
     "name": "stdout",
     "output_type": "stream",
     "text": [
      "Loading video...\n",
      "Duration of video [s]:  9.63 , recorded @  100.0 fps!\n",
      "Overall # of frames:  963 with (cropped) frame dimensions: \n",
      "Kmeans-quantization based extracting of frames from 0.0  seconds to 9.63  seconds.\n",
      "Extracting and downsampling... 759  frames from the video.\n"
     ]
    },
    {
     "name": "stderr",
     "output_type": "stream",
     "text": [
      "759it [03:12,  3.95it/s]\n"
     ]
    },
    {
     "name": "stdout",
     "output_type": "stream",
     "text": [
      "Kmeans clustering ... (this might take a while)\n",
      "Let's select frames indices: [887, 936, 167, 422, 90]\n",
      "Creating the symbolic link of the video\n",
      "AUTOMATIC ADDING OF VIDEO TO CONFIG FILE FAILED! You need to do this manually for including it in the config.yaml file!\n",
      "Videopath: D:/3DBHVR/FacialExpression_20210414/DLC-Guillermo-2021-04-14/new-videos/subject5.3_cam-A.avi Coordinates for cropping: None\n",
      "The outlier frames are extracted. They are stored in the subdirectory labeled-data\\subject5.3_cam-A.\n",
      "Once you extracted frames for all videos, use 'refine_labels' to manually correct the labels.\n",
      "Method  jump  found  388  putative outlier frames.\n",
      "Do you want to proceed with extracting  5  of those?\n",
      "If this list is very large, perhaps consider changing the parameters (start, stop, p_bound, comparisonbodyparts) or use a different method.\n",
      "yes/noy\n"
     ]
    },
    {
     "name": "stderr",
     "output_type": "stream",
     "text": [
      "\r",
      "0it [00:00, ?it/s]"
     ]
    },
    {
     "name": "stdout",
     "output_type": "stream",
     "text": [
      "Loading video...\n",
      "Duration of video [s]:  9.63 , recorded @  100.0 fps!\n",
      "Overall # of frames:  963 with (cropped) frame dimensions: \n",
      "Kmeans-quantization based extracting of frames from 0.0  seconds to 9.63  seconds.\n",
      "Extracting and downsampling... 388  frames from the video.\n"
     ]
    },
    {
     "name": "stderr",
     "output_type": "stream",
     "text": [
      "388it [01:50,  3.51it/s]\n"
     ]
    },
    {
     "name": "stdout",
     "output_type": "stream",
     "text": [
      "Kmeans clustering ... (this might take a while)\n",
      "Let's select frames indices: [372, 278, 856, 419, 45]\n",
      "Creating the symbolic link of the video\n",
      "AUTOMATIC ADDING OF VIDEO TO CONFIG FILE FAILED! You need to do this manually for including it in the config.yaml file!\n",
      "Videopath: D:/3DBHVR/FacialExpression_20210414/DLC-Guillermo-2021-04-14/new-videos/subject5.3_cam-B.avi Coordinates for cropping: None\n",
      "The outlier frames are extracted. They are stored in the subdirectory labeled-data\\subject5.3_cam-B.\n",
      "Once you extracted frames for all videos, use 'refine_labels' to manually correct the labels.\n",
      "Method  jump  found  1042  putative outlier frames.\n",
      "Do you want to proceed with extracting  5  of those?\n",
      "If this list is very large, perhaps consider changing the parameters (start, stop, p_bound, comparisonbodyparts) or use a different method.\n",
      "yes/noy\n"
     ]
    },
    {
     "name": "stderr",
     "output_type": "stream",
     "text": [
      "2it [00:00, 16.95it/s]"
     ]
    },
    {
     "name": "stdout",
     "output_type": "stream",
     "text": [
      "Loading video...\n",
      "Duration of video [s]:  21.07 , recorded @  100.0 fps!\n",
      "Overall # of frames:  2107 with (cropped) frame dimensions: \n",
      "Kmeans-quantization based extracting of frames from 0.0  seconds to 21.07  seconds.\n",
      "Extracting and downsampling... 1042  frames from the video.\n"
     ]
    },
    {
     "name": "stderr",
     "output_type": "stream",
     "text": [
      "1042it [04:11,  4.14it/s]\n"
     ]
    },
    {
     "name": "stdout",
     "output_type": "stream",
     "text": [
      "Kmeans clustering ... (this might take a while)\n",
      "Let's select frames indices: [1871, 731, 1137, 450, 53]\n",
      "Creating the symbolic link of the video\n",
      "AUTOMATIC ADDING OF VIDEO TO CONFIG FILE FAILED! You need to do this manually for including it in the config.yaml file!\n",
      "Videopath: D:/3DBHVR/FacialExpression_20210414/DLC-Guillermo-2021-04-14/new-videos/subject5.3_cam-C.avi Coordinates for cropping: None\n",
      "The outlier frames are extracted. They are stored in the subdirectory labeled-data\\subject5.3_cam-C.\n",
      "Once you extracted frames for all videos, use 'refine_labels' to manually correct the labels.\n",
      "Method  jump  found  796  putative outlier frames.\n",
      "Do you want to proceed with extracting  5  of those?\n",
      "If this list is very large, perhaps consider changing the parameters (start, stop, p_bound, comparisonbodyparts) or use a different method.\n",
      "yes/noy\n"
     ]
    },
    {
     "name": "stderr",
     "output_type": "stream",
     "text": [
      "\r",
      "0it [00:00, ?it/s]"
     ]
    },
    {
     "name": "stdout",
     "output_type": "stream",
     "text": [
      "Loading video...\n",
      "Duration of video [s]:  21.07 , recorded @  100.0 fps!\n",
      "Overall # of frames:  2107 with (cropped) frame dimensions: \n",
      "Kmeans-quantization based extracting of frames from 0.0  seconds to 21.07  seconds.\n",
      "Extracting and downsampling... 796  frames from the video.\n"
     ]
    },
    {
     "name": "stderr",
     "output_type": "stream",
     "text": [
      "796it [03:49,  3.46it/s]\n"
     ]
    },
    {
     "name": "stdout",
     "output_type": "stream",
     "text": [
      "Kmeans clustering ... (this might take a while)\n",
      "Let's select frames indices: [2075, 476, 767, 34, 1014]\n",
      "Creating the symbolic link of the video\n",
      "AUTOMATIC ADDING OF VIDEO TO CONFIG FILE FAILED! You need to do this manually for including it in the config.yaml file!\n",
      "Videopath: D:/3DBHVR/FacialExpression_20210414/DLC-Guillermo-2021-04-14/new-videos/subject5.3_cam-D.avi Coordinates for cropping: None\n",
      "The outlier frames are extracted. They are stored in the subdirectory labeled-data\\subject5.3_cam-D.\n",
      "Once you extracted frames for all videos, use 'refine_labels' to manually correct the labels.\n",
      "Method  jump  found  293  putative outlier frames.\n",
      "Do you want to proceed with extracting  5  of those?\n",
      "If this list is very large, perhaps consider changing the parameters (start, stop, p_bound, comparisonbodyparts) or use a different method.\n",
      "yes/noy\n"
     ]
    },
    {
     "name": "stderr",
     "output_type": "stream",
     "text": [
      "2it [00:00, 18.42it/s]"
     ]
    },
    {
     "name": "stdout",
     "output_type": "stream",
     "text": [
      "Loading video...\n",
      "Duration of video [s]:  4.29 , recorded @  100.0 fps!\n",
      "Overall # of frames:  429 with (cropped) frame dimensions: \n",
      "Kmeans-quantization based extracting of frames from 0.0  seconds to 4.29  seconds.\n",
      "Extracting and downsampling... 293  frames from the video.\n"
     ]
    },
    {
     "name": "stderr",
     "output_type": "stream",
     "text": [
      "293it [01:06,  4.41it/s]\n"
     ]
    },
    {
     "name": "stdout",
     "output_type": "stream",
     "text": [
      "Kmeans clustering ... (this might take a while)\n",
      "Let's select frames indices: [173, 65, 399, 225, 149]\n",
      "Creating the symbolic link of the video\n",
      "AUTOMATIC ADDING OF VIDEO TO CONFIG FILE FAILED! You need to do this manually for including it in the config.yaml file!\n",
      "Videopath: D:/3DBHVR/FacialExpression_20210414/DLC-Guillermo-2021-04-14/new-videos/subject5.3_cam-E.avi Coordinates for cropping: None\n",
      "The outlier frames are extracted. They are stored in the subdirectory labeled-data\\subject5.3_cam-E.\n",
      "Once you extracted frames for all videos, use 'refine_labels' to manually correct the labels.\n",
      "Method  jump  found  808  putative outlier frames.\n",
      "Do you want to proceed with extracting  5  of those?\n",
      "If this list is very large, perhaps consider changing the parameters (start, stop, p_bound, comparisonbodyparts) or use a different method.\n",
      "yes/noy\n"
     ]
    },
    {
     "name": "stderr",
     "output_type": "stream",
     "text": [
      "\r",
      "0it [00:00, ?it/s]"
     ]
    },
    {
     "name": "stdout",
     "output_type": "stream",
     "text": [
      "Loading video...\n",
      "Duration of video [s]:  21.07 , recorded @  100.0 fps!\n",
      "Overall # of frames:  2107 with (cropped) frame dimensions: \n",
      "Kmeans-quantization based extracting of frames from 0.0  seconds to 21.07  seconds.\n",
      "Extracting and downsampling... 808  frames from the video.\n"
     ]
    },
    {
     "name": "stderr",
     "output_type": "stream",
     "text": [
      "808it [03:56,  3.42it/s]\n"
     ]
    },
    {
     "name": "stdout",
     "output_type": "stream",
     "text": [
      "Kmeans clustering ... (this might take a while)\n",
      "Let's select frames indices: [1289, 408, 21, 1590, 1064]\n",
      "Creating the symbolic link of the video\n",
      "AUTOMATIC ADDING OF VIDEO TO CONFIG FILE FAILED! You need to do this manually for including it in the config.yaml file!\n",
      "Videopath: D:/3DBHVR/FacialExpression_20210414/DLC-Guillermo-2021-04-14/new-videos/subject5.3_cam-F.avi Coordinates for cropping: None\n",
      "The outlier frames are extracted. They are stored in the subdirectory labeled-data\\subject5.3_cam-F.\n",
      "Once you extracted frames for all videos, use 'refine_labels' to manually correct the labels.\n",
      "Method  jump  found  546  putative outlier frames.\n",
      "Do you want to proceed with extracting  5  of those?\n",
      "If this list is very large, perhaps consider changing the parameters (start, stop, p_bound, comparisonbodyparts) or use a different method.\n",
      "yes/noy\n"
     ]
    },
    {
     "name": "stderr",
     "output_type": "stream",
     "text": [
      "2it [00:00, 13.79it/s]"
     ]
    },
    {
     "name": "stdout",
     "output_type": "stream",
     "text": [
      "Loading video...\n",
      "Duration of video [s]:  8.17 , recorded @  100.0 fps!\n",
      "Overall # of frames:  817 with (cropped) frame dimensions: \n",
      "Kmeans-quantization based extracting of frames from 0.0  seconds to 8.17  seconds.\n",
      "Extracting and downsampling... 546  frames from the video.\n"
     ]
    },
    {
     "name": "stderr",
     "output_type": "stream",
     "text": [
      "546it [02:18,  3.93it/s]\n"
     ]
    },
    {
     "name": "stdout",
     "output_type": "stream",
     "text": [
      "Kmeans clustering ... (this might take a while)\n",
      "Let's select frames indices: [254, 744, 399, 641, 666]\n",
      "Creating the symbolic link of the video\n",
      "AUTOMATIC ADDING OF VIDEO TO CONFIG FILE FAILED! You need to do this manually for including it in the config.yaml file!\n",
      "Videopath: D:/3DBHVR/FacialExpression_20210414/DLC-Guillermo-2021-04-14/new-videos/subject5_cam-A.avi Coordinates for cropping: None\n",
      "The outlier frames are extracted. They are stored in the subdirectory labeled-data\\subject5_cam-A.\n",
      "Once you extracted frames for all videos, use 'refine_labels' to manually correct the labels.\n",
      "Method  jump  found  315  putative outlier frames.\n",
      "Do you want to proceed with extracting  5  of those?\n",
      "If this list is very large, perhaps consider changing the parameters (start, stop, p_bound, comparisonbodyparts) or use a different method.\n",
      "yes/noy\n"
     ]
    },
    {
     "name": "stderr",
     "output_type": "stream",
     "text": [
      "\r",
      "0it [00:00, ?it/s]"
     ]
    },
    {
     "name": "stdout",
     "output_type": "stream",
     "text": [
      "Loading video...\n",
      "Duration of video [s]:  8.14 , recorded @  100.0 fps!\n",
      "Overall # of frames:  814 with (cropped) frame dimensions: \n",
      "Kmeans-quantization based extracting of frames from 0.0  seconds to 8.14  seconds.\n",
      "Extracting and downsampling... 315  frames from the video.\n"
     ]
    },
    {
     "name": "stderr",
     "output_type": "stream",
     "text": [
      "315it [01:27,  3.60it/s]\n"
     ]
    },
    {
     "name": "stdout",
     "output_type": "stream",
     "text": [
      "Kmeans clustering ... (this might take a while)\n",
      "Let's select frames indices: [10, 758, 640, 123, 786]\n",
      "Creating the symbolic link of the video\n",
      "AUTOMATIC ADDING OF VIDEO TO CONFIG FILE FAILED! You need to do this manually for including it in the config.yaml file!\n",
      "Videopath: D:/3DBHVR/FacialExpression_20210414/DLC-Guillermo-2021-04-14/new-videos/subject5_cam-B.avi Coordinates for cropping: None\n",
      "The outlier frames are extracted. They are stored in the subdirectory labeled-data\\subject5_cam-B.\n",
      "Once you extracted frames for all videos, use 'refine_labels' to manually correct the labels.\n",
      "Method  jump  found  802  putative outlier frames.\n",
      "Do you want to proceed with extracting  5  of those?\n",
      "If this list is very large, perhaps consider changing the parameters (start, stop, p_bound, comparisonbodyparts) or use a different method.\n",
      "yes/noy\n"
     ]
    },
    {
     "name": "stderr",
     "output_type": "stream",
     "text": [
      "\r",
      "0it [00:00, ?it/s]"
     ]
    },
    {
     "name": "stdout",
     "output_type": "stream",
     "text": [
      "Loading video...\n",
      "Duration of video [s]:  15.6 , recorded @  100.0 fps!\n",
      "Overall # of frames:  1560 with (cropped) frame dimensions: \n",
      "Kmeans-quantization based extracting of frames from 0.0  seconds to 15.6  seconds.\n",
      "Extracting and downsampling... 802  frames from the video.\n"
     ]
    },
    {
     "name": "stderr",
     "output_type": "stream",
     "text": [
      "802it [03:25,  3.91it/s]\n"
     ]
    },
    {
     "name": "stdout",
     "output_type": "stream",
     "text": [
      "Kmeans clustering ... (this might take a while)\n",
      "Let's select frames indices: [610, 1203, 544, 17, 1534]\n",
      "Creating the symbolic link of the video\n",
      "AUTOMATIC ADDING OF VIDEO TO CONFIG FILE FAILED! You need to do this manually for including it in the config.yaml file!\n",
      "Videopath: D:/3DBHVR/FacialExpression_20210414/DLC-Guillermo-2021-04-14/new-videos/subject5_cam-C.avi Coordinates for cropping: None\n",
      "The outlier frames are extracted. They are stored in the subdirectory labeled-data\\subject5_cam-C.\n",
      "Once you extracted frames for all videos, use 'refine_labels' to manually correct the labels.\n",
      "Method  jump  found  638  putative outlier frames.\n",
      "Do you want to proceed with extracting  5  of those?\n",
      "If this list is very large, perhaps consider changing the parameters (start, stop, p_bound, comparisonbodyparts) or use a different method.\n",
      "yes/noy\n"
     ]
    },
    {
     "name": "stderr",
     "output_type": "stream",
     "text": [
      "2it [00:00, 14.93it/s]"
     ]
    },
    {
     "name": "stdout",
     "output_type": "stream",
     "text": [
      "Loading video...\n",
      "Duration of video [s]:  15.6 , recorded @  100.0 fps!\n",
      "Overall # of frames:  1560 with (cropped) frame dimensions: \n",
      "Kmeans-quantization based extracting of frames from 0.0  seconds to 15.6  seconds.\n",
      "Extracting and downsampling... 638  frames from the video.\n"
     ]
    },
    {
     "name": "stderr",
     "output_type": "stream",
     "text": [
      "638it [03:02,  3.49it/s]\n"
     ]
    },
    {
     "name": "stdout",
     "output_type": "stream",
     "text": [
      "Kmeans clustering ... (this might take a while)\n",
      "Let's select frames indices: [456, 630, 1210, 718, 681]\n",
      "Creating the symbolic link of the video\n",
      "AUTOMATIC ADDING OF VIDEO TO CONFIG FILE FAILED! You need to do this manually for including it in the config.yaml file!\n",
      "Videopath: D:/3DBHVR/FacialExpression_20210414/DLC-Guillermo-2021-04-14/new-videos/subject5_cam-D.avi Coordinates for cropping: None\n",
      "The outlier frames are extracted. They are stored in the subdirectory labeled-data\\subject5_cam-D.\n",
      "Once you extracted frames for all videos, use 'refine_labels' to manually correct the labels.\n",
      "Method  jump  found  171  putative outlier frames.\n",
      "Do you want to proceed with extracting  5  of those?\n",
      "If this list is very large, perhaps consider changing the parameters (start, stop, p_bound, comparisonbodyparts) or use a different method.\n",
      "yes/noy\n"
     ]
    },
    {
     "name": "stderr",
     "output_type": "stream",
     "text": [
      "2it [00:00, 17.53it/s]"
     ]
    },
    {
     "name": "stdout",
     "output_type": "stream",
     "text": [
      "Loading video...\n",
      "Duration of video [s]:  2.8 , recorded @  100.0 fps!\n",
      "Overall # of frames:  280 with (cropped) frame dimensions: \n",
      "Kmeans-quantization based extracting of frames from 0.0  seconds to 2.8  seconds.\n",
      "Extracting and downsampling... 171  frames from the video.\n"
     ]
    },
    {
     "name": "stderr",
     "output_type": "stream",
     "text": [
      "171it [00:40,  4.21it/s]\n"
     ]
    },
    {
     "name": "stdout",
     "output_type": "stream",
     "text": [
      "Kmeans clustering ... (this might take a while)\n",
      "Let's select frames indices: [229, 264, 130, 87, 279]\n"
     ]
    },
    {
     "name": "stderr",
     "output_type": "stream",
     "text": [
      "C:\\Users\\hidalggc\\Anaconda3\\envs\\DLC-GPU\\lib\\site-packages\\deeplabcut\\refine_training_dataset\\outlier_frames.py:681: UserWarning: D:/3DBHVR/FacialExpression_20210414/DLC-Guillermo-2021-04-14\\labeled-data\\subject5_cam-E\\img279.png is a low contrast image\n",
      "  io.imsave(imagename1, image)\n"
     ]
    },
    {
     "name": "stdout",
     "output_type": "stream",
     "text": [
      "Creating the symbolic link of the video\n",
      "AUTOMATIC ADDING OF VIDEO TO CONFIG FILE FAILED! You need to do this manually for including it in the config.yaml file!\n",
      "Videopath: D:/3DBHVR/FacialExpression_20210414/DLC-Guillermo-2021-04-14/new-videos/subject5_cam-E.avi Coordinates for cropping: None\n",
      "The outlier frames are extracted. They are stored in the subdirectory labeled-data\\subject5_cam-E.\n",
      "Once you extracted frames for all videos, use 'refine_labels' to manually correct the labels.\n",
      "Method  jump  found  512  putative outlier frames.\n",
      "Do you want to proceed with extracting  5  of those?\n",
      "If this list is very large, perhaps consider changing the parameters (start, stop, p_bound, comparisonbodyparts) or use a different method.\n",
      "yes/noy\n"
     ]
    },
    {
     "name": "stderr",
     "output_type": "stream",
     "text": [
      "2it [00:00, 14.49it/s]"
     ]
    },
    {
     "name": "stdout",
     "output_type": "stream",
     "text": [
      "Loading video...\n",
      "Duration of video [s]:  15.6 , recorded @  100.0 fps!\n",
      "Overall # of frames:  1560 with (cropped) frame dimensions: \n",
      "Kmeans-quantization based extracting of frames from 0.0  seconds to 15.6  seconds.\n",
      "Extracting and downsampling... 512  frames from the video.\n"
     ]
    },
    {
     "name": "stderr",
     "output_type": "stream",
     "text": [
      "512it [02:30,  3.41it/s]\n"
     ]
    },
    {
     "name": "stdout",
     "output_type": "stream",
     "text": [
      "Kmeans clustering ... (this might take a while)\n",
      "Let's select frames indices: [106, 559, 687, 1427, 328]\n",
      "Creating the symbolic link of the video\n",
      "AUTOMATIC ADDING OF VIDEO TO CONFIG FILE FAILED! You need to do this manually for including it in the config.yaml file!\n",
      "Videopath: D:/3DBHVR/FacialExpression_20210414/DLC-Guillermo-2021-04-14/new-videos/subject5_cam-F.avi Coordinates for cropping: None\n",
      "The outlier frames are extracted. They are stored in the subdirectory labeled-data\\subject5_cam-F.\n",
      "Once you extracted frames for all videos, use 'refine_labels' to manually correct the labels.\n",
      "Method  jump  found  1196  putative outlier frames.\n",
      "Do you want to proceed with extracting  5  of those?\n",
      "If this list is very large, perhaps consider changing the parameters (start, stop, p_bound, comparisonbodyparts) or use a different method.\n",
      "yes/no<\n",
      "Nothing extracted, please change the parameters and start again...\n",
      "Method  jump  found  1027  putative outlier frames.\n",
      "Do you want to proceed with extracting  5  of those?\n",
      "If this list is very large, perhaps consider changing the parameters (start, stop, p_bound, comparisonbodyparts) or use a different method.\n",
      "yes/noy\n"
     ]
    },
    {
     "name": "stderr",
     "output_type": "stream",
     "text": [
      "2it [00:00, 16.15it/s]"
     ]
    },
    {
     "name": "stdout",
     "output_type": "stream",
     "text": [
      "Loading video...\n",
      "Duration of video [s]:  12.82 , recorded @  100.0 fps!\n",
      "Overall # of frames:  1282 with (cropped) frame dimensions: \n",
      "Kmeans-quantization based extracting of frames from 0.0  seconds to 12.82  seconds.\n",
      "Extracting and downsampling... 1027  frames from the video.\n"
     ]
    },
    {
     "name": "stderr",
     "output_type": "stream",
     "text": [
      "1027it [04:29,  3.80it/s]\n"
     ]
    },
    {
     "name": "stdout",
     "output_type": "stream",
     "text": [
      "Kmeans clustering ... (this might take a while)\n",
      "Let's select frames indices: [861, 354, 938, 11, 1280]\n",
      "Creating the symbolic link of the video\n",
      "AUTOMATIC ADDING OF VIDEO TO CONFIG FILE FAILED! You need to do this manually for including it in the config.yaml file!\n",
      "Videopath: D:/3DBHVR/FacialExpression_20210414/DLC-Guillermo-2021-04-14/new-videos/subject6.2_cam-B.avi Coordinates for cropping: None\n",
      "The outlier frames are extracted. They are stored in the subdirectory labeled-data\\subject6.2_cam-B.\n",
      "Once you extracted frames for all videos, use 'refine_labels' to manually correct the labels.\n",
      "Method  jump  found  1238  putative outlier frames.\n",
      "Do you want to proceed with extracting  5  of those?\n",
      "If this list is very large, perhaps consider changing the parameters (start, stop, p_bound, comparisonbodyparts) or use a different method.\n",
      "yes/noy\n"
     ]
    },
    {
     "name": "stderr",
     "output_type": "stream",
     "text": [
      "2it [00:00, 18.39it/s]"
     ]
    },
    {
     "name": "stdout",
     "output_type": "stream",
     "text": [
      "Loading video...\n",
      "Duration of video [s]:  12.9 , recorded @  100.0 fps!\n",
      "Overall # of frames:  1290 with (cropped) frame dimensions: \n",
      "Kmeans-quantization based extracting of frames from 0.0  seconds to 12.9  seconds.\n",
      "Extracting and downsampling... 1238  frames from the video.\n"
     ]
    },
    {
     "name": "stderr",
     "output_type": "stream",
     "text": [
      "1238it [04:41,  4.39it/s]\n"
     ]
    },
    {
     "name": "stdout",
     "output_type": "stream",
     "text": [
      "Kmeans clustering ... (this might take a while)\n",
      "Let's select frames indices: [399, 630, 917, 438, 1250]\n",
      "Creating the symbolic link of the video\n",
      "AUTOMATIC ADDING OF VIDEO TO CONFIG FILE FAILED! You need to do this manually for including it in the config.yaml file!\n",
      "Videopath: D:/3DBHVR/FacialExpression_20210414/DLC-Guillermo-2021-04-14/new-videos/subject6.2_cam-C.avi Coordinates for cropping: None\n",
      "The outlier frames are extracted. They are stored in the subdirectory labeled-data\\subject6.2_cam-C.\n",
      "Once you extracted frames for all videos, use 'refine_labels' to manually correct the labels.\n",
      "Method  jump  found  1126  putative outlier frames.\n",
      "Do you want to proceed with extracting  5  of those?\n",
      "If this list is very large, perhaps consider changing the parameters (start, stop, p_bound, comparisonbodyparts) or use a different method.\n",
      "yes/noy\n"
     ]
    },
    {
     "name": "stderr",
     "output_type": "stream",
     "text": [
      "\r",
      "0it [00:00, ?it/s]"
     ]
    },
    {
     "name": "stdout",
     "output_type": "stream",
     "text": [
      "Loading video...\n",
      "Duration of video [s]:  12.9 , recorded @  100.0 fps!\n",
      "Overall # of frames:  1290 with (cropped) frame dimensions: \n",
      "Kmeans-quantization based extracting of frames from 0.0  seconds to 12.9  seconds.\n",
      "Extracting and downsampling... 1126  frames from the video.\n"
     ]
    },
    {
     "name": "stderr",
     "output_type": "stream",
     "text": [
      "1126it [05:01,  3.74it/s]\n"
     ]
    },
    {
     "name": "stdout",
     "output_type": "stream",
     "text": [
      "Kmeans clustering ... (this might take a while)\n",
      "Let's select frames indices: [158, 991, 785, 1050, 269]\n",
      "Creating the symbolic link of the video\n",
      "AUTOMATIC ADDING OF VIDEO TO CONFIG FILE FAILED! You need to do this manually for including it in the config.yaml file!\n",
      "Videopath: D:/3DBHVR/FacialExpression_20210414/DLC-Guillermo-2021-04-14/new-videos/subject6.2_cam-D.avi Coordinates for cropping: None\n",
      "The outlier frames are extracted. They are stored in the subdirectory labeled-data\\subject6.2_cam-D.\n",
      "Once you extracted frames for all videos, use 'refine_labels' to manually correct the labels.\n",
      "Method  jump  found  760  putative outlier frames.\n",
      "Do you want to proceed with extracting  5  of those?\n",
      "If this list is very large, perhaps consider changing the parameters (start, stop, p_bound, comparisonbodyparts) or use a different method.\n",
      "yes/noy\n"
     ]
    },
    {
     "name": "stderr",
     "output_type": "stream",
     "text": [
      "2it [00:00, 15.54it/s]"
     ]
    },
    {
     "name": "stdout",
     "output_type": "stream",
     "text": [
      "Loading video...\n",
      "Duration of video [s]:  12.82 , recorded @  100.0 fps!\n",
      "Overall # of frames:  1282 with (cropped) frame dimensions: \n",
      "Kmeans-quantization based extracting of frames from 0.0  seconds to 12.82  seconds.\n",
      "Extracting and downsampling... 760  frames from the video.\n"
     ]
    },
    {
     "name": "stderr",
     "output_type": "stream",
     "text": [
      "760it [02:43,  4.65it/s]\n"
     ]
    },
    {
     "name": "stdout",
     "output_type": "stream",
     "text": [
      "Kmeans clustering ... (this might take a while)\n",
      "Let's select frames indices: [376, 926, 587, 126, 1189]\n",
      "Creating the symbolic link of the video\n",
      "AUTOMATIC ADDING OF VIDEO TO CONFIG FILE FAILED! You need to do this manually for including it in the config.yaml file!\n",
      "Videopath: D:/3DBHVR/FacialExpression_20210414/DLC-Guillermo-2021-04-14/new-videos/subject6.2_cam-E.avi Coordinates for cropping: None\n",
      "The outlier frames are extracted. They are stored in the subdirectory labeled-data\\subject6.2_cam-E.\n",
      "Once you extracted frames for all videos, use 'refine_labels' to manually correct the labels.\n",
      "Method  jump  found  1042  putative outlier frames.\n",
      "Do you want to proceed with extracting  5  of those?\n",
      "If this list is very large, perhaps consider changing the parameters (start, stop, p_bound, comparisonbodyparts) or use a different method.\n",
      "yes/noy\n"
     ]
    },
    {
     "name": "stderr",
     "output_type": "stream",
     "text": [
      "\r",
      "0it [00:00, ?it/s]"
     ]
    },
    {
     "name": "stdout",
     "output_type": "stream",
     "text": [
      "Loading video...\n",
      "Duration of video [s]:  12.9 , recorded @  100.0 fps!\n",
      "Overall # of frames:  1290 with (cropped) frame dimensions: \n",
      "Kmeans-quantization based extracting of frames from 0.0  seconds to 12.9  seconds.\n",
      "Extracting and downsampling... 1042  frames from the video.\n"
     ]
    },
    {
     "name": "stderr",
     "output_type": "stream",
     "text": [
      "1042it [04:44,  3.66it/s]\n"
     ]
    },
    {
     "name": "stdout",
     "output_type": "stream",
     "text": [
      "Kmeans clustering ... (this might take a while)\n",
      "Let's select frames indices: [829, 179, 429, 477, 1226]\n",
      "Creating the symbolic link of the video\n",
      "AUTOMATIC ADDING OF VIDEO TO CONFIG FILE FAILED! You need to do this manually for including it in the config.yaml file!\n",
      "Videopath: D:/3DBHVR/FacialExpression_20210414/DLC-Guillermo-2021-04-14/new-videos/subject6.2_cam-F.avi Coordinates for cropping: None\n",
      "The outlier frames are extracted. They are stored in the subdirectory labeled-data\\subject6.2_cam-F.\n",
      "Once you extracted frames for all videos, use 'refine_labels' to manually correct the labels.\n",
      "Method  jump  found  1630  putative outlier frames.\n",
      "Do you want to proceed with extracting  5  of those?\n",
      "If this list is very large, perhaps consider changing the parameters (start, stop, p_bound, comparisonbodyparts) or use a different method.\n",
      "yes/noy\n"
     ]
    },
    {
     "name": "stderr",
     "output_type": "stream",
     "text": [
      "2it [00:00, 17.80it/s]"
     ]
    },
    {
     "name": "stdout",
     "output_type": "stream",
     "text": [
      "Loading video...\n",
      "Duration of video [s]:  17.63 , recorded @  100.0 fps!\n",
      "Overall # of frames:  1763 with (cropped) frame dimensions: \n",
      "Kmeans-quantization based extracting of frames from 0.0  seconds to 17.63  seconds.\n",
      "Extracting and downsampling... 1630  frames from the video.\n"
     ]
    },
    {
     "name": "stderr",
     "output_type": "stream",
     "text": [
      "1630it [06:17,  4.32it/s]\n"
     ]
    },
    {
     "name": "stdout",
     "output_type": "stream",
     "text": [
      "Kmeans clustering ... (this might take a while)\n",
      "Let's select frames indices: [781, 1677, 209, 1308, 5]\n",
      "Creating the symbolic link of the video\n",
      "AUTOMATIC ADDING OF VIDEO TO CONFIG FILE FAILED! You need to do this manually for including it in the config.yaml file!\n",
      "Videopath: D:/3DBHVR/FacialExpression_20210414/DLC-Guillermo-2021-04-14/new-videos/subject6_cam-A.avi Coordinates for cropping: None\n",
      "The outlier frames are extracted. They are stored in the subdirectory labeled-data\\subject6_cam-A.\n",
      "Once you extracted frames for all videos, use 'refine_labels' to manually correct the labels.\n",
      "Method  jump  found  1430  putative outlier frames.\n",
      "Do you want to proceed with extracting  5  of those?\n",
      "If this list is very large, perhaps consider changing the parameters (start, stop, p_bound, comparisonbodyparts) or use a different method.\n",
      "yes/noy\n"
     ]
    },
    {
     "name": "stderr",
     "output_type": "stream",
     "text": [
      "2it [00:00, 16.00it/s]"
     ]
    },
    {
     "name": "stdout",
     "output_type": "stream",
     "text": [
      "Loading video...\n",
      "Duration of video [s]:  17.57 , recorded @  100.0 fps!\n",
      "Overall # of frames:  1757 with (cropped) frame dimensions: \n",
      "Kmeans-quantization based extracting of frames from 0.0  seconds to 17.57  seconds.\n",
      "Extracting and downsampling... 1430  frames from the video.\n"
     ]
    },
    {
     "name": "stderr",
     "output_type": "stream",
     "text": [
      "1430it [06:16,  3.80it/s]\n"
     ]
    },
    {
     "name": "stdout",
     "output_type": "stream",
     "text": [
      "Kmeans clustering ... (this might take a while)\n",
      "Let's select frames indices: [250, 1740, 596, 57, 451]\n",
      "Creating the symbolic link of the video\n",
      "AUTOMATIC ADDING OF VIDEO TO CONFIG FILE FAILED! You need to do this manually for including it in the config.yaml file!\n",
      "Videopath: D:/3DBHVR/FacialExpression_20210414/DLC-Guillermo-2021-04-14/new-videos/subject6_cam-B.avi Coordinates for cropping: None\n",
      "The outlier frames are extracted. They are stored in the subdirectory labeled-data\\subject6_cam-B.\n",
      "Once you extracted frames for all videos, use 'refine_labels' to manually correct the labels.\n",
      "Method  jump  found  1662  putative outlier frames.\n",
      "Do you want to proceed with extracting  5  of those?\n",
      "If this list is very large, perhaps consider changing the parameters (start, stop, p_bound, comparisonbodyparts) or use a different method.\n",
      "yes/noy\n"
     ]
    },
    {
     "name": "stderr",
     "output_type": "stream",
     "text": [
      "2it [00:00, 17.95it/s]"
     ]
    },
    {
     "name": "stdout",
     "output_type": "stream",
     "text": [
      "Loading video...\n",
      "Duration of video [s]:  17.64 , recorded @  100.0 fps!\n",
      "Overall # of frames:  1764 with (cropped) frame dimensions: \n",
      "Kmeans-quantization based extracting of frames from 0.0  seconds to 17.64  seconds.\n",
      "Extracting and downsampling... 1662  frames from the video.\n"
     ]
    },
    {
     "name": "stderr",
     "output_type": "stream",
     "text": [
      "1662it [06:22,  4.34it/s]\n"
     ]
    },
    {
     "name": "stdout",
     "output_type": "stream",
     "text": [
      "Kmeans clustering ... (this might take a while)\n",
      "Let's select frames indices: [1152, 645, 282, 1314, 451]\n",
      "Creating the symbolic link of the video\n",
      "AUTOMATIC ADDING OF VIDEO TO CONFIG FILE FAILED! You need to do this manually for including it in the config.yaml file!\n",
      "Videopath: D:/3DBHVR/FacialExpression_20210414/DLC-Guillermo-2021-04-14/new-videos/subject6_cam-C.avi Coordinates for cropping: None\n",
      "The outlier frames are extracted. They are stored in the subdirectory labeled-data\\subject6_cam-C.\n",
      "Once you extracted frames for all videos, use 'refine_labels' to manually correct the labels.\n",
      "Method  jump  found  1503  putative outlier frames.\n",
      "Do you want to proceed with extracting  5  of those?\n",
      "If this list is very large, perhaps consider changing the parameters (start, stop, p_bound, comparisonbodyparts) or use a different method.\n",
      "yes/noy\n"
     ]
    },
    {
     "name": "stderr",
     "output_type": "stream",
     "text": [
      "2it [00:00, 15.62it/s]"
     ]
    },
    {
     "name": "stdout",
     "output_type": "stream",
     "text": [
      "Loading video...\n",
      "Duration of video [s]:  17.64 , recorded @  100.0 fps!\n",
      "Overall # of frames:  1764 with (cropped) frame dimensions: \n",
      "Kmeans-quantization based extracting of frames from 0.0  seconds to 17.64  seconds.\n",
      "Extracting and downsampling... 1503  frames from the video.\n"
     ]
    },
    {
     "name": "stderr",
     "output_type": "stream",
     "text": [
      "602it [02:43,  3.62it/s]"
     ]
    }
   ],
   "source": [
    "# userfeedback=False not working, you will have to respond to each extraction manually\n",
    "deeplabcut.extract_outlier_frames(path_config_file, new_videos)"
   ]
  },
  {
   "cell_type": "markdown",
   "id": "b9c226c7",
   "metadata": {},
   "source": [
    "Step 15: Refine labels in outlier frames "
   ]
  },
  {
   "cell_type": "code",
   "execution_count": null,
   "id": "1470c530",
   "metadata": {},
   "outputs": [],
   "source": [
    "deeplabcut.refine_labels(path_config_file)"
   ]
  },
  {
   "cell_type": "markdown",
   "id": "5e0a98df",
   "metadata": {},
   "source": [
    "Step 16: Merge datasets and re-train model"
   ]
  },
  {
   "cell_type": "code",
   "execution_count": null,
   "id": "ad50c8d3",
   "metadata": {},
   "outputs": [],
   "source": [
    "deeplabcut.merge_dataset(path_config_file)"
   ]
  },
  {
   "cell_type": "code",
   "execution_count": 5,
   "id": "72c265e9",
   "metadata": {},
   "outputs": [],
   "source": [
    "deeplabcut.create_training_dataset(path_config_file, net_type='resnet_50', augmenter_type='imgaug')"
   ]
  },
  {
   "cell_type": "code",
   "execution_count": null,
   "id": "58cc13a7",
   "metadata": {},
   "outputs": [],
   "source": [
    "deeplabcut.train_network(path_config_file, shuffle=1, displayiters=100, saveiters=100)"
   ]
  },
  {
   "cell_type": "markdown",
   "id": "d01885c8",
   "metadata": {},
   "source": [
    "Step 17: Working with the output files"
   ]
  },
  {
   "cell_type": "code",
   "execution_count": null,
   "id": "1b9e0e19",
   "metadata": {},
   "outputs": [],
   "source": [
    "# 3D scatterplot"
   ]
  }
 ],
 "metadata": {
  "kernelspec": {
   "display_name": "Python [conda env:DLC-GPU] *",
   "language": "python",
   "name": "conda-env-DLC-GPU-py"
  },
  "language_info": {
   "codemirror_mode": {
    "name": "ipython",
    "version": 3
   },
   "file_extension": ".py",
   "mimetype": "text/x-python",
   "name": "python",
   "nbconvert_exporter": "python",
   "pygments_lexer": "ipython3",
   "version": "3.7.10"
  }
 },
 "nbformat": 4,
 "nbformat_minor": 5
}
