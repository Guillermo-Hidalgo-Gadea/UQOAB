{
 "cells": [
  {
   "cell_type": "markdown",
   "id": "intensive-knife",
   "metadata": {
    "id": "intensive-knife"
   },
   "source": [
    "# Training your first DeepLabCut Model – A step by step example (Part II)\n",
    "\n",
    "This notebook is used as *part II* in the blogpost on [Training your first DeepLabCut Model – A step by step example](https://guillermohidalgogadea.com/openlabnotebook/training-your-first-dlc-model-/) to train a model in DLC without GPU access. To follow along it is assumed that you already created a DLC project with labeled data in [partI](https://github.com/Guillermo-Hidalgo-Gadea/UQOAB/blob/main/First%20DLC%20project/partI.ipynb) and uploaded the project to google drive.\n",
    "\n",
    "GPL-3.0 License Copyright (c) 2021 GuillermoHidalgoGadea.com"
   ]
  },
  {
   "cell_type": "markdown",
   "id": "KffKpebmMUBR",
   "metadata": {
    "id": "KffKpebmMUBR"
   },
   "source": [
    "## Migrating your DLC project to google colab for GPU access"
   ]
  },
  {
   "cell_type": "markdown",
   "id": "transsexual-mambo",
   "metadata": {
    "id": "transsexual-mambo"
   },
   "source": [
    "The great advantage of using Google Colab for cloud computing is that you get free access to a GPU to run your computationaly expensive data analysis. The downsides are that you need to link your google account to use google drive, you may run out of free cloud space and that your project directory paths will be changing every time you move your project to google drive and back.\n",
    "\n",
    "**Note**: Personally, I wouldn’t want to upload the data for the big scientific breackthrough on google drive before publishing. Google colab is a very good starting point to learn DeepLabCut before investing in expensive GPU upgrades, but this is not a recommendation to use google to save your data. Please use it at your own risk."
   ]
  },
  {
   "cell_type": "markdown",
   "id": "EpL5Z67nBRtI",
   "metadata": {
    "id": "EpL5Z67nBRtI"
   },
   "source": [
    "## 1) Colab Environment Configuration "
   ]
  },
  {
   "cell_type": "markdown",
   "id": "outside-explosion",
   "metadata": {
    "id": "outside-explosion"
   },
   "source": [
    "On the upper left in Google Colab select \"**Runtime**\", \"**change Runtime type**\", select \"**Python3**\" and \"**GPU**\" as hardware accelerator and click \"save\". \n"
   ]
  },
  {
   "cell_type": "markdown",
   "id": "HB6Zj9pZBzhI",
   "metadata": {
    "id": "HB6Zj9pZBzhI"
   },
   "source": [
    "Next, install deeplabcut, and at the bottom of the output restart Runtime (this may take a few minutes). "
   ]
  },
  {
   "cell_type": "code",
   "execution_count": null,
   "id": "romantic-oxide",
   "metadata": {
    "id": "romantic-oxide"
   },
   "outputs": [],
   "source": [
    "!pip install deeplabcut"
   ]
  },
  {
   "cell_type": "markdown",
   "id": "boysHDgjC0Aa",
   "metadata": {
    "id": "boysHDgjC0Aa"
   },
   "source": [
    "After restarting runtime, select tensorflow version < 2: "
   ]
  },
  {
   "cell_type": "code",
   "execution_count": null,
   "id": "EmLlAqzLYSzR",
   "metadata": {
    "id": "EmLlAqzLYSzR"
   },
   "outputs": [],
   "source": [
    "%tensorflow_version 1.x"
   ]
  },
  {
   "cell_type": "markdown",
   "id": "intended-cooperative",
   "metadata": {
    "id": "intended-cooperative"
   },
   "source": [
    "And make sure to import DeeplabCut in light mode, as cloud computing does not allow to use GUIs:"
   ]
  },
  {
   "cell_type": "code",
   "execution_count": 2,
   "id": "dominant-irrigation",
   "metadata": {
    "executionInfo": {
     "elapsed": 516,
     "status": "ok",
     "timestamp": 1615791743174,
     "user": {
      "displayName": "Guillermo Hidalgo Gadea",
      "photoUrl": "https://lh3.googleusercontent.com/a-/AOh14GikBx9q4Is3ryIDU1TKAhvop_Cj2LgQNDOlRJcVqQ=s64",
      "userId": "07356933705348787947"
     },
     "user_tz": -60
    },
    "id": "dominant-irrigation"
   },
   "outputs": [],
   "source": [
    "import os\n",
    "os.environ[\"DLClight\"]=\"True\""
   ]
  },
  {
   "cell_type": "code",
   "execution_count": null,
   "id": "TuYsLlcSYB6k",
   "metadata": {
    "id": "TuYsLlcSYB6k"
   },
   "outputs": [],
   "source": [
    "import deeplabcut"
   ]
  },
  {
   "cell_type": "markdown",
   "id": "japanese-estate",
   "metadata": {
    "id": "japanese-estate"
   },
   "source": [
    "Now you have to mount a valid google drive account to google colab. Follow the link provided to log in to google drive and copy paste the authentication code below:"
   ]
  },
  {
   "cell_type": "code",
   "execution_count": null,
   "id": "bronze-dance",
   "metadata": {
    "id": "bronze-dance"
   },
   "outputs": [],
   "source": [
    "from google.colab import drive\n",
    "drive.mount('/content/drive')"
   ]
  },
  {
   "cell_type": "markdown",
   "id": "accredited-disclosure",
   "metadata": {
    "id": "accredited-disclosure"
   },
   "source": [
    "Now the important part: Because we started the project in our local machine and then exported it to the cloud, all paths are messed up and need to be updated. \n",
    "\n",
    "After uploading your DLC project folder to google drive copy the project folder name to reconstruct the new project_path:"
   ]
  },
  {
   "cell_type": "code",
   "execution_count": null,
   "id": "Y6f-jxRh-a7D",
   "metadata": {
    "id": "Y6f-jxRh-a7D"
   },
   "outputs": [],
   "source": [
    "!ls \"/content/drive/MyDrive\"\n",
    "ProjectFolderName = 'Project Name'"
   ]
  },
  {
   "cell_type": "code",
   "execution_count": null,
   "id": "SM-4gdDdFTC0",
   "metadata": {
    "id": "SM-4gdDdFTC0"
   },
   "outputs": [],
   "source": [
    "project_path = '/content/drive/MyDrive/'+ ProjectFolderName\n",
    "videofile_path = ['/content/drive/MyDrive/'+ProjectFolderName+'/videos/']\n",
    "path_config_file = '/content/drive/MyDrive/'+ProjectFolderName+'/config.yaml'\n",
    "\n",
    "print('NEW project_path: ' + project_path)\n",
    "print('NEW path_config_file: ' + path_config_file)\n",
    "print('NEW videofile_path: ' + videofile_path[0])"
   ]
  },
  {
   "cell_type": "code",
   "execution_count": null,
   "id": "tiEA-LX4HUMd",
   "metadata": {
    "id": "tiEA-LX4HUMd"
   },
   "outputs": [],
   "source": [
    "# Enter your new project_path below \n",
    "!ls '/content/drive/MyDrive/Project Name'"
   ]
  },
  {
   "cell_type": "markdown",
   "id": "GIa_dZXvFvfh",
   "metadata": {
    "id": "GIa_dZXvFvfh"
   },
   "source": [
    "If you see the content of your DLC project listed in the output above (specially the config.yaml file), copy the new project_path to your project and paste it in the config.yaml file in google drive."
   ]
  },
  {
   "cell_type": "markdown",
   "id": "mhD6VxFYDOE0",
   "metadata": {
    "id": "mhD6VxFYDOE0"
   },
   "source": [
    "## 2) Training New DLC Model"
   ]
  },
  {
   "cell_type": "markdown",
   "id": "G-e3XF8kGueV",
   "metadata": {
    "id": "G-e3XF8kGueV"
   },
   "source": [
    "Create a training dataset from your labeled frames to train your model:"
   ]
  },
  {
   "cell_type": "code",
   "execution_count": null,
   "id": "functioning-resort",
   "metadata": {
    "id": "functioning-resort"
   },
   "outputs": [],
   "source": [
    "deeplabcut.create_training_dataset(path_config_file, net_type='resnet_50', augmenter_type='imgaug')"
   ]
  },
  {
   "cell_type": "markdown",
   "id": "t31EsEcmQD-d",
   "metadata": {
    "id": "t31EsEcmQD-d"
   },
   "source": [
    "### You are now officially ready to start training! \n",
    "\n",
    "Change displayiters to have more or less printed feedback and change saveiters to save the model at intermediate steps. \n",
    "\n",
    "**NOTE**: The training will run over several hours, usually over night or even over the weekend. Unfortunately, your google colab session will disconect after a few hours (limitations of free service). Saving the model at intermediate steps will reduce the amount of lost data and will allow you restart the training from the last saved point."
   ]
  },
  {
   "cell_type": "code",
   "execution_count": null,
   "id": "asian-merit",
   "metadata": {
    "id": "asian-merit"
   },
   "outputs": [],
   "source": [
    "deeplabcut.train_network(path_config_file, shuffle=1, displayiters=100, saveiters=100)"
   ]
  },
  {
   "cell_type": "markdown",
   "id": "JTdPl9Y4Ry5Z",
   "metadata": {
    "id": "JTdPl9Y4Ry5Z"
   },
   "source": [
    "## Evaluate your model"
   ]
  },
  {
   "cell_type": "code",
   "execution_count": null,
   "id": "elegant-healthcare",
   "metadata": {
    "id": "elegant-healthcare"
   },
   "outputs": [],
   "source": [
    "%matplotlib notebook\n",
    "deeplabcut.evaluate_network(path_config_file,plotting=True)"
   ]
  },
  {
   "cell_type": "markdown",
   "id": "9yDMwAOTR4zh",
   "metadata": {
    "id": "9yDMwAOTR4zh"
   },
   "source": [
    "## Restart Training\n",
    "\n",
    "Typically, you want to train for 50k - 200k iterations. If your colab session terminated before that, run a second training session starting from the last saved iteration.\n",
    "\n",
    "Find the *train* subdirectory within the dlc-models directory and look for the latest snapshot. Open the pose_cfg.yaml file within the same folder and edit the parameter **init_weights: '<full_path>-snapshot-10000'** without any filetype ending.\n",
    "\n",
    "When you restart training will be resumed from the las saved pretrained model. "
   ]
  },
  {
   "cell_type": "code",
   "execution_count": null,
   "id": "n_1xX9XVVSxu",
   "metadata": {
    "id": "n_1xX9XVVSxu"
   },
   "outputs": [],
   "source": [
    "deeplabcut.train_network(path_config_file, shuffle=1, displayiters=100, saveiters=100)"
   ]
  },
  {
   "cell_type": "markdown",
   "id": "7N_ZRIl1KwD2",
   "metadata": {
    "id": "7N_ZRIl1KwD2"
   },
   "source": [
    "## Migrating your DLC project back to your local machine"
   ]
  },
  {
   "cell_type": "markdown",
   "id": "NslyEl3kJIWy",
   "metadata": {
    "id": "NslyEl3kJIWy"
   },
   "source": [
    "Download the DLC project directory from google drive to your local machine and change the project_directory in the config.yaml file back."
   ]
  },
  {
   "cell_type": "markdown",
   "id": "p7PY-ymMJVjH",
   "metadata": {
    "id": "p7PY-ymMJVjH"
   },
   "source": [
    "Proceed with jupyter notebook [partI](https://github.com/Guillermo-Hidalgo-Gadea/UQOAB/blob/main/First%20DLC%20project/partI.ipynb)."
   ]
  }
 ],
 "metadata": {
  "accelerator": "GPU",
  "colab": {
   "collapsed_sections": [],
   "name": "Clock Deeplabcut project.ipynb",
   "provenance": [],
   "toc_visible": true
  },
  "kernelspec": {
   "display_name": "Python 3",
   "language": "python",
   "name": "python3"
  },
  "language_info": {
   "codemirror_mode": {
    "name": "ipython",
    "version": 3
   },
   "file_extension": ".py",
   "mimetype": "text/x-python",
   "name": "python",
   "nbconvert_exporter": "python",
   "pygments_lexer": "ipython3",
   "version": "3.7.10"
  }
 },
 "nbformat": 4,
 "nbformat_minor": 5
}
